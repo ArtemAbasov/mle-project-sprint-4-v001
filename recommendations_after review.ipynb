{
 "cells": [
  {
   "cell_type": "markdown",
   "id": "7741dcfe",
   "metadata": {},
   "source": [
    "Привет, Артем! \n",
    "\n",
    "Меня зовут Светлана Медведева и я буду проверять Твою работу. Предлагаю общаться на \"ты\". Если Тебе такой вариант не удобен, то пожалуйста дай знать. Я сразу перейду на \"Вы\".\n",
    "\n",
    "При обнаружении у Тебя в работе ошибки, в первый раз я лишь укажу на ее наличие и у Тебя будет возможность самому найти её и исправить. В реальной работе твой начальник будет поступать также, а я пытаюсь подготовить тебя именно к работе Data Scientist. Однако, если ты пока не справишься с такой задачей - при следующей проверке я дам более точную подсказку.\n",
    "\n",
    "Просьба при доработке работы оставлять мои комментарии без изменений.\n",
    "\n",
    "Комментарии я разделяю на следующие категории:\n",
    "\n",
    "<div class=\"alert alert-block alert-success\">\n",
    "<h2> Комментарий ревьюера ✔️</h2>\n",
    "    \n",
    "В случае если всё верно!\n",
    "</div>\n",
    "\n",
    "\n",
    "<div class=\"alert alert-block alert-warning\">\n",
    "<h2> Комментарий ревьюера ⚠️</h2>\n",
    "    \n",
    "В случае если можно что-то доработать, но эта доработка не критична или если есть варианты улучшения работы.\n",
    "</div>\n",
    "\n",
    "<div class=\"alert alert-block alert-danger\">\n",
    "<h2> Комментарий ревьюера ❌</h2>\n",
    "    \n",
    "Замечания, которые нужно исправить. Без исправления этих замечаний проект принят не может быть.\n",
    "</div>\n",
    "\n",
    "\n",
    "<div class=\"alert alert-block alert-info\">\n",
    "Дополнительные материалы, выходящие за рамки программы.\n",
    "</div>\n",
    "\n",
    "## Ревью v. 1:\n",
    "\n",
    "У Тебя в целом хорошая работа, но нужно внести исправления) Молодец, что сформулировал детальный итоговый вывод по проекту, но былобы здорово добавить рекомендации по улучшению качества модели.\n",
    "\n",
    "Жду проект на проверку:)\n",
    "\n",
    "Успехов!"
   ]
  },
  {
   "cell_type": "markdown",
   "id": "f4095ae4-7294-4b28-853e-88d235002c97",
   "metadata": {},
   "source": [
    "# Инициализация"
   ]
  },
  {
   "cell_type": "markdown",
   "id": "2f2318d2-9df8-4911-915e-15b725c44f8a",
   "metadata": {},
   "source": [
    "Загружаем библиотеки необходимые для выполнения кода ноутбука."
   ]
  },
  {
   "cell_type": "code",
   "execution_count": 1,
   "id": "662d04e7-1b0b-4e4a-9ddf-4526d7fef119",
   "metadata": {},
   "outputs": [],
   "source": [
    "# Стандартная библиотека\n",
    "import os\n",
    "\n",
    "# Сторонние библиотеки\n",
    "import boto3\n",
    "import matplotlib.pyplot as plt\n",
    "import numpy as np\n",
    "import pandas as pd\n",
    "from botocore.client import Config\n",
    "from botocore.exceptions import NoCredentialsError, PartialCredentialsError\n",
    "from dotenv import load_dotenv"
   ]
  },
  {
   "cell_type": "markdown",
   "id": "b0a850d0",
   "metadata": {},
   "source": [
    "<div class=\"alert alert-block alert-warning\">\n",
    "<h2> Комментарий ревьюера ⚠️</h2>\n",
    "    \n",
    "В соответствии с правилами оформления кода PEP8 импорты должны быть сгруппированы в следующем порядке:\n",
    "* импорты из стандартной библиотеки\n",
    "* импорты сторонних библиотек\n",
    "* импорты модулей текущего проекта\n",
    "\n",
    "Рекомендуется добавлять пустую строку между каждой группой импортов.\n",
    "\n",
    "Подробные правила можно посмотреть: https://pythonworld.ru/osnovy/pep-8-rukovodstvo-po-napisaniyu-koda-na-python.html#section-8\n",
    "</div>"
   ]
  },
  {
   "cell_type": "markdown",
   "id": "bf80fbc5-b660-4fac-8fbb-a5cae77313b3",
   "metadata": {},
   "source": [
    "# === ЭТАП 1 ==="
   ]
  },
  {
   "cell_type": "markdown",
   "id": "5263a8b3-fe99-4204-8a2e-105182792c11",
   "metadata": {},
   "source": [
    "# Загрузка первичных данных"
   ]
  },
  {
   "cell_type": "markdown",
   "id": "1b54a6a5-1656-4e3c-99d1-49dc39451d33",
   "metadata": {},
   "source": [
    "Загружаем первичные данные из файлов:\n",
    "- tracks.parquet\n",
    "- catalog_names.parquet\n",
    "- interactions.parquet"
   ]
  },
  {
   "cell_type": "code",
   "execution_count": 2,
   "id": "5d4b8961-3f35-4e58-9d6b-3e2dbd2c4224",
   "metadata": {},
   "outputs": [],
   "source": [
    "# Загружаем данные из файлов .parquet\n",
    "tracks_df = pd.read_parquet('tracks.parquet')\n",
    "catalog_names_df = pd.read_parquet('catalog_names.parquet')\n",
    "interactions_df = pd.read_parquet('interactions.parquet')"
   ]
  },
  {
   "cell_type": "markdown",
   "id": "626061d6",
   "metadata": {},
   "source": [
    "<div class=\"alert alert-block alert-success\">\n",
    "<h2> Комментарий ревьюера ✔️</h2>\n",
    "    \n",
    "Ок, данные загружены.\n",
    "</div>"
   ]
  },
  {
   "cell_type": "code",
   "execution_count": 3,
   "id": "70f7bdfe-175c-45c1-a2e9-d99f0f33be2e",
   "metadata": {},
   "outputs": [
    {
     "name": "stdout",
     "output_type": "stream",
     "text": [
      "   track_id                                             albums artists  \\\n",
      "0        26                                       [3, 2490753]    [16]   \n",
      "1        38                                       [3, 2490753]    [16]   \n",
      "2       135                                 [12, 214, 2490809]    [84]   \n",
      "3       136                                 [12, 214, 2490809]    [84]   \n",
      "4       138  [12, 214, 322, 72275, 72292, 91199, 213505, 24...    [84]   \n",
      "\n",
      "     genres  \n",
      "0  [11, 21]  \n",
      "1  [11, 21]  \n",
      "2      [11]  \n",
      "3      [11]  \n",
      "4      [11]   \n",
      " (1000000, 4)\n"
     ]
    }
   ],
   "source": [
    "track_df = pd.DataFrame(tracks_df)\n",
    "print(track_df.head(), \"\\n\", track_df.shape)"
   ]
  },
  {
   "cell_type": "code",
   "execution_count": 4,
   "id": "eb96e409-fef2-4ac6-99cf-b166d50b1998",
   "metadata": {},
   "outputs": [
    {
     "name": "stdout",
     "output_type": "stream",
     "text": [
      "   id   type               name\n",
      "0   3  album    Taller Children\n",
      "1  12  album  Wild Young Hearts\n",
      "2  13  album      Lonesome Crow\n",
      "3  17  album      Graffiti Soul\n",
      "4  26  album     Blues Six Pack \n",
      " (1812471, 3)\n"
     ]
    }
   ],
   "source": [
    "catalog_names_df = pd.DataFrame(catalog_names_df)\n",
    "print(catalog_names_df.head(), \"\\n\", catalog_names_df.shape)"
   ]
  },
  {
   "cell_type": "code",
   "execution_count": 5,
   "id": "44ab51c5-6f24-4771-aadb-2e1edf0920a1",
   "metadata": {},
   "outputs": [
    {
     "name": "stdout",
     "output_type": "stream",
     "text": [
      "   user_id  track_id  track_seq started_at\n",
      "0        0     99262          1 2022-07-17\n",
      "1        0    589498          2 2022-07-19\n",
      "2        0    590262          3 2022-07-21\n",
      "3        0    590303          4 2022-07-22\n",
      "4        0    590692          5 2022-07-22 \n",
      " (222629898, 4)\n"
     ]
    }
   ],
   "source": [
    "interactions_df = pd.DataFrame(interactions_df)\n",
    "print(interactions_df.head(), \"\\n\", interactions_df.shape)"
   ]
  },
  {
   "cell_type": "code",
   "execution_count": 6,
   "id": "baea52ef-bae6-4c44-8aef-ecf243977058",
   "metadata": {},
   "outputs": [
    {
     "data": {
      "text/html": [
       "<div>\n",
       "<style scoped>\n",
       "    .dataframe tbody tr th:only-of-type {\n",
       "        vertical-align: middle;\n",
       "    }\n",
       "\n",
       "    .dataframe tbody tr th {\n",
       "        vertical-align: top;\n",
       "    }\n",
       "\n",
       "    .dataframe thead th {\n",
       "        text-align: right;\n",
       "    }\n",
       "</style>\n",
       "<table border=\"1\" class=\"dataframe\">\n",
       "  <thead>\n",
       "    <tr style=\"text-align: right;\">\n",
       "      <th></th>\n",
       "      <th>track_id</th>\n",
       "      <th>albums</th>\n",
       "      <th>artists</th>\n",
       "      <th>genres</th>\n",
       "    </tr>\n",
       "  </thead>\n",
       "  <tbody>\n",
       "    <tr>\n",
       "      <th>0</th>\n",
       "      <td>26</td>\n",
       "      <td>[3, 2490753]</td>\n",
       "      <td>[16]</td>\n",
       "      <td>[11, 21]</td>\n",
       "    </tr>\n",
       "    <tr>\n",
       "      <th>1</th>\n",
       "      <td>38</td>\n",
       "      <td>[3, 2490753]</td>\n",
       "      <td>[16]</td>\n",
       "      <td>[11, 21]</td>\n",
       "    </tr>\n",
       "    <tr>\n",
       "      <th>2</th>\n",
       "      <td>135</td>\n",
       "      <td>[12, 214, 2490809]</td>\n",
       "      <td>[84]</td>\n",
       "      <td>[11]</td>\n",
       "    </tr>\n",
       "    <tr>\n",
       "      <th>3</th>\n",
       "      <td>136</td>\n",
       "      <td>[12, 214, 2490809]</td>\n",
       "      <td>[84]</td>\n",
       "      <td>[11]</td>\n",
       "    </tr>\n",
       "    <tr>\n",
       "      <th>4</th>\n",
       "      <td>138</td>\n",
       "      <td>[12, 214, 322, 72275, 72292, 91199, 213505, 24...</td>\n",
       "      <td>[84]</td>\n",
       "      <td>[11]</td>\n",
       "    </tr>\n",
       "  </tbody>\n",
       "</table>\n",
       "</div>"
      ],
      "text/plain": [
       "   track_id                                             albums artists  \\\n",
       "0        26                                       [3, 2490753]    [16]   \n",
       "1        38                                       [3, 2490753]    [16]   \n",
       "2       135                                 [12, 214, 2490809]    [84]   \n",
       "3       136                                 [12, 214, 2490809]    [84]   \n",
       "4       138  [12, 214, 322, 72275, 72292, 91199, 213505, 24...    [84]   \n",
       "\n",
       "     genres  \n",
       "0  [11, 21]  \n",
       "1  [11, 21]  \n",
       "2      [11]  \n",
       "3      [11]  \n",
       "4      [11]  "
      ]
     },
     "execution_count": 6,
     "metadata": {},
     "output_type": "execute_result"
    }
   ],
   "source": [
    "track_df.head()"
   ]
  },
  {
   "cell_type": "code",
   "execution_count": 7,
   "id": "1fde30fb-4b3d-473a-aedf-6f02a4f5efb0",
   "metadata": {},
   "outputs": [
    {
     "data": {
      "text/html": [
       "<div>\n",
       "<style scoped>\n",
       "    .dataframe tbody tr th:only-of-type {\n",
       "        vertical-align: middle;\n",
       "    }\n",
       "\n",
       "    .dataframe tbody tr th {\n",
       "        vertical-align: top;\n",
       "    }\n",
       "\n",
       "    .dataframe thead th {\n",
       "        text-align: right;\n",
       "    }\n",
       "</style>\n",
       "<table border=\"1\" class=\"dataframe\">\n",
       "  <thead>\n",
       "    <tr style=\"text-align: right;\">\n",
       "      <th></th>\n",
       "      <th>id</th>\n",
       "      <th>type</th>\n",
       "      <th>name</th>\n",
       "    </tr>\n",
       "  </thead>\n",
       "  <tbody>\n",
       "    <tr>\n",
       "      <th>0</th>\n",
       "      <td>3</td>\n",
       "      <td>album</td>\n",
       "      <td>Taller Children</td>\n",
       "    </tr>\n",
       "    <tr>\n",
       "      <th>1</th>\n",
       "      <td>12</td>\n",
       "      <td>album</td>\n",
       "      <td>Wild Young Hearts</td>\n",
       "    </tr>\n",
       "    <tr>\n",
       "      <th>2</th>\n",
       "      <td>13</td>\n",
       "      <td>album</td>\n",
       "      <td>Lonesome Crow</td>\n",
       "    </tr>\n",
       "    <tr>\n",
       "      <th>3</th>\n",
       "      <td>17</td>\n",
       "      <td>album</td>\n",
       "      <td>Graffiti Soul</td>\n",
       "    </tr>\n",
       "    <tr>\n",
       "      <th>4</th>\n",
       "      <td>26</td>\n",
       "      <td>album</td>\n",
       "      <td>Blues Six Pack</td>\n",
       "    </tr>\n",
       "  </tbody>\n",
       "</table>\n",
       "</div>"
      ],
      "text/plain": [
       "   id   type               name\n",
       "0   3  album    Taller Children\n",
       "1  12  album  Wild Young Hearts\n",
       "2  13  album      Lonesome Crow\n",
       "3  17  album      Graffiti Soul\n",
       "4  26  album     Blues Six Pack"
      ]
     },
     "execution_count": 7,
     "metadata": {},
     "output_type": "execute_result"
    }
   ],
   "source": [
    "catalog_names_df.head()"
   ]
  },
  {
   "cell_type": "code",
   "execution_count": 8,
   "id": "59ca07b2-29fb-473b-b053-6498b973a56f",
   "metadata": {},
   "outputs": [
    {
     "data": {
      "text/html": [
       "<div>\n",
       "<style scoped>\n",
       "    .dataframe tbody tr th:only-of-type {\n",
       "        vertical-align: middle;\n",
       "    }\n",
       "\n",
       "    .dataframe tbody tr th {\n",
       "        vertical-align: top;\n",
       "    }\n",
       "\n",
       "    .dataframe thead th {\n",
       "        text-align: right;\n",
       "    }\n",
       "</style>\n",
       "<table border=\"1\" class=\"dataframe\">\n",
       "  <thead>\n",
       "    <tr style=\"text-align: right;\">\n",
       "      <th></th>\n",
       "      <th>user_id</th>\n",
       "      <th>track_id</th>\n",
       "      <th>track_seq</th>\n",
       "      <th>started_at</th>\n",
       "    </tr>\n",
       "  </thead>\n",
       "  <tbody>\n",
       "    <tr>\n",
       "      <th>0</th>\n",
       "      <td>0</td>\n",
       "      <td>99262</td>\n",
       "      <td>1</td>\n",
       "      <td>2022-07-17</td>\n",
       "    </tr>\n",
       "    <tr>\n",
       "      <th>1</th>\n",
       "      <td>0</td>\n",
       "      <td>589498</td>\n",
       "      <td>2</td>\n",
       "      <td>2022-07-19</td>\n",
       "    </tr>\n",
       "    <tr>\n",
       "      <th>2</th>\n",
       "      <td>0</td>\n",
       "      <td>590262</td>\n",
       "      <td>3</td>\n",
       "      <td>2022-07-21</td>\n",
       "    </tr>\n",
       "    <tr>\n",
       "      <th>3</th>\n",
       "      <td>0</td>\n",
       "      <td>590303</td>\n",
       "      <td>4</td>\n",
       "      <td>2022-07-22</td>\n",
       "    </tr>\n",
       "    <tr>\n",
       "      <th>4</th>\n",
       "      <td>0</td>\n",
       "      <td>590692</td>\n",
       "      <td>5</td>\n",
       "      <td>2022-07-22</td>\n",
       "    </tr>\n",
       "  </tbody>\n",
       "</table>\n",
       "</div>"
      ],
      "text/plain": [
       "   user_id  track_id  track_seq started_at\n",
       "0        0     99262          1 2022-07-17\n",
       "1        0    589498          2 2022-07-19\n",
       "2        0    590262          3 2022-07-21\n",
       "3        0    590303          4 2022-07-22\n",
       "4        0    590692          5 2022-07-22"
      ]
     },
     "execution_count": 8,
     "metadata": {},
     "output_type": "execute_result"
    }
   ],
   "source": [
    "interactions_df.head()"
   ]
  },
  {
   "cell_type": "markdown",
   "id": "e8f2a1f7-a05f-4f39-af90-5f4018aa6f9d",
   "metadata": {},
   "source": [
    "# Обзор данных"
   ]
  },
  {
   "cell_type": "markdown",
   "id": "46a85307-896c-4fac-9fcf-f0dffa90889e",
   "metadata": {},
   "source": [
    "Проверяем данные, есть ли с ними явные проблемы."
   ]
  },
  {
   "cell_type": "markdown",
   "id": "94d8f584-a6a3-4b56-a1d4-c531ec3217f8",
   "metadata": {},
   "source": [
    "<h3> Посмотрим track_df </h3>"
   ]
  },
  {
   "cell_type": "code",
   "execution_count": 9,
   "id": "efd2e2eb-3bec-4ce1-87ac-232bab8bc0d0",
   "metadata": {},
   "outputs": [
    {
     "name": "stdout",
     "output_type": "stream",
     "text": [
      "Пропущено: жанров - 3687, исполнителей - 15369, альбомов - 18\n"
     ]
    }
   ],
   "source": [
    "genres_omissions = len(track_df[(track_df['genres'].str.len() == 0)])\n",
    "artists_omissions = len(track_df[(track_df['artists'].str.len() == 0)])\n",
    "albums_omissions = len(track_df[(track_df['albums'].str.len() == 0)])\n",
    "print(f\"Пропущено: жанров - {genres_omissions}, исполнителей - {artists_omissions}, альбомов - {albums_omissions}\")"
   ]
  },
  {
   "cell_type": "code",
   "execution_count": 10,
   "id": "04ad989d-04ef-4ce0-a4ca-3ca051b40205",
   "metadata": {},
   "outputs": [
    {
     "name": "stdout",
     "output_type": "stream",
     "text": [
      "Оставшиеся строки после удаления пропусков: 980977, это 1.9%\n"
     ]
    }
   ],
   "source": [
    "# Удалить строки, где в столбцах 'genres', 'artists' или 'albums' нет данных\n",
    "track_df = track_df[(track_df['genres'].str.len() > 0) & \n",
    "                            (track_df['artists'].str.len() > 0) & \n",
    "                            (track_df['albums'].str.len() > 0)]\n",
    "\n",
    "# Вывод количества оставшихся строк\n",
    "print(f\"Оставшиеся строки после удаления пропусков: {len(track_df)}, это {round((1-len(track_df)/1000000)*100,2)}%\")"
   ]
  },
  {
   "cell_type": "markdown",
   "id": "ec715193",
   "metadata": {},
   "source": [
    "<div class=\"alert alert-block alert-success\">\n",
    "<h2> Комментарий ревьюера ✔️</h2>\n",
    "    \n",
    "Да, данных с пропусками немного и их можно удалить, так как достоверно заполнить пропуски проблематично.\n",
    "</div>"
   ]
  },
  {
   "cell_type": "markdown",
   "id": "64a25fc5-50df-4ae0-ba64-8f0919e7672d",
   "metadata": {},
   "source": [
    "<h3> Посмотрим catalog_names_df </h3>"
   ]
  },
  {
   "cell_type": "code",
   "execution_count": 15,
   "id": "ec6184f9-3756-4b71-acc9-0ba91ce56212",
   "metadata": {},
   "outputs": [
    {
     "data": {
      "text/html": [
       "<div>\n",
       "<style scoped>\n",
       "    .dataframe tbody tr th:only-of-type {\n",
       "        vertical-align: middle;\n",
       "    }\n",
       "\n",
       "    .dataframe tbody tr th {\n",
       "        vertical-align: top;\n",
       "    }\n",
       "\n",
       "    .dataframe thead th {\n",
       "        text-align: right;\n",
       "    }\n",
       "</style>\n",
       "<table border=\"1\" class=\"dataframe\">\n",
       "  <thead>\n",
       "    <tr style=\"text-align: right;\">\n",
       "      <th></th>\n",
       "      <th>id</th>\n",
       "      <th>type</th>\n",
       "      <th>name</th>\n",
       "    </tr>\n",
       "  </thead>\n",
       "  <tbody>\n",
       "    <tr>\n",
       "      <th>0</th>\n",
       "      <td>3</td>\n",
       "      <td>album</td>\n",
       "      <td>Taller Children</td>\n",
       "    </tr>\n",
       "    <tr>\n",
       "      <th>1</th>\n",
       "      <td>12</td>\n",
       "      <td>album</td>\n",
       "      <td>Wild Young Hearts</td>\n",
       "    </tr>\n",
       "    <tr>\n",
       "      <th>2</th>\n",
       "      <td>13</td>\n",
       "      <td>album</td>\n",
       "      <td>Lonesome Crow</td>\n",
       "    </tr>\n",
       "    <tr>\n",
       "      <th>3</th>\n",
       "      <td>17</td>\n",
       "      <td>album</td>\n",
       "      <td>Graffiti Soul</td>\n",
       "    </tr>\n",
       "    <tr>\n",
       "      <th>4</th>\n",
       "      <td>26</td>\n",
       "      <td>album</td>\n",
       "      <td>Blues Six Pack</td>\n",
       "    </tr>\n",
       "  </tbody>\n",
       "</table>\n",
       "</div>"
      ],
      "text/plain": [
       "   id   type               name\n",
       "0   3  album    Taller Children\n",
       "1  12  album  Wild Young Hearts\n",
       "2  13  album      Lonesome Crow\n",
       "3  17  album      Graffiti Soul\n",
       "4  26  album     Blues Six Pack"
      ]
     },
     "execution_count": 15,
     "metadata": {},
     "output_type": "execute_result"
    }
   ],
   "source": [
    "catalog_names_df.head()"
   ]
  },
  {
   "cell_type": "code",
   "execution_count": 16,
   "id": "48d71e7e-59a7-4c57-af99-c5b47ab092dd",
   "metadata": {},
   "outputs": [
    {
     "data": {
      "text/plain": [
       "<bound method NDFrame.describe of                 id   type               name\n",
       "0                3  album    Taller Children\n",
       "1               12  album  Wild Young Hearts\n",
       "2               13  album      Lonesome Crow\n",
       "3               17  album      Graffiti Soul\n",
       "4               26  album     Blues Six Pack\n",
       "...            ...    ...                ...\n",
       "1812466  101478482  track            На лицо\n",
       "1812467  101490148  track    Без капли мысли\n",
       "1812468  101493057  track           SKITTLES\n",
       "1812469  101495927  track             Москва\n",
       "1812470  101521819  track             Вокзал\n",
       "\n",
       "[1812471 rows x 3 columns]>"
      ]
     },
     "execution_count": 16,
     "metadata": {},
     "output_type": "execute_result"
    }
   ],
   "source": [
    "catalog_names_df.describe"
   ]
  },
  {
   "cell_type": "code",
   "execution_count": 17,
   "id": "cf8ce107-ffc7-4788-8eeb-c690c47ff180",
   "metadata": {},
   "outputs": [
    {
     "name": "stdout",
     "output_type": "stream",
     "text": [
      "\n",
      "Количество пропущенных значений:\n",
      "id      0\n",
      "type    0\n",
      "name    0\n",
      "dtype: int64\n"
     ]
    }
   ],
   "source": [
    "print(\"\\nКоличество пропущенных значений:\")\n",
    "print(catalog_names_df.isna().sum())"
   ]
  },
  {
   "cell_type": "code",
   "execution_count": 18,
   "id": "4ed9d883-6197-4bfa-9770-b1a5c85740fb",
   "metadata": {},
   "outputs": [
    {
     "data": {
      "text/plain": [
       "35774"
      ]
     },
     "execution_count": 18,
     "metadata": {},
     "output_type": "execute_result"
    }
   ],
   "source": [
    "catalog_names_df['id'].duplicated().sum()"
   ]
  },
  {
   "cell_type": "markdown",
   "id": "fbedc2db-15fc-4318-8b53-3d150a55ed40",
   "metadata": {},
   "source": [
    "есть дубли"
   ]
  },
  {
   "cell_type": "code",
   "execution_count": 19,
   "id": "ed0db279-c626-41bd-a4f6-fd9165a6d2f4",
   "metadata": {},
   "outputs": [
    {
     "name": "stdout",
     "output_type": "stream",
     "text": [
      "\n",
      "Уникальные значения для столбца 'type':\n",
      "['album' 'artist' 'genre' 'track']\n"
     ]
    }
   ],
   "source": [
    "print(\"\\nУникальные значения для столбца 'type':\")\n",
    "print(catalog_names_df['type'].unique())"
   ]
  },
  {
   "cell_type": "code",
   "execution_count": 20,
   "id": "f957467a-2ef6-441e-855e-1f15278545fd",
   "metadata": {},
   "outputs": [
    {
     "name": "stdout",
     "output_type": "stream",
     "text": [
      "\n",
      "Уникальные значения для столбца 'name':\n",
      "['Taller Children' 'Wild Young Hearts' 'Lonesome Crow' ... 'АУТО'\n",
      " 'Аккаунт удалён' 'tendril']\n"
     ]
    }
   ],
   "source": [
    "print(\"\\nУникальные значения для столбца 'name':\")\n",
    "print(catalog_names_df['name'].unique())"
   ]
  },
  {
   "cell_type": "code",
   "execution_count": 21,
   "id": "22eec5cc-aa36-41c6-8d35-4a11e212724a",
   "metadata": {},
   "outputs": [
    {
     "name": "stdout",
     "output_type": "stream",
     "text": [
      "               id    type                                       name\n",
      "812308          3   genre                                     rusrap\n",
      "0               3   album                            Taller Children\n",
      "812309          4   genre                                   postrock\n",
      "658724          4  artist                               Kenny Dorham\n",
      "658725          5  artist                                  Max Roach\n",
      "...           ...     ...                                        ...\n",
      "1141114  21321251   track                                Lady in Red\n",
      "1141142  21327491   track                               Waiting Here\n",
      "658146   21327491   album  Lay With Me The Ultimate Fantasy Playlist\n",
      "658501   21388828   album                             Serata Sanremo\n",
      "1141665  21388828   track                                      Devil\n",
      "\n",
      "[70418 rows x 3 columns]\n"
     ]
    }
   ],
   "source": [
    "# Найдем строки с дубликатами по столбцу 'id' и отсортируем их по 'id'\n",
    "duplicates_by_id = catalog_names_df[catalog_names_df.duplicated(subset='id', keep=False)]\n",
    "duplicates_by_id_sorted = duplicates_by_id.sort_values(by='id')\n",
    "\n",
    "print(duplicates_by_id_sorted)"
   ]
  },
  {
   "cell_type": "markdown",
   "id": "793e21ec-3b66-4e0c-abe9-39e32e968b69",
   "metadata": {},
   "source": [
    "Разделим на разные таблицы 'album' 'artist' 'genre' 'track'"
   ]
  },
  {
   "cell_type": "code",
   "execution_count": 22,
   "id": "77c8cc69-fa75-4a74-a54f-5c726a1d6318",
   "metadata": {},
   "outputs": [
    {
     "data": {
      "text/html": [
       "<div>\n",
       "<style scoped>\n",
       "    .dataframe tbody tr th:only-of-type {\n",
       "        vertical-align: middle;\n",
       "    }\n",
       "\n",
       "    .dataframe tbody tr th {\n",
       "        vertical-align: top;\n",
       "    }\n",
       "\n",
       "    .dataframe thead th {\n",
       "        text-align: right;\n",
       "    }\n",
       "</style>\n",
       "<table border=\"1\" class=\"dataframe\">\n",
       "  <thead>\n",
       "    <tr style=\"text-align: right;\">\n",
       "      <th></th>\n",
       "      <th>id</th>\n",
       "      <th>type</th>\n",
       "      <th>name</th>\n",
       "    </tr>\n",
       "  </thead>\n",
       "  <tbody>\n",
       "    <tr>\n",
       "      <th>0</th>\n",
       "      <td>3</td>\n",
       "      <td>album</td>\n",
       "      <td>Taller Children</td>\n",
       "    </tr>\n",
       "    <tr>\n",
       "      <th>1</th>\n",
       "      <td>12</td>\n",
       "      <td>album</td>\n",
       "      <td>Wild Young Hearts</td>\n",
       "    </tr>\n",
       "    <tr>\n",
       "      <th>2</th>\n",
       "      <td>13</td>\n",
       "      <td>album</td>\n",
       "      <td>Lonesome Crow</td>\n",
       "    </tr>\n",
       "    <tr>\n",
       "      <th>3</th>\n",
       "      <td>17</td>\n",
       "      <td>album</td>\n",
       "      <td>Graffiti Soul</td>\n",
       "    </tr>\n",
       "    <tr>\n",
       "      <th>4</th>\n",
       "      <td>26</td>\n",
       "      <td>album</td>\n",
       "      <td>Blues Six Pack</td>\n",
       "    </tr>\n",
       "  </tbody>\n",
       "</table>\n",
       "</div>"
      ],
      "text/plain": [
       "   id   type               name\n",
       "0   3  album    Taller Children\n",
       "1  12  album  Wild Young Hearts\n",
       "2  13  album      Lonesome Crow\n",
       "3  17  album      Graffiti Soul\n",
       "4  26  album     Blues Six Pack"
      ]
     },
     "execution_count": 22,
     "metadata": {},
     "output_type": "execute_result"
    }
   ],
   "source": [
    "album = catalog_names_df[catalog_names_df['type'] == 'album']\n",
    "album.head()"
   ]
  },
  {
   "cell_type": "markdown",
   "id": "1ce79b9f",
   "metadata": {},
   "source": [
    "<div class=\"alert alert-block alert-warning\">\n",
    "<h2> Комментарий ревьюера ⚠️</h2>\n",
    "    \n",
    "Рекомендую не выводить все строки датафрейма, так как это загромождает вывод данных и перегружает ядро ноутбука. Достаточно вывести несколько первых, последних или случайно выбранных строк датафрейма.\n",
    "</div>"
   ]
  },
  {
   "cell_type": "code",
   "execution_count": 23,
   "id": "c72ed79f-f150-435b-b46d-8297d6f3f3aa",
   "metadata": {},
   "outputs": [
    {
     "data": {
      "text/html": [
       "<div>\n",
       "<style scoped>\n",
       "    .dataframe tbody tr th:only-of-type {\n",
       "        vertical-align: middle;\n",
       "    }\n",
       "\n",
       "    .dataframe tbody tr th {\n",
       "        vertical-align: top;\n",
       "    }\n",
       "\n",
       "    .dataframe thead th {\n",
       "        text-align: right;\n",
       "    }\n",
       "</style>\n",
       "<table border=\"1\" class=\"dataframe\">\n",
       "  <thead>\n",
       "    <tr style=\"text-align: right;\">\n",
       "      <th></th>\n",
       "      <th>id</th>\n",
       "      <th>type</th>\n",
       "      <th>name</th>\n",
       "    </tr>\n",
       "  </thead>\n",
       "  <tbody>\n",
       "    <tr>\n",
       "      <th>658724</th>\n",
       "      <td>4</td>\n",
       "      <td>artist</td>\n",
       "      <td>Kenny Dorham</td>\n",
       "    </tr>\n",
       "    <tr>\n",
       "      <th>658725</th>\n",
       "      <td>5</td>\n",
       "      <td>artist</td>\n",
       "      <td>Max Roach</td>\n",
       "    </tr>\n",
       "    <tr>\n",
       "      <th>658726</th>\n",
       "      <td>7</td>\n",
       "      <td>artist</td>\n",
       "      <td>Francis Rossi</td>\n",
       "    </tr>\n",
       "    <tr>\n",
       "      <th>658727</th>\n",
       "      <td>9</td>\n",
       "      <td>artist</td>\n",
       "      <td>Status Quo</td>\n",
       "    </tr>\n",
       "    <tr>\n",
       "      <th>658728</th>\n",
       "      <td>12</td>\n",
       "      <td>artist</td>\n",
       "      <td>Phil Everly</td>\n",
       "    </tr>\n",
       "  </tbody>\n",
       "</table>\n",
       "</div>"
      ],
      "text/plain": [
       "        id    type           name\n",
       "658724   4  artist   Kenny Dorham\n",
       "658725   5  artist      Max Roach\n",
       "658726   7  artist  Francis Rossi\n",
       "658727   9  artist     Status Quo\n",
       "658728  12  artist    Phil Everly"
      ]
     },
     "execution_count": 23,
     "metadata": {},
     "output_type": "execute_result"
    }
   ],
   "source": [
    "artist = catalog_names_df[catalog_names_df['type'] == 'artist']\n",
    "artist.head()"
   ]
  },
  {
   "cell_type": "code",
   "execution_count": 24,
   "id": "fd4d9c5b-6a68-412d-a484-56ae7739e26f",
   "metadata": {},
   "outputs": [
    {
     "data": {
      "text/html": [
       "<div>\n",
       "<style scoped>\n",
       "    .dataframe tbody tr th:only-of-type {\n",
       "        vertical-align: middle;\n",
       "    }\n",
       "\n",
       "    .dataframe tbody tr th {\n",
       "        vertical-align: top;\n",
       "    }\n",
       "\n",
       "    .dataframe thead th {\n",
       "        text-align: right;\n",
       "    }\n",
       "</style>\n",
       "<table border=\"1\" class=\"dataframe\">\n",
       "  <thead>\n",
       "    <tr style=\"text-align: right;\">\n",
       "      <th></th>\n",
       "      <th>id</th>\n",
       "      <th>type</th>\n",
       "      <th>name</th>\n",
       "    </tr>\n",
       "  </thead>\n",
       "  <tbody>\n",
       "    <tr>\n",
       "      <th>812305</th>\n",
       "      <td>0</td>\n",
       "      <td>genre</td>\n",
       "      <td>all</td>\n",
       "    </tr>\n",
       "    <tr>\n",
       "      <th>812306</th>\n",
       "      <td>1</td>\n",
       "      <td>genre</td>\n",
       "      <td>eastern</td>\n",
       "    </tr>\n",
       "    <tr>\n",
       "      <th>812307</th>\n",
       "      <td>2</td>\n",
       "      <td>genre</td>\n",
       "      <td>rusrock</td>\n",
       "    </tr>\n",
       "    <tr>\n",
       "      <th>812308</th>\n",
       "      <td>3</td>\n",
       "      <td>genre</td>\n",
       "      <td>rusrap</td>\n",
       "    </tr>\n",
       "    <tr>\n",
       "      <th>812309</th>\n",
       "      <td>4</td>\n",
       "      <td>genre</td>\n",
       "      <td>postrock</td>\n",
       "    </tr>\n",
       "  </tbody>\n",
       "</table>\n",
       "</div>"
      ],
      "text/plain": [
       "        id   type      name\n",
       "812305   0  genre       all\n",
       "812306   1  genre   eastern\n",
       "812307   2  genre   rusrock\n",
       "812308   3  genre    rusrap\n",
       "812309   4  genre  postrock"
      ]
     },
     "execution_count": 24,
     "metadata": {},
     "output_type": "execute_result"
    }
   ],
   "source": [
    "genre = catalog_names_df[catalog_names_df['type'] == 'genre']\n",
    "genre.head()"
   ]
  },
  {
   "cell_type": "code",
   "execution_count": 59,
   "id": "5757fa17-cce0-4fa6-96a4-2b44eb6f64e1",
   "metadata": {},
   "outputs": [],
   "source": [
    "genre.to_parquet('genres.parquet')"
   ]
  },
  {
   "cell_type": "code",
   "execution_count": 25,
   "id": "491385ae-e471-47df-814b-05397a553f4b",
   "metadata": {},
   "outputs": [
    {
     "data": {
      "text/html": [
       "<div>\n",
       "<style scoped>\n",
       "    .dataframe tbody tr th:only-of-type {\n",
       "        vertical-align: middle;\n",
       "    }\n",
       "\n",
       "    .dataframe tbody tr th {\n",
       "        vertical-align: top;\n",
       "    }\n",
       "\n",
       "    .dataframe thead th {\n",
       "        text-align: right;\n",
       "    }\n",
       "</style>\n",
       "<table border=\"1\" class=\"dataframe\">\n",
       "  <thead>\n",
       "    <tr style=\"text-align: right;\">\n",
       "      <th></th>\n",
       "      <th>id</th>\n",
       "      <th>type</th>\n",
       "      <th>name</th>\n",
       "    </tr>\n",
       "  </thead>\n",
       "  <tbody>\n",
       "    <tr>\n",
       "      <th>812471</th>\n",
       "      <td>26</td>\n",
       "      <td>track</td>\n",
       "      <td>Complimentary Me</td>\n",
       "    </tr>\n",
       "    <tr>\n",
       "      <th>812472</th>\n",
       "      <td>38</td>\n",
       "      <td>track</td>\n",
       "      <td>Momma's Boy</td>\n",
       "    </tr>\n",
       "    <tr>\n",
       "      <th>812473</th>\n",
       "      <td>135</td>\n",
       "      <td>track</td>\n",
       "      <td>Atticus</td>\n",
       "    </tr>\n",
       "    <tr>\n",
       "      <th>812474</th>\n",
       "      <td>136</td>\n",
       "      <td>track</td>\n",
       "      <td>24 Hours</td>\n",
       "    </tr>\n",
       "    <tr>\n",
       "      <th>812475</th>\n",
       "      <td>138</td>\n",
       "      <td>track</td>\n",
       "      <td>Don't Upset The Rhythm (Go Baby Go)</td>\n",
       "    </tr>\n",
       "  </tbody>\n",
       "</table>\n",
       "</div>"
      ],
      "text/plain": [
       "         id   type                                 name\n",
       "812471   26  track                     Complimentary Me\n",
       "812472   38  track                          Momma's Boy\n",
       "812473  135  track                              Atticus\n",
       "812474  136  track                             24 Hours\n",
       "812475  138  track  Don't Upset The Rhythm (Go Baby Go)"
      ]
     },
     "execution_count": 25,
     "metadata": {},
     "output_type": "execute_result"
    }
   ],
   "source": [
    "track = catalog_names_df[catalog_names_df['type'] == 'track']\n",
    "track.head()"
   ]
  },
  {
   "cell_type": "code",
   "execution_count": 26,
   "id": "dad3cbcf-d4ca-42b2-a340-89d2d1ad01fd",
   "metadata": {},
   "outputs": [
    {
     "data": {
      "text/html": [
       "<div>\n",
       "<style scoped>\n",
       "    .dataframe tbody tr th:only-of-type {\n",
       "        vertical-align: middle;\n",
       "    }\n",
       "\n",
       "    .dataframe tbody tr th {\n",
       "        vertical-align: top;\n",
       "    }\n",
       "\n",
       "    .dataframe thead th {\n",
       "        text-align: right;\n",
       "    }\n",
       "</style>\n",
       "<table border=\"1\" class=\"dataframe\">\n",
       "  <thead>\n",
       "    <tr style=\"text-align: right;\">\n",
       "      <th></th>\n",
       "      <th>id</th>\n",
       "      <th>type</th>\n",
       "      <th>name</th>\n",
       "    </tr>\n",
       "  </thead>\n",
       "  <tbody>\n",
       "    <tr>\n",
       "      <th>925200</th>\n",
       "      <td>1710520</td>\n",
       "      <td>track</td>\n",
       "      <td>!</td>\n",
       "    </tr>\n",
       "    <tr>\n",
       "      <th>1256428</th>\n",
       "      <td>31015987</td>\n",
       "      <td>track</td>\n",
       "      <td>-</td>\n",
       "    </tr>\n",
       "    <tr>\n",
       "      <th>1397711</th>\n",
       "      <td>40377624</td>\n",
       "      <td>track</td>\n",
       "      <td>!</td>\n",
       "    </tr>\n",
       "    <tr>\n",
       "      <th>1490613</th>\n",
       "      <td>49256430</td>\n",
       "      <td>track</td>\n",
       "      <td>-</td>\n",
       "    </tr>\n",
       "    <tr>\n",
       "      <th>1555859</th>\n",
       "      <td>56098412</td>\n",
       "      <td>track</td>\n",
       "      <td>!</td>\n",
       "    </tr>\n",
       "    <tr>\n",
       "      <th>1555860</th>\n",
       "      <td>56098413</td>\n",
       "      <td>track</td>\n",
       "      <td>!</td>\n",
       "    </tr>\n",
       "  </tbody>\n",
       "</table>\n",
       "</div>"
      ],
      "text/plain": [
       "               id   type name\n",
       "925200    1710520  track    !\n",
       "1256428  31015987  track    -\n",
       "1397711  40377624  track    !\n",
       "1490613  49256430  track    -\n",
       "1555859  56098412  track    !\n",
       "1555860  56098413  track    !"
      ]
     },
     "execution_count": 26,
     "metadata": {},
     "output_type": "execute_result"
    }
   ],
   "source": [
    "track[(track['name']=='-') | (track['name']=='!') | (track['name'].isna()) | (track['name']=='')]"
   ]
  },
  {
   "cell_type": "code",
   "execution_count": 27,
   "id": "826cfef6-e5e7-4051-b39b-1a325cd6b7f3",
   "metadata": {},
   "outputs": [
    {
     "data": {
      "text/plain": [
       "1000000"
      ]
     },
     "execution_count": 27,
     "metadata": {},
     "output_type": "execute_result"
    }
   ],
   "source": [
    "len(track['name'].duplicated())"
   ]
  },
  {
   "cell_type": "code",
   "execution_count": 28,
   "id": "614b9142-0c7f-428d-8a99-94acdb6535b5",
   "metadata": {},
   "outputs": [
    {
     "data": {
      "text/html": [
       "<div>\n",
       "<style scoped>\n",
       "    .dataframe tbody tr th:only-of-type {\n",
       "        vertical-align: middle;\n",
       "    }\n",
       "\n",
       "    .dataframe tbody tr th {\n",
       "        vertical-align: top;\n",
       "    }\n",
       "\n",
       "    .dataframe thead th {\n",
       "        text-align: right;\n",
       "    }\n",
       "</style>\n",
       "<table border=\"1\" class=\"dataframe\">\n",
       "  <thead>\n",
       "    <tr style=\"text-align: right;\">\n",
       "      <th></th>\n",
       "      <th>id</th>\n",
       "      <th>type</th>\n",
       "      <th>name</th>\n",
       "    </tr>\n",
       "  </thead>\n",
       "  <tbody>\n",
       "    <tr>\n",
       "      <th>131744</th>\n",
       "      <td>2081150</td>\n",
       "      <td>album</td>\n",
       "      <td>!</td>\n",
       "    </tr>\n",
       "    <tr>\n",
       "      <th>135571</th>\n",
       "      <td>2154090</td>\n",
       "      <td>album</td>\n",
       "      <td>!</td>\n",
       "    </tr>\n",
       "    <tr>\n",
       "      <th>425113</th>\n",
       "      <td>8276982</td>\n",
       "      <td>album</td>\n",
       "      <td>!</td>\n",
       "    </tr>\n",
       "    <tr>\n",
       "      <th>425114</th>\n",
       "      <td>8276983</td>\n",
       "      <td>album</td>\n",
       "      <td>!</td>\n",
       "    </tr>\n",
       "    <tr>\n",
       "      <th>425241</th>\n",
       "      <td>8287692</td>\n",
       "      <td>album</td>\n",
       "      <td>!</td>\n",
       "    </tr>\n",
       "    <tr>\n",
       "      <th>425243</th>\n",
       "      <td>8287712</td>\n",
       "      <td>album</td>\n",
       "      <td>!</td>\n",
       "    </tr>\n",
       "    <tr>\n",
       "      <th>427432</th>\n",
       "      <td>8379799</td>\n",
       "      <td>album</td>\n",
       "      <td>!</td>\n",
       "    </tr>\n",
       "    <tr>\n",
       "      <th>427433</th>\n",
       "      <td>8379800</td>\n",
       "      <td>album</td>\n",
       "      <td>!</td>\n",
       "    </tr>\n",
       "  </tbody>\n",
       "</table>\n",
       "</div>"
      ],
      "text/plain": [
       "             id   type name\n",
       "131744  2081150  album    !\n",
       "135571  2154090  album    !\n",
       "425113  8276982  album    !\n",
       "425114  8276983  album    !\n",
       "425241  8287692  album    !\n",
       "425243  8287712  album    !\n",
       "427432  8379799  album    !\n",
       "427433  8379800  album    !"
      ]
     },
     "execution_count": 28,
     "metadata": {},
     "output_type": "execute_result"
    }
   ],
   "source": [
    "album[(album['name']=='-') | (album['name']=='!') | (album['name'].isna()) | (album['name']=='')]"
   ]
  },
  {
   "cell_type": "code",
   "execution_count": 29,
   "id": "29be9f86-7877-42d8-bcae-e2a3c66eb2de",
   "metadata": {},
   "outputs": [
    {
     "data": {
      "text/plain": [
       "id       int64\n",
       "type    object\n",
       "name    object\n",
       "dtype: object"
      ]
     },
     "execution_count": 29,
     "metadata": {},
     "output_type": "execute_result"
    }
   ],
   "source": [
    "artist.dtypes"
   ]
  },
  {
   "cell_type": "code",
   "execution_count": 30,
   "id": "d6b82cd3-2656-42c0-914c-ee476aac4985",
   "metadata": {},
   "outputs": [
    {
     "data": {
      "text/html": [
       "<div>\n",
       "<style scoped>\n",
       "    .dataframe tbody tr th:only-of-type {\n",
       "        vertical-align: middle;\n",
       "    }\n",
       "\n",
       "    .dataframe tbody tr th {\n",
       "        vertical-align: top;\n",
       "    }\n",
       "\n",
       "    .dataframe thead th {\n",
       "        text-align: right;\n",
       "    }\n",
       "</style>\n",
       "<table border=\"1\" class=\"dataframe\">\n",
       "  <thead>\n",
       "    <tr style=\"text-align: right;\">\n",
       "      <th></th>\n",
       "      <th>id</th>\n",
       "      <th>type</th>\n",
       "      <th>name</th>\n",
       "    </tr>\n",
       "  </thead>\n",
       "  <tbody>\n",
       "    <tr>\n",
       "      <th>786980</th>\n",
       "      <td>7709071</td>\n",
       "      <td>artist</td>\n",
       "      <td>!</td>\n",
       "    </tr>\n",
       "  </tbody>\n",
       "</table>\n",
       "</div>"
      ],
      "text/plain": [
       "             id    type name\n",
       "786980  7709071  artist    !"
      ]
     },
     "execution_count": 30,
     "metadata": {},
     "output_type": "execute_result"
    }
   ],
   "source": [
    "artist[(artist['name']=='-') | (artist['name']=='!') | (artist['name'].isna()) | (artist['name']=='')]"
   ]
  },
  {
   "cell_type": "code",
   "execution_count": 32,
   "id": "2adb2bc2-eb12-4a29-88d0-ea6bda41725a",
   "metadata": {},
   "outputs": [
    {
     "data": {
      "text/html": [
       "<div>\n",
       "<style scoped>\n",
       "    .dataframe tbody tr th:only-of-type {\n",
       "        vertical-align: middle;\n",
       "    }\n",
       "\n",
       "    .dataframe tbody tr th {\n",
       "        vertical-align: top;\n",
       "    }\n",
       "\n",
       "    .dataframe thead th {\n",
       "        text-align: right;\n",
       "    }\n",
       "</style>\n",
       "<table border=\"1\" class=\"dataframe\">\n",
       "  <thead>\n",
       "    <tr style=\"text-align: right;\">\n",
       "      <th></th>\n",
       "      <th>id</th>\n",
       "      <th>type</th>\n",
       "      <th>name</th>\n",
       "    </tr>\n",
       "  </thead>\n",
       "  <tbody>\n",
       "    <tr>\n",
       "      <th>789830</th>\n",
       "      <td>8159030</td>\n",
       "      <td>artist</td>\n",
       "      <td>104</td>\n",
       "    </tr>\n",
       "    <tr>\n",
       "      <th>765915</th>\n",
       "      <td>5489695</td>\n",
       "      <td>artist</td>\n",
       "      <td>104</td>\n",
       "    </tr>\n",
       "    <tr>\n",
       "      <th>809426</th>\n",
       "      <td>12579396</td>\n",
       "      <td>artist</td>\n",
       "      <td>163ONMYNECK</td>\n",
       "    </tr>\n",
       "    <tr>\n",
       "      <th>782986</th>\n",
       "      <td>7194299</td>\n",
       "      <td>artist</td>\n",
       "      <td>163ONMYNECK</td>\n",
       "    </tr>\n",
       "    <tr>\n",
       "      <th>808052</th>\n",
       "      <td>11811861</td>\n",
       "      <td>artist</td>\n",
       "      <td>22</td>\n",
       "    </tr>\n",
       "  </tbody>\n",
       "</table>\n",
       "</div>"
      ],
      "text/plain": [
       "              id    type         name\n",
       "789830   8159030  artist          104\n",
       "765915   5489695  artist          104\n",
       "809426  12579396  artist  163ONMYNECK\n",
       "782986   7194299  artist  163ONMYNECK\n",
       "808052  11811861  artist           22"
      ]
     },
     "execution_count": 32,
     "metadata": {},
     "output_type": "execute_result"
    }
   ],
   "source": [
    "artist[artist.duplicated(subset='name', keep=False)].sort_values(by='name').head()"
   ]
  },
  {
   "cell_type": "code",
   "execution_count": 33,
   "id": "ee8a174e-58bc-49e8-9f4e-9af42ac34f28",
   "metadata": {},
   "outputs": [
    {
     "data": {
      "text/html": [
       "<div>\n",
       "<style scoped>\n",
       "    .dataframe tbody tr th:only-of-type {\n",
       "        vertical-align: middle;\n",
       "    }\n",
       "\n",
       "    .dataframe tbody tr th {\n",
       "        vertical-align: top;\n",
       "    }\n",
       "\n",
       "    .dataframe thead th {\n",
       "        text-align: right;\n",
       "    }\n",
       "</style>\n",
       "<table border=\"1\" class=\"dataframe\">\n",
       "  <thead>\n",
       "    <tr style=\"text-align: right;\">\n",
       "      <th></th>\n",
       "      <th>id</th>\n",
       "      <th>type</th>\n",
       "      <th>name</th>\n",
       "    </tr>\n",
       "  </thead>\n",
       "  <tbody>\n",
       "  </tbody>\n",
       "</table>\n",
       "</div>"
      ],
      "text/plain": [
       "Empty DataFrame\n",
       "Columns: [id, type, name]\n",
       "Index: []"
      ]
     },
     "execution_count": 33,
     "metadata": {},
     "output_type": "execute_result"
    }
   ],
   "source": [
    "genre[(genre['name']=='-') | (genre['name']=='!') | (genre['name'].isna()) | (genre['name']=='')]"
   ]
  },
  {
   "cell_type": "markdown",
   "id": "c1f8a4d8-5ac9-42b6-8afa-b7f5e56b0a7a",
   "metadata": {},
   "source": [
    "<h3> Посмотрим interactions_df </h3>"
   ]
  },
  {
   "cell_type": "code",
   "execution_count": 29,
   "id": "f9e60559-7d0b-4fe3-aabc-0f8672176f47",
   "metadata": {},
   "outputs": [
    {
     "data": {
      "text/plain": [
       "user_id                int32\n",
       "track_id               int32\n",
       "track_seq              int16\n",
       "started_at    datetime64[ns]\n",
       "dtype: object"
      ]
     },
     "execution_count": 29,
     "metadata": {},
     "output_type": "execute_result"
    }
   ],
   "source": [
    "interactions_df.dtypes"
   ]
  },
  {
   "cell_type": "code",
   "execution_count": 30,
   "id": "ab71f0ea-39f7-48ef-befe-e7d3980513c6",
   "metadata": {},
   "outputs": [
    {
     "name": "stdout",
     "output_type": "stream",
     "text": [
      "2022-01-01 00:00:00 2022-12-31 00:00:00\n"
     ]
    }
   ],
   "source": [
    "print(interactions_df['started_at'].min(), interactions_df['started_at'].max())"
   ]
  },
  {
   "cell_type": "code",
   "execution_count": 31,
   "id": "a9229e58-c9f3-4611-8ba2-8a78731f9c29",
   "metadata": {},
   "outputs": [],
   "source": [
    "# удалим нулевых пользователей\n",
    "interactions_df = interactions_df[interactions_df['user_id'] != 0].reset_index(drop=True)"
   ]
  },
  {
   "cell_type": "markdown",
   "id": "318b573a-9e2d-4808-95db-60cfb8bbdb73",
   "metadata": {
    "slideshow": {
     "slide_type": ""
    },
    "tags": []
   },
   "source": [
    "# Выводы"
   ]
  },
  {
   "cell_type": "markdown",
   "id": "caa96e12-36a8-4401-8f11-98627a49ae9d",
   "metadata": {},
   "source": [
    "Приведём выводы по первому знакомству с данными:\n",
    "- есть ли с данными явные проблемы,\n",
    "- какие корректирующие действия (в целом) были предприняты."
   ]
  },
  {
   "cell_type": "markdown",
   "id": "edaa7720-3286-48bc-ae34-c3c741279c01",
   "metadata": {},
   "source": [
    "В таблице tracks_df есть пропуски: Пропущено: жанров - 3687, исполнителей - 15369, альбомов - 18\n",
    "1 млн треков - эту проблему сразу устранили\n",
    "\n",
    "В таблице catalog_names_df id не уникальные, поэтому для удобстава разбивает на отдельные таблицы справочники альбом, исполнитель, жанр, трек.\n",
    "Есть альбомы, треки и исполнители без указанного name, вместо name '-' или '!'\n",
    "в артист есть дубли - 4192 шт\n",
    "\n",
    "большая таблица взаимодействий interactions_df, за 22год"
   ]
  },
  {
   "cell_type": "markdown",
   "id": "f36af12c",
   "metadata": {},
   "source": [
    "<div class=\"alert alert-block alert-success\">\n",
    "<h2> Комментарий ревьюера ✔️</h2>\n",
    "    \n",
    "Отлично, данные проанализированы и предобработаны и теперь можно переходить к следующим этапам проекта.\n",
    "</div>"
   ]
  },
  {
   "cell_type": "code",
   "execution_count": null,
   "id": "9eb65c5c-3c2a-412a-ab7e-30ec9da54fea",
   "metadata": {},
   "outputs": [],
   "source": []
  },
  {
   "cell_type": "markdown",
   "id": "7bc3296b-eba6-4333-a78d-b9304aa87e3d",
   "metadata": {},
   "source": [
    "# === ЭТАП 2 ==="
   ]
  },
  {
   "cell_type": "markdown",
   "id": "68e73960-fd38-4e15-8db0-9a25c35dfd25",
   "metadata": {},
   "source": [
    "# EDA"
   ]
  },
  {
   "cell_type": "markdown",
   "id": "a30e823e-8e0f-4a76-a02e-8d1ba8bf0f8a",
   "metadata": {},
   "source": [
    "Распределение количества прослушанных треков."
   ]
  },
  {
   "cell_type": "code",
   "execution_count": 34,
   "id": "4199b9ec-7bb3-498e-8e44-0a17925ca610",
   "metadata": {},
   "outputs": [
    {
     "data": {
      "image/png": "[encoded data removed]",
      "text/plain": [
       "<Figure size 1200x400 with 1 Axes>"
      ]
     },
     "metadata": {},
     "output_type": "display_data"
    }
   ],
   "source": [
    "interactions_df.groupby(\"user_id\").agg(a=(\"track_id\", \"count\"))['a'].hist(bins=100, figsize=(12, 4))\n",
    "plt.xlabel(\"Количество прослушиваний\")\n",
    "plt.ylabel(\"Частота\")\n",
    "plt.title(\"Распределение количества прослушиваний треков на пользователя (все данные)\")\n",
    "plt.show()"
   ]
  },
  {
   "cell_type": "markdown",
   "id": "674742ae-6214-4200-adca-95fcc69d6ff8",
   "metadata": {},
   "source": [
    "Есть аномальные значения выбросы, отсечем их"
   ]
  },
  {
   "cell_type": "code",
   "execution_count": 35,
   "id": "c0bd027f-7c69-47b7-a324-d636addf3f40",
   "metadata": {},
   "outputs": [
    {
     "data": {
      "image/png": "[encoded data removed]",
      "text/plain": [
       "<Figure size 1200x400 with 1 Axes>"
      ]
     },
     "metadata": {},
     "output_type": "display_data"
    }
   ],
   "source": [
    "interactions_df.groupby(\"user_id\").agg(a=(\"track_id\", \"count\")).query('a < 1000')['a'].hist(bins=100, figsize=(12, 4))\n",
    "plt.xlabel(\"Количество прослушиваний\")\n",
    "plt.ylabel(\"Частота\")\n",
    "plt.title(\"Распределение количества прослушиваний треков на пользователя (без аномальных значений)\")\n",
    "plt.show()"
   ]
  },
  {
   "cell_type": "markdown",
   "id": "fe998e09-7b93-4bdc-91fe-abbaf17c8b5d",
   "metadata": {},
   "source": [
    "Основная часть пользователей прослушивает треки в более узком диапазоне, что может свидетельствовать о типичном поведении большинства.\n",
    "\n",
    "Наличие аномальных значений (пользователи, которые слушают особенно много) может исказить анализ, если они не исключены."
   ]
  },
  {
   "cell_type": "markdown",
   "id": "594091a3",
   "metadata": {},
   "source": [
    "<div class=\"alert alert-block alert-danger\">\n",
    "<h2> Комментарий ревьюера ❌</h2>\n",
    "    \n",
    "Молодец, что построил гистограммы распределений, но их нужно проанализировать и добавить подписи по осям и заголовки к графикам. Анализ графиков и формулировка выводов это важная часть работы)\n",
    "</div>"
   ]
  },
  {
   "cell_type": "markdown",
   "id": "d765519a-18dd-4d30-9e29-cc2d84cacd79",
   "metadata": {},
   "source": [
    "Наиболее популярные треки"
   ]
  },
  {
   "cell_type": "code",
   "execution_count": 37,
   "id": "4293186e-411b-4569-b789-9b81bfd46b54",
   "metadata": {},
   "outputs": [
    {
     "data": {
      "text/html": [
       "<div>\n",
       "<style scoped>\n",
       "    .dataframe tbody tr th:only-of-type {\n",
       "        vertical-align: middle;\n",
       "    }\n",
       "\n",
       "    .dataframe tbody tr th {\n",
       "        vertical-align: top;\n",
       "    }\n",
       "\n",
       "    .dataframe thead th {\n",
       "        text-align: right;\n",
       "    }\n",
       "</style>\n",
       "<table border=\"1\" class=\"dataframe\">\n",
       "  <thead>\n",
       "    <tr style=\"text-align: right;\">\n",
       "      <th></th>\n",
       "      <th>track_id</th>\n",
       "      <th>name</th>\n",
       "      <th>listen_count</th>\n",
       "    </tr>\n",
       "  </thead>\n",
       "  <tbody>\n",
       "    <tr>\n",
       "      <th>0</th>\n",
       "      <td>53404</td>\n",
       "      <td>Smells Like Teen Spirit</td>\n",
       "      <td>111062</td>\n",
       "    </tr>\n",
       "    <tr>\n",
       "      <th>1</th>\n",
       "      <td>33311009</td>\n",
       "      <td>Believer</td>\n",
       "      <td>106921</td>\n",
       "    </tr>\n",
       "    <tr>\n",
       "      <th>2</th>\n",
       "      <td>178529</td>\n",
       "      <td>Numb</td>\n",
       "      <td>101924</td>\n",
       "    </tr>\n",
       "    <tr>\n",
       "      <th>3</th>\n",
       "      <td>35505245</td>\n",
       "      <td>I Got Love</td>\n",
       "      <td>99490</td>\n",
       "    </tr>\n",
       "    <tr>\n",
       "      <th>4</th>\n",
       "      <td>65851540</td>\n",
       "      <td>Юность</td>\n",
       "      <td>86670</td>\n",
       "    </tr>\n",
       "  </tbody>\n",
       "</table>\n",
       "</div>"
      ],
      "text/plain": [
       "   track_id                     name  listen_count\n",
       "0     53404  Smells Like Teen Spirit        111062\n",
       "1  33311009                 Believer        106921\n",
       "2    178529                     Numb        101924\n",
       "3  35505245               I Got Love         99490\n",
       "4  65851540                   Юность         86670"
      ]
     },
     "execution_count": 37,
     "metadata": {},
     "output_type": "execute_result"
    }
   ],
   "source": [
    "# Группируем по 'track_id' и считаем количество прослушиваний\n",
    "track_popularity = interactions_df.pivot_table(index='track_id', aggfunc='size').reset_index(name='listen_count') # изменил на .pivot_table\n",
    "\n",
    "# Сортируем по количеству прослушиваний (по убыванию)\n",
    "top_tracks = track_popularity.sort_values(by='listen_count', ascending=False)\n",
    "\n",
    "merged_df = pd.merge(top_tracks, track, left_on='track_id', right_on='id', how='left')\n",
    "merged_df = merged_df[['track_id', 'name', 'listen_count']]\n",
    "merged_df.head()"
   ]
  },
  {
   "cell_type": "markdown",
   "id": "962075ea",
   "metadata": {},
   "source": [
    "<div class=\"alert alert-block alert-success\">\n",
    "<h2> Комментарий ревьюера ✔️</h2>\n",
    "    \n",
    "Ты верно использовал `.groupby()`. Но часто удобным вариантов для создания сводной таблицы является .pivot_table, так как предоставляет большие возможности по формированию сводной таблицы.\n",
    "    \n",
    "Подробнее про создание сводных таблиц с помощью .pivot_table написано в https://dfedorov.spb.ru/pandas/%D0%A1%D0%B2%D0%BE%D0%B4%D0%BD%D0%B0%D1%8F%20%D1%82%D0%B0%D0%B1%D0%BB%D0%B8%D1%86%D0%B0%20%D0%B2%20pandas.html\n",
    "</div>"
   ]
  },
  {
   "cell_type": "markdown",
   "id": "b1c32a5a-d3be-4f96-8dd9-f7860951020c",
   "metadata": {},
   "source": [
    "Наиболее популярные жанры"
   ]
  },
  {
   "cell_type": "code",
   "execution_count": 47,
   "id": "eb555c20-d54f-4064-95ac-bca17038d02f",
   "metadata": {},
   "outputs": [
    {
     "name": "stdout",
     "output_type": "stream",
     "text": [
      "                               name     count\n",
      "10                              pop  55578305\n",
      "9                               rap  37799813\n",
      "4                           allrock  31092012\n",
      "11                           ruspop  26626236\n",
      "7                   Taller Children  25303687\n",
      "..                              ...       ...\n",
      "264           In A Perfect World...        54\n",
      "265                  It All Depends        54\n",
      "266                             NaN        30\n",
      "267                    B Is For Bob        30\n",
      "268  In Search Of The Peace Of Mind        30\n",
      "\n",
      "[270 rows x 2 columns]\n"
     ]
    }
   ],
   "source": [
    "# Подсчитаем количество прослушиваний для каждого трека\n",
    "track_counts = interactions_df['track_id'].value_counts()\n",
    "\n",
    "# Подсчитаем количество прослушиваний для каждого жанра\n",
    "genre_counts = {}\n",
    "\n",
    "for track_id, count in track_counts.items():\n",
    "    genres1 = tracks_df.loc[tracks_df['track_id'] == track_id, 'genres'].values\n",
    "    if len(genres1) > 0:\n",
    "        for genre_id in genres1[0]:\n",
    "            if genre_id not in genre_counts:\n",
    "                genre_counts[genre_id] = 0\n",
    "            genre_counts[genre_id] += count\n",
    "\n",
    "# Создаем DataFrame с подсчетом популярности жанров\n",
    "genre_counts_df = pd.DataFrame(list(genre_counts.items()), columns=['id', 'count'])\n",
    "\n",
    "# Объединяем с названием жанров\n",
    "genre_popularity = genre_counts_df.merge(catalog_names_df, on='id', how='left')\n",
    "\n",
    "# Сортируем и отображаем\n",
    "genre_popularity = genre_popularity.sort_values(by='count', ascending=False)\n",
    "print(genre_popularity[['name', 'count']])"
   ]
  },
  {
   "cell_type": "markdown",
   "id": "15254e66-e80e-473b-ba24-abebea5ccac7",
   "metadata": {},
   "source": [
    "Треки, которые никто не прослушал"
   ]
  },
  {
   "cell_type": "code",
   "execution_count": 48,
   "id": "50bc50c6-2d83-4c7e-97fa-3e7627978438",
   "metadata": {},
   "outputs": [
    {
     "data": {
      "text/html": [
       "<div>\n",
       "<style scoped>\n",
       "    .dataframe tbody tr th:only-of-type {\n",
       "        vertical-align: middle;\n",
       "    }\n",
       "\n",
       "    .dataframe tbody tr th {\n",
       "        vertical-align: top;\n",
       "    }\n",
       "\n",
       "    .dataframe thead th {\n",
       "        text-align: right;\n",
       "    }\n",
       "</style>\n",
       "<table border=\"1\" class=\"dataframe\">\n",
       "  <thead>\n",
       "    <tr style=\"text-align: right;\">\n",
       "      <th></th>\n",
       "      <th>track_id</th>\n",
       "      <th>albums</th>\n",
       "      <th>artists</th>\n",
       "      <th>genres</th>\n",
       "    </tr>\n",
       "  </thead>\n",
       "  <tbody>\n",
       "  </tbody>\n",
       "</table>\n",
       "</div>"
      ],
      "text/plain": [
       "Empty DataFrame\n",
       "Columns: [track_id, albums, artists, genres]\n",
       "Index: []"
      ]
     },
     "execution_count": 48,
     "metadata": {},
     "output_type": "execute_result"
    }
   ],
   "source": [
    "unlistened_tracks = tracks_df[~tracks_df['track_id'].isin(interactions_df['track_id'])]\n",
    "\n",
    "unlistened_tracks"
   ]
  },
  {
   "cell_type": "markdown",
   "id": "7bb26be2",
   "metadata": {},
   "source": [
    "<div class=\"alert alert-block alert-success\">\n",
    "<h2> Комментарий ревьюера ✔️</h2>\n",
    "    \n",
    "Да, треков, которые никто не прослушал в данных нет, как в общем-то и должно быть.\n",
    "</div>"
   ]
  },
  {
   "cell_type": "code",
   "execution_count": 49,
   "id": "23bfc484-5505-480b-8d7d-019672ea3719",
   "metadata": {},
   "outputs": [
    {
     "data": {
      "text/html": [
       "<div>\n",
       "<style scoped>\n",
       "    .dataframe tbody tr th:only-of-type {\n",
       "        vertical-align: middle;\n",
       "    }\n",
       "\n",
       "    .dataframe tbody tr th {\n",
       "        vertical-align: top;\n",
       "    }\n",
       "\n",
       "    .dataframe thead th {\n",
       "        text-align: right;\n",
       "    }\n",
       "</style>\n",
       "<table border=\"1\" class=\"dataframe\">\n",
       "  <thead>\n",
       "    <tr style=\"text-align: right;\">\n",
       "      <th></th>\n",
       "      <th>track_id</th>\n",
       "      <th>albums</th>\n",
       "      <th>artists</th>\n",
       "      <th>genres</th>\n",
       "    </tr>\n",
       "  </thead>\n",
       "  <tbody>\n",
       "    <tr>\n",
       "      <th>0</th>\n",
       "      <td>26</td>\n",
       "      <td>[3, 2490753]</td>\n",
       "      <td>[16]</td>\n",
       "      <td>[11, 21]</td>\n",
       "    </tr>\n",
       "    <tr>\n",
       "      <th>1</th>\n",
       "      <td>38</td>\n",
       "      <td>[3, 2490753]</td>\n",
       "      <td>[16]</td>\n",
       "      <td>[11, 21]</td>\n",
       "    </tr>\n",
       "    <tr>\n",
       "      <th>2</th>\n",
       "      <td>135</td>\n",
       "      <td>[12, 214, 2490809]</td>\n",
       "      <td>[84]</td>\n",
       "      <td>[11]</td>\n",
       "    </tr>\n",
       "    <tr>\n",
       "      <th>3</th>\n",
       "      <td>136</td>\n",
       "      <td>[12, 214, 2490809]</td>\n",
       "      <td>[84]</td>\n",
       "      <td>[11]</td>\n",
       "    </tr>\n",
       "    <tr>\n",
       "      <th>4</th>\n",
       "      <td>138</td>\n",
       "      <td>[12, 214, 322, 72275, 72292, 91199, 213505, 24...</td>\n",
       "      <td>[84]</td>\n",
       "      <td>[11]</td>\n",
       "    </tr>\n",
       "    <tr>\n",
       "      <th>...</th>\n",
       "      <td>...</td>\n",
       "      <td>...</td>\n",
       "      <td>...</td>\n",
       "      <td>...</td>\n",
       "    </tr>\n",
       "    <tr>\n",
       "      <th>999995</th>\n",
       "      <td>101478482</td>\n",
       "      <td>[21399811]</td>\n",
       "      <td>[5540395]</td>\n",
       "      <td>[3, 75]</td>\n",
       "    </tr>\n",
       "    <tr>\n",
       "      <th>999996</th>\n",
       "      <td>101490148</td>\n",
       "      <td>[21403052]</td>\n",
       "      <td>[9078726]</td>\n",
       "      <td>[11, 20]</td>\n",
       "    </tr>\n",
       "    <tr>\n",
       "      <th>999997</th>\n",
       "      <td>101493057</td>\n",
       "      <td>[21403883]</td>\n",
       "      <td>[11865715]</td>\n",
       "      <td>[44, 75]</td>\n",
       "    </tr>\n",
       "    <tr>\n",
       "      <th>999998</th>\n",
       "      <td>101495927</td>\n",
       "      <td>[21404975]</td>\n",
       "      <td>[4462686]</td>\n",
       "      <td>[3, 75]</td>\n",
       "    </tr>\n",
       "    <tr>\n",
       "      <th>999999</th>\n",
       "      <td>101521819</td>\n",
       "      <td>[21414638]</td>\n",
       "      <td>[5056591]</td>\n",
       "      <td>[3, 75]</td>\n",
       "    </tr>\n",
       "  </tbody>\n",
       "</table>\n",
       "<p>1000000 rows × 4 columns</p>\n",
       "</div>"
      ],
      "text/plain": [
       "         track_id                                             albums  \\\n",
       "0              26                                       [3, 2490753]   \n",
       "1              38                                       [3, 2490753]   \n",
       "2             135                                 [12, 214, 2490809]   \n",
       "3             136                                 [12, 214, 2490809]   \n",
       "4             138  [12, 214, 322, 72275, 72292, 91199, 213505, 24...   \n",
       "...           ...                                                ...   \n",
       "999995  101478482                                         [21399811]   \n",
       "999996  101490148                                         [21403052]   \n",
       "999997  101493057                                         [21403883]   \n",
       "999998  101495927                                         [21404975]   \n",
       "999999  101521819                                         [21414638]   \n",
       "\n",
       "           artists    genres  \n",
       "0             [16]  [11, 21]  \n",
       "1             [16]  [11, 21]  \n",
       "2             [84]      [11]  \n",
       "3             [84]      [11]  \n",
       "4             [84]      [11]  \n",
       "...            ...       ...  \n",
       "999995   [5540395]   [3, 75]  \n",
       "999996   [9078726]  [11, 20]  \n",
       "999997  [11865715]  [44, 75]  \n",
       "999998   [4462686]   [3, 75]  \n",
       "999999   [5056591]   [3, 75]  \n",
       "\n",
       "[1000000 rows x 4 columns]"
      ]
     },
     "execution_count": 49,
     "metadata": {},
     "output_type": "execute_result"
    }
   ],
   "source": [
    "tracks_df"
   ]
  },
  {
   "cell_type": "markdown",
   "id": "0d850a07-ef1e-462f-891a-1cf89f2e24ef",
   "metadata": {},
   "source": [
    "# Преобразование данных"
   ]
  },
  {
   "cell_type": "markdown",
   "id": "fabcf8d2-1192-4df5-b20b-fbb84689f57a",
   "metadata": {},
   "source": [
    "Преобразуем данные в формат, более пригодный для дальнейшего использования в расчётах рекомендаций."
   ]
  },
  {
   "cell_type": "code",
   "execution_count": 51,
   "id": "a425556a-9382-45ca-a04e-f1981a522126",
   "metadata": {},
   "outputs": [],
   "source": [
    "# Создаём словарь: ключ - значение\n",
    "artist_dict = artist.set_index('id')['name'].to_dict()\n",
    "album_dict = album.set_index('id')['name'].to_dict()\n",
    "genre_dict = genre.set_index('id')['name'].to_dict()"
   ]
  },
  {
   "cell_type": "code",
   "execution_count": 52,
   "id": "39ddd1f0-8761-4f90-aec6-e8a5232552e8",
   "metadata": {},
   "outputs": [],
   "source": [
    "# Замена неизвестных исполнителей в массиве\n",
    "tracks_df['artists_names'] = tracks_df['artists'].apply(\n",
    "    lambda x: [artist_dict.get(artist_id, 'неизвестно') for artist_id in x]\n",
    ")\n",
    "\n",
    "# Замена неизвестных альбомов в массиве\n",
    "tracks_df['albums_names'] = tracks_df['albums'].apply(\n",
    "    lambda x: [album_dict.get(album_id, 'неизвестно') for album_id in x]\n",
    ")\n",
    "\n",
    "# Замена неизвестных жанров в массиве\n",
    "tracks_df['genres_names'] = tracks_df['genres'].apply(\n",
    "    lambda x: [genre_dict.get(genre_id, 'неизвестно') for genre_id in x]\n",
    ")\n"
   ]
  },
  {
   "cell_type": "markdown",
   "id": "3c344ff3",
   "metadata": {},
   "source": [
    "<div class=\"alert alert-block alert-success\">\n",
    "<h2> Комментарий ревьюера ✔️</h2>\n",
    "    \n",
    "Молодец, что используешь `lambda-функцию`, это довольно удобный инструмент.\n",
    "    \n",
    "Дополнительно по анонимным функциям можно посмотреть: https://proglib.io/p/samouchitel-po-python-dlya-nachinayushchih-chast-12-anonimnye-funkcii-2023-01-16\n",
    "</div>"
   ]
  },
  {
   "cell_type": "code",
   "execution_count": 55,
   "id": "bee01dec-c018-4e6e-9483-b9e7c212e7fa",
   "metadata": {},
   "outputs": [],
   "source": [
    "from sklearn.preprocessing import LabelEncoder\n",
    "labelencoder = LabelEncoder()\n",
    "tracks_df['item_id'] = labelencoder.fit_transform(tracks_df['track_id'])"
   ]
  },
  {
   "cell_type": "code",
   "execution_count": 56,
   "id": "360048f2-7744-4676-9bcc-30cbe414bdf6",
   "metadata": {},
   "outputs": [
    {
     "data": {
      "text/html": [
       "<div>\n",
       "<style scoped>\n",
       "    .dataframe tbody tr th:only-of-type {\n",
       "        vertical-align: middle;\n",
       "    }\n",
       "\n",
       "    .dataframe tbody tr th {\n",
       "        vertical-align: top;\n",
       "    }\n",
       "\n",
       "    .dataframe thead th {\n",
       "        text-align: right;\n",
       "    }\n",
       "</style>\n",
       "<table border=\"1\" class=\"dataframe\">\n",
       "  <thead>\n",
       "    <tr style=\"text-align: right;\">\n",
       "      <th></th>\n",
       "      <th>track_id</th>\n",
       "      <th>albums</th>\n",
       "      <th>artists</th>\n",
       "      <th>genres</th>\n",
       "      <th>artists_names</th>\n",
       "      <th>albums_names</th>\n",
       "      <th>genres_names</th>\n",
       "      <th>item_id</th>\n",
       "    </tr>\n",
       "  </thead>\n",
       "  <tbody>\n",
       "    <tr>\n",
       "      <th>0</th>\n",
       "      <td>26</td>\n",
       "      <td>[3, 2490753]</td>\n",
       "      <td>[16]</td>\n",
       "      <td>[11, 21]</td>\n",
       "      <td>[Elizabeth &amp; the Catapult]</td>\n",
       "      <td>[Taller Children, Taller Children]</td>\n",
       "      <td>[pop, folk]</td>\n",
       "      <td>0</td>\n",
       "    </tr>\n",
       "    <tr>\n",
       "      <th>1</th>\n",
       "      <td>38</td>\n",
       "      <td>[3, 2490753]</td>\n",
       "      <td>[16]</td>\n",
       "      <td>[11, 21]</td>\n",
       "      <td>[Elizabeth &amp; the Catapult]</td>\n",
       "      <td>[Taller Children, Taller Children]</td>\n",
       "      <td>[pop, folk]</td>\n",
       "      <td>1</td>\n",
       "    </tr>\n",
       "    <tr>\n",
       "      <th>2</th>\n",
       "      <td>135</td>\n",
       "      <td>[12, 214, 2490809]</td>\n",
       "      <td>[84]</td>\n",
       "      <td>[11]</td>\n",
       "      <td>[Noisettes]</td>\n",
       "      <td>[Wild Young Hearts, Wild Young Hearts, Wild Yo...</td>\n",
       "      <td>[pop]</td>\n",
       "      <td>2</td>\n",
       "    </tr>\n",
       "    <tr>\n",
       "      <th>3</th>\n",
       "      <td>136</td>\n",
       "      <td>[12, 214, 2490809]</td>\n",
       "      <td>[84]</td>\n",
       "      <td>[11]</td>\n",
       "      <td>[Noisettes]</td>\n",
       "      <td>[Wild Young Hearts, Wild Young Hearts, Wild Yo...</td>\n",
       "      <td>[pop]</td>\n",
       "      <td>3</td>\n",
       "    </tr>\n",
       "    <tr>\n",
       "      <th>4</th>\n",
       "      <td>138</td>\n",
       "      <td>[12, 214, 322, 72275, 72292, 91199, 213505, 24...</td>\n",
       "      <td>[84]</td>\n",
       "      <td>[11]</td>\n",
       "      <td>[Noisettes]</td>\n",
       "      <td>[Wild Young Hearts, Wild Young Hearts, Don't U...</td>\n",
       "      <td>[pop]</td>\n",
       "      <td>4</td>\n",
       "    </tr>\n",
       "    <tr>\n",
       "      <th>...</th>\n",
       "      <td>...</td>\n",
       "      <td>...</td>\n",
       "      <td>...</td>\n",
       "      <td>...</td>\n",
       "      <td>...</td>\n",
       "      <td>...</td>\n",
       "      <td>...</td>\n",
       "      <td>...</td>\n",
       "    </tr>\n",
       "    <tr>\n",
       "      <th>999995</th>\n",
       "      <td>101478482</td>\n",
       "      <td>[21399811]</td>\n",
       "      <td>[5540395]</td>\n",
       "      <td>[3, 75]</td>\n",
       "      <td>[FLESH]</td>\n",
       "      <td>[На лицо]</td>\n",
       "      <td>[rusrap, rap]</td>\n",
       "      <td>999995</td>\n",
       "    </tr>\n",
       "    <tr>\n",
       "      <th>999996</th>\n",
       "      <td>101490148</td>\n",
       "      <td>[21403052]</td>\n",
       "      <td>[9078726]</td>\n",
       "      <td>[11, 20]</td>\n",
       "      <td>[Даня Милохин]</td>\n",
       "      <td>[Без капли мысли]</td>\n",
       "      <td>[pop, ruspop]</td>\n",
       "      <td>999996</td>\n",
       "    </tr>\n",
       "    <tr>\n",
       "      <th>999997</th>\n",
       "      <td>101493057</td>\n",
       "      <td>[21403883]</td>\n",
       "      <td>[11865715]</td>\n",
       "      <td>[44, 75]</td>\n",
       "      <td>[WhyBaby?]</td>\n",
       "      <td>[SKITTLES]</td>\n",
       "      <td>[foreignrap, rap]</td>\n",
       "      <td>999997</td>\n",
       "    </tr>\n",
       "    <tr>\n",
       "      <th>999998</th>\n",
       "      <td>101495927</td>\n",
       "      <td>[21404975]</td>\n",
       "      <td>[4462686]</td>\n",
       "      <td>[3, 75]</td>\n",
       "      <td>[Yanix]</td>\n",
       "      <td>[Москва]</td>\n",
       "      <td>[rusrap, rap]</td>\n",
       "      <td>999998</td>\n",
       "    </tr>\n",
       "    <tr>\n",
       "      <th>999999</th>\n",
       "      <td>101521819</td>\n",
       "      <td>[21414638]</td>\n",
       "      <td>[5056591]</td>\n",
       "      <td>[3, 75]</td>\n",
       "      <td>[Джарахов]</td>\n",
       "      <td>[Вокзал]</td>\n",
       "      <td>[rusrap, rap]</td>\n",
       "      <td>999999</td>\n",
       "    </tr>\n",
       "  </tbody>\n",
       "</table>\n",
       "<p>1000000 rows × 8 columns</p>\n",
       "</div>"
      ],
      "text/plain": [
       "         track_id                                             albums  \\\n",
       "0              26                                       [3, 2490753]   \n",
       "1              38                                       [3, 2490753]   \n",
       "2             135                                 [12, 214, 2490809]   \n",
       "3             136                                 [12, 214, 2490809]   \n",
       "4             138  [12, 214, 322, 72275, 72292, 91199, 213505, 24...   \n",
       "...           ...                                                ...   \n",
       "999995  101478482                                         [21399811]   \n",
       "999996  101490148                                         [21403052]   \n",
       "999997  101493057                                         [21403883]   \n",
       "999998  101495927                                         [21404975]   \n",
       "999999  101521819                                         [21414638]   \n",
       "\n",
       "           artists    genres               artists_names  \\\n",
       "0             [16]  [11, 21]  [Elizabeth & the Catapult]   \n",
       "1             [16]  [11, 21]  [Elizabeth & the Catapult]   \n",
       "2             [84]      [11]                 [Noisettes]   \n",
       "3             [84]      [11]                 [Noisettes]   \n",
       "4             [84]      [11]                 [Noisettes]   \n",
       "...            ...       ...                         ...   \n",
       "999995   [5540395]   [3, 75]                     [FLESH]   \n",
       "999996   [9078726]  [11, 20]              [Даня Милохин]   \n",
       "999997  [11865715]  [44, 75]                  [WhyBaby?]   \n",
       "999998   [4462686]   [3, 75]                     [Yanix]   \n",
       "999999   [5056591]   [3, 75]                  [Джарахов]   \n",
       "\n",
       "                                             albums_names       genres_names  \\\n",
       "0                      [Taller Children, Taller Children]        [pop, folk]   \n",
       "1                      [Taller Children, Taller Children]        [pop, folk]   \n",
       "2       [Wild Young Hearts, Wild Young Hearts, Wild Yo...              [pop]   \n",
       "3       [Wild Young Hearts, Wild Young Hearts, Wild Yo...              [pop]   \n",
       "4       [Wild Young Hearts, Wild Young Hearts, Don't U...              [pop]   \n",
       "...                                                   ...                ...   \n",
       "999995                                          [На лицо]      [rusrap, rap]   \n",
       "999996                                  [Без капли мысли]      [pop, ruspop]   \n",
       "999997                                         [SKITTLES]  [foreignrap, rap]   \n",
       "999998                                           [Москва]      [rusrap, rap]   \n",
       "999999                                           [Вокзал]      [rusrap, rap]   \n",
       "\n",
       "        item_id  \n",
       "0             0  \n",
       "1             1  \n",
       "2             2  \n",
       "3             3  \n",
       "4             4  \n",
       "...         ...  \n",
       "999995   999995  \n",
       "999996   999996  \n",
       "999997   999997  \n",
       "999998   999998  \n",
       "999999   999999  \n",
       "\n",
       "[1000000 rows x 8 columns]"
      ]
     },
     "execution_count": 56,
     "metadata": {},
     "output_type": "execute_result"
    }
   ],
   "source": [
    "tracks_df"
   ]
  },
  {
   "cell_type": "code",
   "execution_count": 57,
   "id": "1f801a92-a67c-47ef-854b-87dae9698eed",
   "metadata": {},
   "outputs": [],
   "source": [
    "# Удаляем строки с \"неизвестно\"\n",
    "tracks_df = tracks_df[\n",
    "    tracks_df['artists_names'].apply(lambda x: 'неизвестно' not in x) &\n",
    "    tracks_df['albums_names'].apply(lambda x: 'неизвестно' not in x) &\n",
    "    tracks_df['genres_names'].apply(lambda x: 'неизвестно' not in x)\n",
    "]"
   ]
  },
  {
   "cell_type": "code",
   "execution_count": 58,
   "id": "00523d53-3dcd-4f2e-a616-08ea6c2c3dbb",
   "metadata": {},
   "outputs": [
    {
     "data": {
      "text/html": [
       "<div>\n",
       "<style scoped>\n",
       "    .dataframe tbody tr th:only-of-type {\n",
       "        vertical-align: middle;\n",
       "    }\n",
       "\n",
       "    .dataframe tbody tr th {\n",
       "        vertical-align: top;\n",
       "    }\n",
       "\n",
       "    .dataframe thead th {\n",
       "        text-align: right;\n",
       "    }\n",
       "</style>\n",
       "<table border=\"1\" class=\"dataframe\">\n",
       "  <thead>\n",
       "    <tr style=\"text-align: right;\">\n",
       "      <th></th>\n",
       "      <th>track_id</th>\n",
       "      <th>albums</th>\n",
       "      <th>artists</th>\n",
       "      <th>genres</th>\n",
       "      <th>artists_names</th>\n",
       "      <th>albums_names</th>\n",
       "      <th>genres_names</th>\n",
       "      <th>item_id</th>\n",
       "    </tr>\n",
       "  </thead>\n",
       "  <tbody>\n",
       "    <tr>\n",
       "      <th>0</th>\n",
       "      <td>26</td>\n",
       "      <td>[3, 2490753]</td>\n",
       "      <td>[16]</td>\n",
       "      <td>[11, 21]</td>\n",
       "      <td>[Elizabeth &amp; the Catapult]</td>\n",
       "      <td>[Taller Children, Taller Children]</td>\n",
       "      <td>[pop, folk]</td>\n",
       "      <td>0</td>\n",
       "    </tr>\n",
       "    <tr>\n",
       "      <th>1</th>\n",
       "      <td>38</td>\n",
       "      <td>[3, 2490753]</td>\n",
       "      <td>[16]</td>\n",
       "      <td>[11, 21]</td>\n",
       "      <td>[Elizabeth &amp; the Catapult]</td>\n",
       "      <td>[Taller Children, Taller Children]</td>\n",
       "      <td>[pop, folk]</td>\n",
       "      <td>1</td>\n",
       "    </tr>\n",
       "    <tr>\n",
       "      <th>2</th>\n",
       "      <td>135</td>\n",
       "      <td>[12, 214, 2490809]</td>\n",
       "      <td>[84]</td>\n",
       "      <td>[11]</td>\n",
       "      <td>[Noisettes]</td>\n",
       "      <td>[Wild Young Hearts, Wild Young Hearts, Wild Yo...</td>\n",
       "      <td>[pop]</td>\n",
       "      <td>2</td>\n",
       "    </tr>\n",
       "    <tr>\n",
       "      <th>3</th>\n",
       "      <td>136</td>\n",
       "      <td>[12, 214, 2490809]</td>\n",
       "      <td>[84]</td>\n",
       "      <td>[11]</td>\n",
       "      <td>[Noisettes]</td>\n",
       "      <td>[Wild Young Hearts, Wild Young Hearts, Wild Yo...</td>\n",
       "      <td>[pop]</td>\n",
       "      <td>3</td>\n",
       "    </tr>\n",
       "    <tr>\n",
       "      <th>4</th>\n",
       "      <td>138</td>\n",
       "      <td>[12, 214, 322, 72275, 72292, 91199, 213505, 24...</td>\n",
       "      <td>[84]</td>\n",
       "      <td>[11]</td>\n",
       "      <td>[Noisettes]</td>\n",
       "      <td>[Wild Young Hearts, Wild Young Hearts, Don't U...</td>\n",
       "      <td>[pop]</td>\n",
       "      <td>4</td>\n",
       "    </tr>\n",
       "    <tr>\n",
       "      <th>...</th>\n",
       "      <td>...</td>\n",
       "      <td>...</td>\n",
       "      <td>...</td>\n",
       "      <td>...</td>\n",
       "      <td>...</td>\n",
       "      <td>...</td>\n",
       "      <td>...</td>\n",
       "      <td>...</td>\n",
       "    </tr>\n",
       "    <tr>\n",
       "      <th>999995</th>\n",
       "      <td>101478482</td>\n",
       "      <td>[21399811]</td>\n",
       "      <td>[5540395]</td>\n",
       "      <td>[3, 75]</td>\n",
       "      <td>[FLESH]</td>\n",
       "      <td>[На лицо]</td>\n",
       "      <td>[rusrap, rap]</td>\n",
       "      <td>999995</td>\n",
       "    </tr>\n",
       "    <tr>\n",
       "      <th>999996</th>\n",
       "      <td>101490148</td>\n",
       "      <td>[21403052]</td>\n",
       "      <td>[9078726]</td>\n",
       "      <td>[11, 20]</td>\n",
       "      <td>[Даня Милохин]</td>\n",
       "      <td>[Без капли мысли]</td>\n",
       "      <td>[pop, ruspop]</td>\n",
       "      <td>999996</td>\n",
       "    </tr>\n",
       "    <tr>\n",
       "      <th>999997</th>\n",
       "      <td>101493057</td>\n",
       "      <td>[21403883]</td>\n",
       "      <td>[11865715]</td>\n",
       "      <td>[44, 75]</td>\n",
       "      <td>[WhyBaby?]</td>\n",
       "      <td>[SKITTLES]</td>\n",
       "      <td>[foreignrap, rap]</td>\n",
       "      <td>999997</td>\n",
       "    </tr>\n",
       "    <tr>\n",
       "      <th>999998</th>\n",
       "      <td>101495927</td>\n",
       "      <td>[21404975]</td>\n",
       "      <td>[4462686]</td>\n",
       "      <td>[3, 75]</td>\n",
       "      <td>[Yanix]</td>\n",
       "      <td>[Москва]</td>\n",
       "      <td>[rusrap, rap]</td>\n",
       "      <td>999998</td>\n",
       "    </tr>\n",
       "    <tr>\n",
       "      <th>999999</th>\n",
       "      <td>101521819</td>\n",
       "      <td>[21414638]</td>\n",
       "      <td>[5056591]</td>\n",
       "      <td>[3, 75]</td>\n",
       "      <td>[Джарахов]</td>\n",
       "      <td>[Вокзал]</td>\n",
       "      <td>[rusrap, rap]</td>\n",
       "      <td>999999</td>\n",
       "    </tr>\n",
       "  </tbody>\n",
       "</table>\n",
       "<p>951655 rows × 8 columns</p>\n",
       "</div>"
      ],
      "text/plain": [
       "         track_id                                             albums  \\\n",
       "0              26                                       [3, 2490753]   \n",
       "1              38                                       [3, 2490753]   \n",
       "2             135                                 [12, 214, 2490809]   \n",
       "3             136                                 [12, 214, 2490809]   \n",
       "4             138  [12, 214, 322, 72275, 72292, 91199, 213505, 24...   \n",
       "...           ...                                                ...   \n",
       "999995  101478482                                         [21399811]   \n",
       "999996  101490148                                         [21403052]   \n",
       "999997  101493057                                         [21403883]   \n",
       "999998  101495927                                         [21404975]   \n",
       "999999  101521819                                         [21414638]   \n",
       "\n",
       "           artists    genres               artists_names  \\\n",
       "0             [16]  [11, 21]  [Elizabeth & the Catapult]   \n",
       "1             [16]  [11, 21]  [Elizabeth & the Catapult]   \n",
       "2             [84]      [11]                 [Noisettes]   \n",
       "3             [84]      [11]                 [Noisettes]   \n",
       "4             [84]      [11]                 [Noisettes]   \n",
       "...            ...       ...                         ...   \n",
       "999995   [5540395]   [3, 75]                     [FLESH]   \n",
       "999996   [9078726]  [11, 20]              [Даня Милохин]   \n",
       "999997  [11865715]  [44, 75]                  [WhyBaby?]   \n",
       "999998   [4462686]   [3, 75]                     [Yanix]   \n",
       "999999   [5056591]   [3, 75]                  [Джарахов]   \n",
       "\n",
       "                                             albums_names       genres_names  \\\n",
       "0                      [Taller Children, Taller Children]        [pop, folk]   \n",
       "1                      [Taller Children, Taller Children]        [pop, folk]   \n",
       "2       [Wild Young Hearts, Wild Young Hearts, Wild Yo...              [pop]   \n",
       "3       [Wild Young Hearts, Wild Young Hearts, Wild Yo...              [pop]   \n",
       "4       [Wild Young Hearts, Wild Young Hearts, Don't U...              [pop]   \n",
       "...                                                   ...                ...   \n",
       "999995                                          [На лицо]      [rusrap, rap]   \n",
       "999996                                  [Без капли мысли]      [pop, ruspop]   \n",
       "999997                                         [SKITTLES]  [foreignrap, rap]   \n",
       "999998                                           [Москва]      [rusrap, rap]   \n",
       "999999                                           [Вокзал]      [rusrap, rap]   \n",
       "\n",
       "        item_id  \n",
       "0             0  \n",
       "1             1  \n",
       "2             2  \n",
       "3             3  \n",
       "4             4  \n",
       "...         ...  \n",
       "999995   999995  \n",
       "999996   999996  \n",
       "999997   999997  \n",
       "999998   999998  \n",
       "999999   999999  \n",
       "\n",
       "[951655 rows x 8 columns]"
      ]
     },
     "execution_count": 58,
     "metadata": {},
     "output_type": "execute_result"
    }
   ],
   "source": [
    "tracks_df"
   ]
  },
  {
   "cell_type": "code",
   "execution_count": 59,
   "id": "a97eb7ad-9ed7-4444-8d5a-545f36a202ff",
   "metadata": {},
   "outputs": [],
   "source": [
    "interactions_df['item_id'] = labelencoder.transform(interactions_df['track_id'])"
   ]
  },
  {
   "cell_type": "code",
   "execution_count": 61,
   "id": "84052eff-c813-44fe-960f-406e1ff92239",
   "metadata": {},
   "outputs": [
    {
     "data": {
      "text/html": [
       "<div>\n",
       "<style scoped>\n",
       "    .dataframe tbody tr th:only-of-type {\n",
       "        vertical-align: middle;\n",
       "    }\n",
       "\n",
       "    .dataframe tbody tr th {\n",
       "        vertical-align: top;\n",
       "    }\n",
       "\n",
       "    .dataframe thead th {\n",
       "        text-align: right;\n",
       "    }\n",
       "</style>\n",
       "<table border=\"1\" class=\"dataframe\">\n",
       "  <thead>\n",
       "    <tr style=\"text-align: right;\">\n",
       "      <th></th>\n",
       "      <th>user_id</th>\n",
       "      <th>track_id</th>\n",
       "      <th>track_seq</th>\n",
       "      <th>started_at</th>\n",
       "      <th>item_id</th>\n",
       "    </tr>\n",
       "  </thead>\n",
       "  <tbody>\n",
       "    <tr>\n",
       "      <th>0</th>\n",
       "      <td>1</td>\n",
       "      <td>24417</td>\n",
       "      <td>1</td>\n",
       "      <td>2022-06-11</td>\n",
       "      <td>4345</td>\n",
       "    </tr>\n",
       "    <tr>\n",
       "      <th>1</th>\n",
       "      <td>1</td>\n",
       "      <td>108208</td>\n",
       "      <td>2</td>\n",
       "      <td>2022-06-13</td>\n",
       "      <td>18060</td>\n",
       "    </tr>\n",
       "    <tr>\n",
       "      <th>2</th>\n",
       "      <td>1</td>\n",
       "      <td>108209</td>\n",
       "      <td>3</td>\n",
       "      <td>2022-06-13</td>\n",
       "      <td>18061</td>\n",
       "    </tr>\n",
       "    <tr>\n",
       "      <th>3</th>\n",
       "      <td>1</td>\n",
       "      <td>592642</td>\n",
       "      <td>4</td>\n",
       "      <td>2022-06-15</td>\n",
       "      <td>61771</td>\n",
       "    </tr>\n",
       "    <tr>\n",
       "      <th>4</th>\n",
       "      <td>1</td>\n",
       "      <td>628687</td>\n",
       "      <td>5</td>\n",
       "      <td>2022-06-15</td>\n",
       "      <td>64517</td>\n",
       "    </tr>\n",
       "    <tr>\n",
       "      <th>...</th>\n",
       "      <td>...</td>\n",
       "      <td>...</td>\n",
       "      <td>...</td>\n",
       "      <td>...</td>\n",
       "      <td>...</td>\n",
       "    </tr>\n",
       "    <tr>\n",
       "      <th>222629867</th>\n",
       "      <td>1374582</td>\n",
       "      <td>95514767</td>\n",
       "      <td>288</td>\n",
       "      <td>2022-12-29</td>\n",
       "      <td>988273</td>\n",
       "    </tr>\n",
       "    <tr>\n",
       "      <th>222629868</th>\n",
       "      <td>1374582</td>\n",
       "      <td>97220301</td>\n",
       "      <td>289</td>\n",
       "      <td>2022-12-29</td>\n",
       "      <td>992765</td>\n",
       "    </tr>\n",
       "    <tr>\n",
       "      <th>222629869</th>\n",
       "      <td>1374582</td>\n",
       "      <td>97241171</td>\n",
       "      <td>290</td>\n",
       "      <td>2022-12-29</td>\n",
       "      <td>992848</td>\n",
       "    </tr>\n",
       "    <tr>\n",
       "      <th>222629870</th>\n",
       "      <td>1374582</td>\n",
       "      <td>98542641</td>\n",
       "      <td>291</td>\n",
       "      <td>2022-12-29</td>\n",
       "      <td>995791</td>\n",
       "    </tr>\n",
       "    <tr>\n",
       "      <th>222629871</th>\n",
       "      <td>1374582</td>\n",
       "      <td>100736375</td>\n",
       "      <td>292</td>\n",
       "      <td>2022-12-30</td>\n",
       "      <td>999467</td>\n",
       "    </tr>\n",
       "  </tbody>\n",
       "</table>\n",
       "<p>222629872 rows × 5 columns</p>\n",
       "</div>"
      ],
      "text/plain": [
       "           user_id   track_id  track_seq started_at  item_id\n",
       "0                1      24417          1 2022-06-11     4345\n",
       "1                1     108208          2 2022-06-13    18060\n",
       "2                1     108209          3 2022-06-13    18061\n",
       "3                1     592642          4 2022-06-15    61771\n",
       "4                1     628687          5 2022-06-15    64517\n",
       "...            ...        ...        ...        ...      ...\n",
       "222629867  1374582   95514767        288 2022-12-29   988273\n",
       "222629868  1374582   97220301        289 2022-12-29   992765\n",
       "222629869  1374582   97241171        290 2022-12-29   992848\n",
       "222629870  1374582   98542641        291 2022-12-29   995791\n",
       "222629871  1374582  100736375        292 2022-12-30   999467\n",
       "\n",
       "[222629872 rows x 5 columns]"
      ]
     },
     "execution_count": 61,
     "metadata": {},
     "output_type": "execute_result"
    }
   ],
   "source": [
    "interactions_df"
   ]
  },
  {
   "cell_type": "markdown",
   "id": "4d1be653-eed8-4fa0-a9c5-3811b080d71d",
   "metadata": {},
   "source": [
    "# Сохранение данных"
   ]
  },
  {
   "cell_type": "markdown",
   "id": "36f1314a-3af3-4faf-a0b1-3045173d1500",
   "metadata": {},
   "source": [
    "Сохраним данные в двух файлах в персональном S3-бакете по пути `recsys/data/`:\n",
    "- `items.parquet` — все данные о музыкальных треках,\n",
    "- `events.parquet` — все данные о взаимодействиях."
   ]
  },
  {
   "cell_type": "code",
   "execution_count": 62,
   "id": "9f77af17-7705-4fae-9aad-db579b39faad",
   "metadata": {},
   "outputs": [],
   "source": [
    "# Создаем директорию, если она не существует\n",
    "output_dir = 'recsys/data'\n",
    "os.makedirs(output_dir, exist_ok=True)  # exist_ok=True позволяет не выбрасывать ошибку, если директория уже существует\n",
    "\n",
    "# Теперь сохраняем файлы\n",
    "tracks_df.to_parquet(f'{output_dir}/items.parquet')\n",
    "interactions_df.to_parquet(f'{output_dir}/events.parquet')"
   ]
  },
  {
   "cell_type": "code",
   "execution_count": 63,
   "id": "075ae036-6bde-46e9-bd24-346bf3d08033",
   "metadata": {},
   "outputs": [
    {
     "name": "stdout",
     "output_type": "stream",
     "text": [
      "Подключение успешно. Креды работают.\n",
      "Файлы успешно загружены на S3.\n"
     ]
    }
   ],
   "source": [
    "# Загружаем переменные окружения из .env\n",
    "load_dotenv()\n",
    "\n",
    "s3_bucket = os.getenv('s3_bucket')\n",
    "aws_access_key_id = os.getenv('AWS_ACCESS_KEY_ID')\n",
    "aws_secret_access_key = os.getenv('AWS_SECRET_ACCESS_KEY')\n",
    "\n",
    "# Настройка сессии с указанием региона и endpoint для Яндекс S3\n",
    "session = boto3.Session(\n",
    "    aws_access_key_id=aws_access_key_id,\n",
    "    aws_secret_access_key=aws_secret_access_key,\n",
    "    region_name='ru-central1'\n",
    ")\n",
    "\n",
    "s3 = session.client(\n",
    "    's3',\n",
    "    endpoint_url='https://storage.yandexcloud.net',\n",
    "    config=Config(signature_version='s3v4', s3={'addressing_style': 'path'})\n",
    ")\n",
    "\n",
    "bucket_name = s3_bucket\n",
    "\n",
    "# Пути к файлам для загрузки\n",
    "output_dir = \"recsys/data\"  \n",
    "items_file_path = f\"{output_dir}/items.parquet\"\n",
    "events_file_path = f\"{output_dir}/events.parquet\"\n",
    "\n",
    "try:\n",
    "    # Проверка успешного подключения\n",
    "    response = s3.get_bucket_location(Bucket=bucket_name)\n",
    "    print(\"Подключение успешно. Креды работают.\")\n",
    "    \n",
    "    # Загрузка файлов на S3\n",
    "    s3.upload_file(items_file_path, bucket_name, 'recsys/data/items.parquet')\n",
    "    s3.upload_file(events_file_path, bucket_name, 'recsys/data/events.parquet')\n",
    "    print(\"Файлы успешно загружены на S3.\")\n",
    "\n",
    "except Exception as e:\n",
    "    print(\"Ошибка подключения или загрузки файлов:\", e)"
   ]
  },
  {
   "cell_type": "code",
   "execution_count": 64,
   "id": "946755a2-fdb8-4833-9d50-b1412d3d5479",
   "metadata": {},
   "outputs": [
    {
     "name": "stdout",
     "output_type": "stream",
     "text": [
      "Содержимое бакета:\n",
      "- recsys/data/events.parquet (Last Modified: 2025-04-06 18:34:58.739000+00:00)\n",
      "- recsys/data/items.parquet (Last Modified: 2025-04-06 18:34:50.993000+00:00)\n"
     ]
    }
   ],
   "source": [
    "result = s3.list_objects_v2(Bucket=bucket_name, Prefix='recsys/data/')\n",
    "    \n",
    "    # Проверяем, есть ли объекты в бакете по заданному префиксу\n",
    "if 'Contents' in result:\n",
    "    print(\"Содержимое бакета:\")\n",
    "    for obj in result['Contents']:\n",
    "        print(f\"- {obj['Key']} (Last Modified: {obj['LastModified']})\")\n",
    "else:\n",
    "    print(\"Нет объектов в указанной директории.\")"
   ]
  },
  {
   "cell_type": "markdown",
   "id": "923cf01f",
   "metadata": {},
   "source": [
    "<div class=\"alert alert-block alert-success\">\n",
    "<h2> Комментарий ревьюера ✔️</h2>\n",
    "    \n",
    "Отлично, данные сохранены)\n",
    "</div>"
   ]
  },
  {
   "cell_type": "markdown",
   "id": "72ecbbed-c560-44d9-9c14-86c7dc76f399",
   "metadata": {},
   "source": [
    "# Очистка памяти"
   ]
  },
  {
   "cell_type": "markdown",
   "id": "b5358ede-ba6e-4c4f-bd73-5b9344f0ba79",
   "metadata": {},
   "source": [
    "Здесь, может понадобится очистка памяти для высвобождения ресурсов для выполнения кода ниже. \n",
    "\n",
    "Приведите соответствующие код, комментарии, например:\n",
    "- код для удаление более ненужных переменных,\n",
    "- комментарий, что следует перезапустить kernel, выполнить такие-то начальные секции и продолжить с этапа 3."
   ]
  },
  {
   "cell_type": "code",
   "execution_count": 65,
   "id": "767fe920-e12e-4ad8-b04e-56e8091fac9f",
   "metadata": {},
   "outputs": [],
   "source": [
    "# Очистить все переменные и объекты в текущем пространстве имен\n",
    "%reset -f"
   ]
  },
  {
   "cell_type": "markdown",
   "id": "d79f8872-1a5b-4e6f-b045-7aab29122875",
   "metadata": {},
   "source": [
    "Перезапускаем ядро в интерфейсе далее начинаем с 3го этапа"
   ]
  },
  {
   "cell_type": "markdown",
   "id": "605434d7",
   "metadata": {},
   "source": [
    "<div class=\"alert alert-block alert-success\">\n",
    "<h2> Комментарий ревьюера ✔️</h2>\n",
    "    \n",
    "Молодец, что очистил оперативную память перед следующими этапами проекта. Это позволит эффективно использовать ресурсы и неперегружать их.\n",
    "</div>"
   ]
  },
  {
   "cell_type": "markdown",
   "id": "708503df-ee89-4cf3-8489-093dc478e2a8",
   "metadata": {},
   "source": [
    "# === ЭТАП 3 ==="
   ]
  },
  {
   "cell_type": "markdown",
   "id": "fd77de22-e10f-4b42-85c1-8fb6f805fe68",
   "metadata": {},
   "source": [
    "# Загрузка данных"
   ]
  },
  {
   "cell_type": "markdown",
   "id": "780a4241-1ecd-4a3e-bbb3-fc2f6ca94f68",
   "metadata": {},
   "source": [
    "Если необходимо, то загружаем items.parquet, events.parquet."
   ]
  },
  {
   "cell_type": "code",
   "execution_count": 38,
   "id": "f19fc8a5-bd2c-40d7-864a-ee75aca6d512",
   "metadata": {},
   "outputs": [],
   "source": [
    "import pandas as pd\n",
    "import matplotlib.pyplot as plt\n",
    "import numpy as np\n",
    "import os\n",
    "from dotenv import load_dotenv\n",
    "import boto3\n",
    "from botocore.exceptions import NoCredentialsError, PartialCredentialsError\n",
    "from botocore.client import Config\n",
    "from sklearn.preprocessing import LabelEncoder\n",
    "from sklearn.preprocessing import MinMaxScaler"
   ]
  },
  {
   "cell_type": "code",
   "execution_count": 39,
   "id": "5db1e801-5845-4ce3-86f2-c2fa30f68cc5",
   "metadata": {},
   "outputs": [],
   "source": [
    "# Загружаем данные из файлов .parquet\n",
    "items = pd.read_parquet('recsys/data/items.parquet')\n",
    "events = pd.read_parquet('recsys/data/events.parquet')\n",
    "items=pd.DataFrame(items)\n",
    "events=pd.DataFrame(events)"
   ]
  },
  {
   "cell_type": "code",
   "execution_count": 40,
   "id": "60a7a63a-63b2-4122-9a62-08ed18775cc9",
   "metadata": {},
   "outputs": [
    {
     "data": {
      "text/html": [
       "<div>\n",
       "<style scoped>\n",
       "    .dataframe tbody tr th:only-of-type {\n",
       "        vertical-align: middle;\n",
       "    }\n",
       "\n",
       "    .dataframe tbody tr th {\n",
       "        vertical-align: top;\n",
       "    }\n",
       "\n",
       "    .dataframe thead th {\n",
       "        text-align: right;\n",
       "    }\n",
       "</style>\n",
       "<table border=\"1\" class=\"dataframe\">\n",
       "  <thead>\n",
       "    <tr style=\"text-align: right;\">\n",
       "      <th></th>\n",
       "      <th>track_id</th>\n",
       "      <th>albums</th>\n",
       "      <th>artists</th>\n",
       "      <th>genres</th>\n",
       "      <th>artists_names</th>\n",
       "      <th>albums_names</th>\n",
       "      <th>genres_names</th>\n",
       "      <th>item_id</th>\n",
       "      <th>rating</th>\n",
       "    </tr>\n",
       "  </thead>\n",
       "  <tbody>\n",
       "    <tr>\n",
       "      <th>0</th>\n",
       "      <td>26</td>\n",
       "      <td>[3, 2490753]</td>\n",
       "      <td>[16]</td>\n",
       "      <td>[11, 21]</td>\n",
       "      <td>[Elizabeth &amp; the Catapult]</td>\n",
       "      <td>[Taller Children, Taller Children]</td>\n",
       "      <td>[pop, folk]</td>\n",
       "      <td>0</td>\n",
       "      <td>0</td>\n",
       "    </tr>\n",
       "    <tr>\n",
       "      <th>1</th>\n",
       "      <td>38</td>\n",
       "      <td>[3, 2490753]</td>\n",
       "      <td>[16]</td>\n",
       "      <td>[11, 21]</td>\n",
       "      <td>[Elizabeth &amp; the Catapult]</td>\n",
       "      <td>[Taller Children, Taller Children]</td>\n",
       "      <td>[pop, folk]</td>\n",
       "      <td>1</td>\n",
       "      <td>0</td>\n",
       "    </tr>\n",
       "    <tr>\n",
       "      <th>2</th>\n",
       "      <td>135</td>\n",
       "      <td>[12, 214, 2490809]</td>\n",
       "      <td>[84]</td>\n",
       "      <td>[11]</td>\n",
       "      <td>[Noisettes]</td>\n",
       "      <td>[Wild Young Hearts, Wild Young Hearts, Wild Yo...</td>\n",
       "      <td>[pop]</td>\n",
       "      <td>2</td>\n",
       "      <td>0</td>\n",
       "    </tr>\n",
       "    <tr>\n",
       "      <th>3</th>\n",
       "      <td>136</td>\n",
       "      <td>[12, 214, 2490809]</td>\n",
       "      <td>[84]</td>\n",
       "      <td>[11]</td>\n",
       "      <td>[Noisettes]</td>\n",
       "      <td>[Wild Young Hearts, Wild Young Hearts, Wild Yo...</td>\n",
       "      <td>[pop]</td>\n",
       "      <td>3</td>\n",
       "      <td>0</td>\n",
       "    </tr>\n",
       "    <tr>\n",
       "      <th>4</th>\n",
       "      <td>138</td>\n",
       "      <td>[12, 214, 322, 72275, 72292, 91199, 213505, 24...</td>\n",
       "      <td>[84]</td>\n",
       "      <td>[11]</td>\n",
       "      <td>[Noisettes]</td>\n",
       "      <td>[Wild Young Hearts, Wild Young Hearts, Don't U...</td>\n",
       "      <td>[pop]</td>\n",
       "      <td>4</td>\n",
       "      <td>0</td>\n",
       "    </tr>\n",
       "  </tbody>\n",
       "</table>\n",
       "</div>"
      ],
      "text/plain": [
       "   track_id                                             albums artists  \\\n",
       "0        26                                       [3, 2490753]    [16]   \n",
       "1        38                                       [3, 2490753]    [16]   \n",
       "2       135                                 [12, 214, 2490809]    [84]   \n",
       "3       136                                 [12, 214, 2490809]    [84]   \n",
       "4       138  [12, 214, 322, 72275, 72292, 91199, 213505, 24...    [84]   \n",
       "\n",
       "     genres               artists_names  \\\n",
       "0  [11, 21]  [Elizabeth & the Catapult]   \n",
       "1  [11, 21]  [Elizabeth & the Catapult]   \n",
       "2      [11]                 [Noisettes]   \n",
       "3      [11]                 [Noisettes]   \n",
       "4      [11]                 [Noisettes]   \n",
       "\n",
       "                                        albums_names genres_names  item_id  \\\n",
       "0                 [Taller Children, Taller Children]  [pop, folk]        0   \n",
       "1                 [Taller Children, Taller Children]  [pop, folk]        1   \n",
       "2  [Wild Young Hearts, Wild Young Hearts, Wild Yo...        [pop]        2   \n",
       "3  [Wild Young Hearts, Wild Young Hearts, Wild Yo...        [pop]        3   \n",
       "4  [Wild Young Hearts, Wild Young Hearts, Don't U...        [pop]        4   \n",
       "\n",
       "   rating  \n",
       "0       0  \n",
       "1       0  \n",
       "2       0  \n",
       "3       0  \n",
       "4       0  "
      ]
     },
     "execution_count": 40,
     "metadata": {},
     "output_type": "execute_result"
    }
   ],
   "source": [
    "items.head()"
   ]
  },
  {
   "cell_type": "code",
   "execution_count": 41,
   "id": "e20e5dec-6972-4374-ac2e-27baa6bf2418",
   "metadata": {},
   "outputs": [
    {
     "data": {
      "text/html": [
       "<div>\n",
       "<style scoped>\n",
       "    .dataframe tbody tr th:only-of-type {\n",
       "        vertical-align: middle;\n",
       "    }\n",
       "\n",
       "    .dataframe tbody tr th {\n",
       "        vertical-align: top;\n",
       "    }\n",
       "\n",
       "    .dataframe thead th {\n",
       "        text-align: right;\n",
       "    }\n",
       "</style>\n",
       "<table border=\"1\" class=\"dataframe\">\n",
       "  <thead>\n",
       "    <tr style=\"text-align: right;\">\n",
       "      <th></th>\n",
       "      <th>user_id</th>\n",
       "      <th>track_id</th>\n",
       "      <th>track_seq</th>\n",
       "      <th>started_at</th>\n",
       "      <th>item_id</th>\n",
       "    </tr>\n",
       "  </thead>\n",
       "  <tbody>\n",
       "    <tr>\n",
       "      <th>0</th>\n",
       "      <td>1</td>\n",
       "      <td>24417</td>\n",
       "      <td>1</td>\n",
       "      <td>2022-06-11</td>\n",
       "      <td>4345</td>\n",
       "    </tr>\n",
       "    <tr>\n",
       "      <th>1</th>\n",
       "      <td>1</td>\n",
       "      <td>108208</td>\n",
       "      <td>2</td>\n",
       "      <td>2022-06-13</td>\n",
       "      <td>18060</td>\n",
       "    </tr>\n",
       "    <tr>\n",
       "      <th>2</th>\n",
       "      <td>1</td>\n",
       "      <td>108209</td>\n",
       "      <td>3</td>\n",
       "      <td>2022-06-13</td>\n",
       "      <td>18061</td>\n",
       "    </tr>\n",
       "    <tr>\n",
       "      <th>3</th>\n",
       "      <td>1</td>\n",
       "      <td>592642</td>\n",
       "      <td>4</td>\n",
       "      <td>2022-06-15</td>\n",
       "      <td>61771</td>\n",
       "    </tr>\n",
       "    <tr>\n",
       "      <th>4</th>\n",
       "      <td>1</td>\n",
       "      <td>628687</td>\n",
       "      <td>5</td>\n",
       "      <td>2022-06-15</td>\n",
       "      <td>64517</td>\n",
       "    </tr>\n",
       "  </tbody>\n",
       "</table>\n",
       "</div>"
      ],
      "text/plain": [
       "   user_id  track_id  track_seq started_at  item_id\n",
       "0        1     24417          1 2022-06-11     4345\n",
       "1        1    108208          2 2022-06-13    18060\n",
       "2        1    108209          3 2022-06-13    18061\n",
       "3        1    592642          4 2022-06-15    61771\n",
       "4        1    628687          5 2022-06-15    64517"
      ]
     },
     "execution_count": 41,
     "metadata": {},
     "output_type": "execute_result"
    }
   ],
   "source": [
    "events.head()"
   ]
  },
  {
   "cell_type": "markdown",
   "id": "a694c023-6477-490b-939d-1cfa6f5f1b72",
   "metadata": {},
   "source": [
    "# Разбиение данных"
   ]
  },
  {
   "cell_type": "markdown",
   "id": "fbd5f6e0-54e7-4428-8678-eabce505d82c",
   "metadata": {},
   "source": [
    "Разбиваем данные на тренировочную, тестовую выборки."
   ]
  },
  {
   "cell_type": "code",
   "execution_count": 42,
   "id": "13271ad4-0c80-4d8e-af4f-e3901e098ec2",
   "metadata": {},
   "outputs": [
    {
     "name": "stdout",
     "output_type": "stream",
     "text": [
      "Кол-во строк в events_train 208731226\n",
      "Кол-во строк в events_test 13898646\n",
      "Кол-во пользователей в train 1342565\n",
      "Кол-во пользователей в test 783525\n",
      "Кол-во пользователей, которые есть и в train, и в test 752870\n"
     ]
    }
   ],
   "source": [
    "train_test_global_time_split_date = pd.to_datetime(\"2022-12-16\")\n",
    "\n",
    "train_test_global_time_split_idx = events['started_at'] < train_test_global_time_split_date\n",
    "\n",
    "events_train = events[train_test_global_time_split_idx]\n",
    "events_test = events[~train_test_global_time_split_idx]\n",
    "\n",
    "users_train = events_train[\"user_id\"].drop_duplicates()\n",
    "users_test = events_test[\"user_id\"].drop_duplicates()\n",
    "\n",
    "common_users = users_train[users_train.isin(users_test)]\n",
    "\n",
    "print(f\"Кол-во строк в events_train {len(events_train)}\")\n",
    "print(f\"Кол-во строк в events_test {len(events_test)}\")\n",
    "print(f\"Кол-во пользователей в train {len(users_train)}\")\n",
    "print(f\"Кол-во пользователей в test {len(users_test)}\")\n",
    "print(f\"Кол-во пользователей, которые есть и в train, и в test {len(common_users)}\")"
   ]
  },
  {
   "cell_type": "markdown",
   "id": "54b61994",
   "metadata": {},
   "source": [
    "<div class=\"alert alert-block alert-success\">\n",
    "<h2> Комментарий ревьюера ✔️</h2>\n",
    "    \n",
    "Отлично, данные разделены и молодец, что подсчитал сколько в сформированных выборках строк и пользователей.\n",
    "</div>"
   ]
  },
  {
   "cell_type": "markdown",
   "id": "9131c7e6-8852-4556-b510-51f7253cc299",
   "metadata": {},
   "source": [
    "# Топ популярных"
   ]
  },
  {
   "cell_type": "markdown",
   "id": "dd70d43a-88cc-4719-b291-feaed7136f30",
   "metadata": {},
   "source": [
    "Рассчитаем рекомендации как топ популярных."
   ]
  },
  {
   "cell_type": "code",
   "execution_count": 43,
   "id": "2267a650-7bcd-4905-9c59-7c644f77b44f",
   "metadata": {},
   "outputs": [
    {
     "name": "stdout",
     "output_type": "stream",
     "text": [
      "30655\n"
     ]
    }
   ],
   "source": [
    "# Холодные пользователи — те, кто есть в test, но отсутствуют в train\n",
    "cold_users = users_test[~users_test.isin(users_train)]\n",
    "# Выводим количество холодных пользователей\n",
    "print(len(cold_users))"
   ]
  },
  {
   "cell_type": "code",
   "execution_count": 44,
   "id": "7f307d23-61c7-46ff-bf93-8e2120e93c44",
   "metadata": {},
   "outputs": [],
   "source": [
    "top_pop_start_date = pd.to_datetime(\"2022-11-16\").date()\n",
    "\n",
    "item_popularity = events_train \\\n",
    "    .query(\"started_at >= @top_pop_start_date\") \\\n",
    "    .groupby([\"item_id\"]).agg(users=(\"user_id\", \"nunique\")).reset_index()\n",
    "\n",
    "# нормализация пользователей и среднего рейтинга, требуется для их приведения к одному масштабу\n",
    "scaler = MinMaxScaler()\n",
    "item_popularity[[\"popularity_score\"]] = scaler.fit_transform(\n",
    "    item_popularity[[\"users\"]])\n",
    "\n",
    "# сортируем по убыванию popularity_score\n",
    "item_popularity = item_popularity.sort_values(by='popularity_score',ascending=False)"
   ]
  },
  {
   "cell_type": "code",
   "execution_count": 45,
   "id": "335de367-2f82-4077-8dd9-d3c16e80ed54",
   "metadata": {},
   "outputs": [
    {
     "data": {
      "text/html": [
       "<div>\n",
       "<style scoped>\n",
       "    .dataframe tbody tr th:only-of-type {\n",
       "        vertical-align: middle;\n",
       "    }\n",
       "\n",
       "    .dataframe tbody tr th {\n",
       "        vertical-align: top;\n",
       "    }\n",
       "\n",
       "    .dataframe thead th {\n",
       "        text-align: right;\n",
       "    }\n",
       "</style>\n",
       "<table border=\"1\" class=\"dataframe\">\n",
       "  <thead>\n",
       "    <tr style=\"text-align: right;\">\n",
       "      <th></th>\n",
       "      <th>item_id</th>\n",
       "      <th>users</th>\n",
       "      <th>popularity_score</th>\n",
       "    </tr>\n",
       "  </thead>\n",
       "  <tbody>\n",
       "    <tr>\n",
       "      <th>771260</th>\n",
       "      <td>940964</td>\n",
       "      <td>23606</td>\n",
       "      <td>1.000000</td>\n",
       "    </tr>\n",
       "    <tr>\n",
       "      <th>614108</th>\n",
       "      <td>779281</td>\n",
       "      <td>23093</td>\n",
       "      <td>0.978267</td>\n",
       "    </tr>\n",
       "    <tr>\n",
       "      <th>766295</th>\n",
       "      <td>935913</td>\n",
       "      <td>22918</td>\n",
       "      <td>0.970854</td>\n",
       "    </tr>\n",
       "    <tr>\n",
       "      <th>662069</th>\n",
       "      <td>829320</td>\n",
       "      <td>22682</td>\n",
       "      <td>0.960856</td>\n",
       "    </tr>\n",
       "    <tr>\n",
       "      <th>747797</th>\n",
       "      <td>917171</td>\n",
       "      <td>22401</td>\n",
       "      <td>0.948951</td>\n",
       "    </tr>\n",
       "  </tbody>\n",
       "</table>\n",
       "</div>"
      ],
      "text/plain": [
       "        item_id  users  popularity_score\n",
       "771260   940964  23606          1.000000\n",
       "614108   779281  23093          0.978267\n",
       "766295   935913  22918          0.970854\n",
       "662069   829320  22682          0.960856\n",
       "747797   917171  22401          0.948951"
      ]
     },
     "execution_count": 45,
     "metadata": {},
     "output_type": "execute_result"
    }
   ],
   "source": [
    "item_popularity.head()"
   ]
  },
  {
   "cell_type": "markdown",
   "id": "e1a81440",
   "metadata": {},
   "source": [
    "<div class=\"alert alert-block alert-warning\">\n",
    "<h2> Комментарий ревьюера ⚠️</h2>\n",
    "    \n",
    "Рекомендую не выводить все строки датафрейма, так как это загромождает вывод данных и перегружает ядро ноутбука. Достаточно вывести несколько первых, последних или случайно выбранных строк датафрейма.\n",
    "</div>"
   ]
  },
  {
   "cell_type": "code",
   "execution_count": 46,
   "id": "fb46fd74-1c40-42f0-a98f-75b9abbe817a",
   "metadata": {},
   "outputs": [],
   "source": [
    "items = items.merge(item_popularity.drop(['users'], axis=1), how='left', on='item_id')"
   ]
  },
  {
   "cell_type": "code",
   "execution_count": 47,
   "id": "61b606b4-3035-4a3a-ae62-416533e6d5ce",
   "metadata": {},
   "outputs": [
    {
     "data": {
      "text/html": [
       "<div>\n",
       "<style scoped>\n",
       "    .dataframe tbody tr th:only-of-type {\n",
       "        vertical-align: middle;\n",
       "    }\n",
       "\n",
       "    .dataframe tbody tr th {\n",
       "        vertical-align: top;\n",
       "    }\n",
       "\n",
       "    .dataframe thead th {\n",
       "        text-align: right;\n",
       "    }\n",
       "</style>\n",
       "<table border=\"1\" class=\"dataframe\">\n",
       "  <thead>\n",
       "    <tr style=\"text-align: right;\">\n",
       "      <th></th>\n",
       "      <th>track_id</th>\n",
       "      <th>albums</th>\n",
       "      <th>artists</th>\n",
       "      <th>genres</th>\n",
       "      <th>artists_names</th>\n",
       "      <th>albums_names</th>\n",
       "      <th>genres_names</th>\n",
       "      <th>item_id</th>\n",
       "      <th>rating</th>\n",
       "      <th>popularity_score</th>\n",
       "    </tr>\n",
       "  </thead>\n",
       "  <tbody>\n",
       "    <tr>\n",
       "      <th>0</th>\n",
       "      <td>26</td>\n",
       "      <td>[3, 2490753]</td>\n",
       "      <td>[16]</td>\n",
       "      <td>[11, 21]</td>\n",
       "      <td>[Elizabeth &amp; the Catapult]</td>\n",
       "      <td>[Taller Children, Taller Children]</td>\n",
       "      <td>[pop, folk]</td>\n",
       "      <td>0</td>\n",
       "      <td>0</td>\n",
       "      <td>NaN</td>\n",
       "    </tr>\n",
       "    <tr>\n",
       "      <th>1</th>\n",
       "      <td>38</td>\n",
       "      <td>[3, 2490753]</td>\n",
       "      <td>[16]</td>\n",
       "      <td>[11, 21]</td>\n",
       "      <td>[Elizabeth &amp; the Catapult]</td>\n",
       "      <td>[Taller Children, Taller Children]</td>\n",
       "      <td>[pop, folk]</td>\n",
       "      <td>1</td>\n",
       "      <td>0</td>\n",
       "      <td>NaN</td>\n",
       "    </tr>\n",
       "    <tr>\n",
       "      <th>2</th>\n",
       "      <td>135</td>\n",
       "      <td>[12, 214, 2490809]</td>\n",
       "      <td>[84]</td>\n",
       "      <td>[11]</td>\n",
       "      <td>[Noisettes]</td>\n",
       "      <td>[Wild Young Hearts, Wild Young Hearts, Wild Yo...</td>\n",
       "      <td>[pop]</td>\n",
       "      <td>2</td>\n",
       "      <td>0</td>\n",
       "      <td>NaN</td>\n",
       "    </tr>\n",
       "    <tr>\n",
       "      <th>3</th>\n",
       "      <td>136</td>\n",
       "      <td>[12, 214, 2490809]</td>\n",
       "      <td>[84]</td>\n",
       "      <td>[11]</td>\n",
       "      <td>[Noisettes]</td>\n",
       "      <td>[Wild Young Hearts, Wild Young Hearts, Wild Yo...</td>\n",
       "      <td>[pop]</td>\n",
       "      <td>3</td>\n",
       "      <td>0</td>\n",
       "      <td>NaN</td>\n",
       "    </tr>\n",
       "    <tr>\n",
       "      <th>4</th>\n",
       "      <td>138</td>\n",
       "      <td>[12, 214, 322, 72275, 72292, 91199, 213505, 24...</td>\n",
       "      <td>[84]</td>\n",
       "      <td>[11]</td>\n",
       "      <td>[Noisettes]</td>\n",
       "      <td>[Wild Young Hearts, Wild Young Hearts, Don't U...</td>\n",
       "      <td>[pop]</td>\n",
       "      <td>4</td>\n",
       "      <td>0</td>\n",
       "      <td>NaN</td>\n",
       "    </tr>\n",
       "  </tbody>\n",
       "</table>\n",
       "</div>"
      ],
      "text/plain": [
       "   track_id                                             albums artists  \\\n",
       "0        26                                       [3, 2490753]    [16]   \n",
       "1        38                                       [3, 2490753]    [16]   \n",
       "2       135                                 [12, 214, 2490809]    [84]   \n",
       "3       136                                 [12, 214, 2490809]    [84]   \n",
       "4       138  [12, 214, 322, 72275, 72292, 91199, 213505, 24...    [84]   \n",
       "\n",
       "     genres               artists_names  \\\n",
       "0  [11, 21]  [Elizabeth & the Catapult]   \n",
       "1  [11, 21]  [Elizabeth & the Catapult]   \n",
       "2      [11]                 [Noisettes]   \n",
       "3      [11]                 [Noisettes]   \n",
       "4      [11]                 [Noisettes]   \n",
       "\n",
       "                                        albums_names genres_names  item_id  \\\n",
       "0                 [Taller Children, Taller Children]  [pop, folk]        0   \n",
       "1                 [Taller Children, Taller Children]  [pop, folk]        1   \n",
       "2  [Wild Young Hearts, Wild Young Hearts, Wild Yo...        [pop]        2   \n",
       "3  [Wild Young Hearts, Wild Young Hearts, Wild Yo...        [pop]        3   \n",
       "4  [Wild Young Hearts, Wild Young Hearts, Don't U...        [pop]        4   \n",
       "\n",
       "   rating  popularity_score  \n",
       "0       0               NaN  \n",
       "1       0               NaN  \n",
       "2       0               NaN  \n",
       "3       0               NaN  \n",
       "4       0               NaN  "
      ]
     },
     "execution_count": 47,
     "metadata": {},
     "output_type": "execute_result"
    }
   ],
   "source": [
    "items.head()"
   ]
  },
  {
   "cell_type": "code",
   "execution_count": 48,
   "id": "ee45e200-b7d6-4f56-9077-aad431689b96",
   "metadata": {},
   "outputs": [
    {
     "data": {
      "text/html": [
       "<div>\n",
       "<style scoped>\n",
       "    .dataframe tbody tr th:only-of-type {\n",
       "        vertical-align: middle;\n",
       "    }\n",
       "\n",
       "    .dataframe tbody tr th {\n",
       "        vertical-align: top;\n",
       "    }\n",
       "\n",
       "    .dataframe thead th {\n",
       "        text-align: right;\n",
       "    }\n",
       "</style>\n",
       "<table border=\"1\" class=\"dataframe\">\n",
       "  <thead>\n",
       "    <tr style=\"text-align: right;\">\n",
       "      <th></th>\n",
       "      <th>item_id</th>\n",
       "      <th>users</th>\n",
       "      <th>popularity_score</th>\n",
       "      <th>artists_names</th>\n",
       "      <th>albums_names</th>\n",
       "      <th>genres_names</th>\n",
       "    </tr>\n",
       "  </thead>\n",
       "  <tbody>\n",
       "    <tr>\n",
       "      <th>0</th>\n",
       "      <td>940964</td>\n",
       "      <td>23606</td>\n",
       "      <td>1.000000</td>\n",
       "      <td>[HammAli &amp; Navai]</td>\n",
       "      <td>[Птичка]</td>\n",
       "      <td>[pop, ruspop]</td>\n",
       "    </tr>\n",
       "    <tr>\n",
       "      <th>1</th>\n",
       "      <td>779281</td>\n",
       "      <td>23093</td>\n",
       "      <td>0.978267</td>\n",
       "      <td>[The Weeknd]</td>\n",
       "      <td>[Blinding Lights, After Hours, After Hours, Af...</td>\n",
       "      <td>[rnb]</td>\n",
       "    </tr>\n",
       "    <tr>\n",
       "      <th>2</th>\n",
       "      <td>935913</td>\n",
       "      <td>22918</td>\n",
       "      <td>0.970854</td>\n",
       "      <td>[Galibri &amp; Mavik]</td>\n",
       "      <td>[Федерико Феллини]</td>\n",
       "      <td>[pop, ruspop]</td>\n",
       "    </tr>\n",
       "    <tr>\n",
       "      <th>3</th>\n",
       "      <td>829320</td>\n",
       "      <td>22682</td>\n",
       "      <td>0.960856</td>\n",
       "      <td>[Dabro]</td>\n",
       "      <td>[Юность]</td>\n",
       "      <td>[pop, ruspop]</td>\n",
       "    </tr>\n",
       "    <tr>\n",
       "      <th>4</th>\n",
       "      <td>917171</td>\n",
       "      <td>22401</td>\n",
       "      <td>0.948951</td>\n",
       "      <td>[Minelli]</td>\n",
       "      <td>[Rampampam, Rampampam]</td>\n",
       "      <td>[dance]</td>\n",
       "    </tr>\n",
       "  </tbody>\n",
       "</table>\n",
       "</div>"
      ],
      "text/plain": [
       "   item_id  users  popularity_score      artists_names  \\\n",
       "0   940964  23606          1.000000  [HammAli & Navai]   \n",
       "1   779281  23093          0.978267       [The Weeknd]   \n",
       "2   935913  22918          0.970854  [Galibri & Mavik]   \n",
       "3   829320  22682          0.960856            [Dabro]   \n",
       "4   917171  22401          0.948951          [Minelli]   \n",
       "\n",
       "                                        albums_names   genres_names  \n",
       "0                                           [Птичка]  [pop, ruspop]  \n",
       "1  [Blinding Lights, After Hours, After Hours, Af...          [rnb]  \n",
       "2                                 [Федерико Феллини]  [pop, ruspop]  \n",
       "3                                           [Юность]  [pop, ruspop]  \n",
       "4                             [Rampampam, Rampampam]        [dance]  "
      ]
     },
     "execution_count": 48,
     "metadata": {},
     "output_type": "execute_result"
    }
   ],
   "source": [
    "# топ 100 популярных треков\n",
    "top_100_popular_tracks = item_popularity.head(100)\n",
    "top_100_popular_tracks = top_100_popular_tracks.merge(items[['item_id', 'artists_names', 'albums_names', 'genres_names']], on=\"item_id\")\n",
    "\n",
    "top_100_popular_tracks.head()"
   ]
  },
  {
   "cell_type": "code",
   "execution_count": 49,
   "id": "956d6c62-f70c-429f-b855-05ccb1a53564",
   "metadata": {},
   "outputs": [],
   "source": [
    "# Создаем директорию, если она не существует\n",
    "output_dir = 'recsys/recommendations'\n",
    "os.makedirs(output_dir, exist_ok=True)  # exist_ok=True позволяет не выбрасывать ошибку, если директория уже существует\n",
    "\n",
    "# Теперь сохраняем файлы\n",
    "top_100_popular_tracks.to_parquet(f'{output_dir}/top_popular.parquet', engine='pyarrow')"
   ]
  },
  {
   "cell_type": "code",
   "execution_count": 50,
   "id": "004916c1-4365-44d0-8837-e726b511cc86",
   "metadata": {},
   "outputs": [],
   "source": [
    "cold_users = set(cold_users)"
   ]
  },
  {
   "cell_type": "markdown",
   "id": "ae15f591",
   "metadata": {},
   "source": [
    "<div class=\"alert alert-block alert-success\">\n",
    "<h2> Комментарий ревьюера ✔️</h2>\n",
    "    \n",
    "Да, сфойство множеств содержать уникальные элементы здесь пригодится)\n",
    "</div>"
   ]
  },
  {
   "cell_type": "code",
   "execution_count": 51,
   "id": "f13bb437-03d1-4873-bfc0-7d67cb454824",
   "metadata": {},
   "outputs": [],
   "source": [
    "cold_users_events_with_recs = events_test.query(\"user_id in @cold_users\").merge(top_100_popular_tracks, on=\"item_id\", how=\"left\")"
   ]
  },
  {
   "cell_type": "code",
   "execution_count": 52,
   "id": "dc37704d-c024-4a19-850c-29863aaa5b11",
   "metadata": {},
   "outputs": [],
   "source": [
    "cold_user_items_no_pop_idx = cold_users_events_with_recs[\"popularity_score\"].isnull()\n",
    "cold_user_recs = cold_users_events_with_recs[~cold_user_items_no_pop_idx] \\\n",
    "    [[\"item_id\", \"popularity_score\"]] "
   ]
  },
  {
   "cell_type": "code",
   "execution_count": 53,
   "id": "9d5ad2a0-cb6f-4e85-8aea-934ae972c593",
   "metadata": {},
   "outputs": [
    {
     "data": {
      "text/html": [
       "<div>\n",
       "<style scoped>\n",
       "    .dataframe tbody tr th:only-of-type {\n",
       "        vertical-align: middle;\n",
       "    }\n",
       "\n",
       "    .dataframe tbody tr th {\n",
       "        vertical-align: top;\n",
       "    }\n",
       "\n",
       "    .dataframe thead th {\n",
       "        text-align: right;\n",
       "    }\n",
       "</style>\n",
       "<table border=\"1\" class=\"dataframe\">\n",
       "  <thead>\n",
       "    <tr style=\"text-align: right;\">\n",
       "      <th></th>\n",
       "      <th>item_id</th>\n",
       "      <th>popularity_score</th>\n",
       "    </tr>\n",
       "  </thead>\n",
       "  <tbody>\n",
       "    <tr>\n",
       "      <th>56</th>\n",
       "      <td>757669</td>\n",
       "      <td>0.675916</td>\n",
       "    </tr>\n",
       "    <tr>\n",
       "      <th>100</th>\n",
       "      <td>728976</td>\n",
       "      <td>0.531794</td>\n",
       "    </tr>\n",
       "    <tr>\n",
       "      <th>115</th>\n",
       "      <td>692312</td>\n",
       "      <td>0.466215</td>\n",
       "    </tr>\n",
       "    <tr>\n",
       "      <th>166</th>\n",
       "      <td>825152</td>\n",
       "      <td>0.426901</td>\n",
       "    </tr>\n",
       "    <tr>\n",
       "      <th>168</th>\n",
       "      <td>899769</td>\n",
       "      <td>0.397162</td>\n",
       "    </tr>\n",
       "  </tbody>\n",
       "</table>\n",
       "</div>"
      ],
      "text/plain": [
       "     item_id  popularity_score\n",
       "56    757669          0.675916\n",
       "100   728976          0.531794\n",
       "115   692312          0.466215\n",
       "166   825152          0.426901\n",
       "168   899769          0.397162"
      ]
     },
     "execution_count": 53,
     "metadata": {},
     "output_type": "execute_result"
    }
   ],
   "source": [
    "cold_user_recs.head()"
   ]
  },
  {
   "cell_type": "code",
   "execution_count": 17,
   "id": "d4f6fa77-2304-4fe5-95e8-6e9928b90692",
   "metadata": {},
   "outputs": [
    {
     "name": "stdout",
     "output_type": "stream",
     "text": [
      "Подключение успешно. Креды работают.\n",
      "Файлы успешно загружены на S3.\n"
     ]
    }
   ],
   "source": [
    "# Загружаем переменные окружения из .env\n",
    "load_dotenv()\n",
    "\n",
    "s3_bucket = os.getenv('s3_bucket')\n",
    "aws_access_key_id = os.getenv('AWS_ACCESS_KEY_ID')\n",
    "aws_secret_access_key = os.getenv('AWS_SECRET_ACCESS_KEY')\n",
    "\n",
    "# Настройка сессии с указанием региона и endpoint для Яндекс S3\n",
    "session = boto3.Session(\n",
    "    aws_access_key_id=aws_access_key_id,\n",
    "    aws_secret_access_key=aws_secret_access_key,\n",
    "    region_name='ru-central1'\n",
    ")\n",
    "\n",
    "s3 = session.client(\n",
    "    's3',\n",
    "    endpoint_url='https://storage.yandexcloud.net',\n",
    "    config=Config(signature_version='s3v4', s3={'addressing_style': 'path'})\n",
    ")\n",
    "\n",
    "bucket_name = s3_bucket\n",
    "\n",
    "# Пути к файлам для загрузки\n",
    "output_dir = \"recsys/recommendations\"  \n",
    "items_file_path = f\"{output_dir}/top_popular.parquet\"\n",
    "\n",
    "try:\n",
    "    # Проверка успешного подключения\n",
    "    response = s3.get_bucket_location(Bucket=bucket_name)\n",
    "    print(\"Подключение успешно. Креды работают.\")\n",
    "    \n",
    "    # Загрузка файлов на S3\n",
    "    s3.upload_file(items_file_path, bucket_name, 'recsys/recommendations/top_popular.parquet')\n",
    "    print(\"Файлы успешно загружены на S3.\")\n",
    "\n",
    "except Exception as e:\n",
    "    print(\"Ошибка подключения или загрузки файлов:\", e)"
   ]
  },
  {
   "cell_type": "markdown",
   "id": "d853ca5c",
   "metadata": {},
   "source": [
    "<div class=\"alert alert-block alert-success\">\n",
    "<h2> Комментарий ревьюера ✔️</h2>\n",
    "    \n",
    "Ок, загрузка данных успешно выполнена 👍👍👍\n",
    "</div>"
   ]
  },
  {
   "cell_type": "markdown",
   "id": "2ad231f2-6158-421a-b7fa-01d8bc3ed572",
   "metadata": {},
   "source": [
    "# Персональные"
   ]
  },
  {
   "cell_type": "markdown",
   "id": "86159460-cd9d-4b63-8248-604ea3c9aebf",
   "metadata": {},
   "source": [
    "Рассчитаем персональные рекомендации."
   ]
  },
  {
   "cell_type": "code",
   "execution_count": 18,
   "id": "d2944822-569c-4f9b-82dc-70a7fa2d542e",
   "metadata": {},
   "outputs": [],
   "source": [
    "events_test = events_test.merge(items[['item_id', 'popularity_score']], how='left', on='item_id')\n",
    "events_train = events_train.merge(items[['item_id', 'popularity_score']], how='left', on='item_id')"
   ]
  },
  {
   "cell_type": "code",
   "execution_count": 19,
   "id": "1e8cdb58-3a8c-45ad-8e5f-7f950314aa56",
   "metadata": {},
   "outputs": [],
   "source": [
    "events_train = events_train.dropna()\n",
    "events_test = events_test.dropna()\n",
    "items = items.fillna(0)"
   ]
  },
  {
   "cell_type": "code",
   "execution_count": 20,
   "id": "4e4f9278-11c5-4c89-8515-44bd717d919a",
   "metadata": {},
   "outputs": [
    {
     "name": "stdout",
     "output_type": "stream",
     "text": [
      "float64\n",
      "float64\n",
      "float64\n"
     ]
    }
   ],
   "source": [
    "print(events_train['popularity_score'].dtype)\n",
    "print(events_test['popularity_score'].dtype)\n",
    "print(items['popularity_score'].dtype)"
   ]
  },
  {
   "cell_type": "code",
   "execution_count": 21,
   "id": "d58567ad-87e0-4330-907f-2c5cdaed9e10",
   "metadata": {},
   "outputs": [],
   "source": [
    "events_test.to_parquet('recsys/data/events_test.parquet')\n",
    "events_train.to_parquet('recsys/data/events_train.parquet')\n",
    "items.to_parquet('recsys/data/items.parquet')"
   ]
  },
  {
   "cell_type": "code",
   "execution_count": null,
   "id": "b9d78ffd-d2db-4991-b8a9-3170471486c1",
   "metadata": {},
   "outputs": [],
   "source": []
  },
  {
   "cell_type": "code",
   "execution_count": null,
   "id": "f0a21433-ffd7-4117-8fb8-5000338c8c91",
   "metadata": {},
   "outputs": [],
   "source": []
  },
  {
   "cell_type": "code",
   "execution_count": null,
   "id": "aa88a5ec-21e5-4510-b7d7-35cb12d57fde",
   "metadata": {},
   "outputs": [],
   "source": []
  },
  {
   "cell_type": "code",
   "execution_count": 54,
   "id": "bdd7befb-f821-4351-ab82-4e1a1c1b9846",
   "metadata": {},
   "outputs": [],
   "source": [
    "# Очистить все переменные и объекты в текущем пространстве имен\n",
    "%reset -f"
   ]
  },
  {
   "cell_type": "code",
   "execution_count": 2,
   "id": "305233bd-6b7a-42fe-bf31-f417d6ae8272",
   "metadata": {},
   "outputs": [],
   "source": [
    "import pandas as pd\n",
    "import matplotlib.pyplot as plt\n",
    "import numpy as np\n",
    "import os\n",
    "from dotenv import load_dotenv\n",
    "import boto3\n",
    "from botocore.exceptions import NoCredentialsError, PartialCredentialsError\n",
    "from botocore.client import Config\n",
    "from sklearn.preprocessing import LabelEncoder\n",
    "from sklearn.preprocessing import MinMaxScaler"
   ]
  },
  {
   "cell_type": "code",
   "execution_count": 43,
   "id": "30d9baa5-befb-4ae6-883f-5700dac7c958",
   "metadata": {},
   "outputs": [],
   "source": [
    "# Загружаем данные из файлов .parquet\n",
    "items = pd.read_parquet('recsys/data/items.parquet')\n",
    "events = pd.read_parquet('recsys/data/events.parquet')\n",
    "events_test = pd.read_parquet('recsys/data/events_test.parquet')\n",
    "events_train = pd.read_parquet('recsys/data/events_train.parquet')\n",
    "items=pd.DataFrame(items)\n",
    "events=pd.DataFrame(events)\n",
    "events_test=pd.DataFrame(events_test)\n",
    "events_train=pd.DataFrame(events_train)"
   ]
  },
  {
   "cell_type": "code",
   "execution_count": 4,
   "id": "2e3f25fa-d949-445a-9831-3feee985c694",
   "metadata": {},
   "outputs": [],
   "source": [
    "events_train = events_train.rename(columns={'popularity_score': 'rating'})\n",
    "events_test = events_test.rename(columns={'popularity_score': 'rating'})\n",
    "items = items.rename(columns={'popularity_score': 'rating'})"
   ]
  },
  {
   "cell_type": "code",
   "execution_count": 5,
   "id": "e72ea363-3a8c-41bb-8c44-c90680c8f2ff",
   "metadata": {},
   "outputs": [],
   "source": [
    "events_train['rating'] = events_train['rating'] * 5\n",
    "events_test['rating'] = events_test['rating'] * 5\n",
    "items['rating'] = items['rating'] * 5"
   ]
  },
  {
   "cell_type": "code",
   "execution_count": 6,
   "id": "44fc7655-39f5-4209-af57-6132c5f035f7",
   "metadata": {},
   "outputs": [],
   "source": [
    "events_train['rating'] = events_train['rating'].apply(round)\n",
    "events_test['rating'] = events_test['rating'].apply(round)\n",
    "items['rating'] = items['rating'].apply(round)"
   ]
  },
  {
   "cell_type": "code",
   "execution_count": 7,
   "id": "caccbe53-b457-4f6e-b1ca-724861b2d5bd",
   "metadata": {},
   "outputs": [],
   "source": [
    "events_train['rating'] = events_train['rating'].astype(np.int8)\n",
    "events_test['rating'] = events_test['rating'].astype(np.int8)\n",
    "items['rating'] = items['rating'].astype(np.int8)"
   ]
  },
  {
   "cell_type": "markdown",
   "id": "e947da11",
   "metadata": {},
   "source": [
    "<div class=\"alert alert-block alert-success\">\n",
    "<h2> Комментарий ревьюера ✔️</h2>\n",
    "    \n",
    "Отлично, что оптимизировал тип данных.  👍👍👍\n",
    "     \n",
    "Для больших датасетов оптимизация типов данных позволяет сократить объём занимаемой оперативной памяти.\n",
    "\n",
    "Подробнее: https://towardsdatascience.com/seven-killer-memory-optimization-techniques-every-pandas-user-should-know-64707348ab20\n",
    "</div>"
   ]
  },
  {
   "cell_type": "code",
   "execution_count": 8,
   "id": "779d001a-939b-4970-ab5a-39614b894016",
   "metadata": {},
   "outputs": [],
   "source": [
    "events_test.to_parquet('recsys/data/events_test.parquet')\n",
    "events_train.to_parquet('recsys/data/events_train.parquet')\n",
    "items.to_parquet('recsys/data/items.parquet')"
   ]
  },
  {
   "cell_type": "markdown",
   "id": "a42f707e-aa44-4035-8d75-e45d966fbc4c",
   "metadata": {},
   "source": [
    "<H2>ALS</H2>"
   ]
  },
  {
   "cell_type": "code",
   "execution_count": 55,
   "id": "db520e60-bcf6-47c3-9b99-ebd8b65682ed",
   "metadata": {},
   "outputs": [],
   "source": [
    "# Очистить все переменные и объекты в текущем пространстве имен\n",
    "%reset -f"
   ]
  },
  {
   "cell_type": "code",
   "execution_count": 56,
   "id": "d4231b0f-ef6f-4dd1-9de8-62e1c02644da",
   "metadata": {},
   "outputs": [],
   "source": [
    "import pandas as pd\n",
    "import matplotlib.pyplot as plt\n",
    "import numpy as np\n",
    "import os\n",
    "from dotenv import load_dotenv\n",
    "import boto3\n",
    "from botocore.exceptions import NoCredentialsError, PartialCredentialsError\n",
    "from botocore.client import Config\n",
    "from sklearn.preprocessing import LabelEncoder\n",
    "from sklearn.preprocessing import MinMaxScaler\n",
    "import scipy\n",
    "import sklearn.preprocessing\n",
    "from sklearn.metrics.pairwise import cosine_similarity"
   ]
  },
  {
   "cell_type": "code",
   "execution_count": 57,
   "id": "f86cdabf-482e-4224-b8c4-e51b8102b828",
   "metadata": {},
   "outputs": [],
   "source": [
    "# Загружаем данные из файлов .parquet\n",
    "items = pd.read_parquet('recsys/data/items.parquet')\n",
    "events = pd.read_parquet('recsys/data/events.parquet')\n",
    "events_test = pd.read_parquet('recsys/data/events_test.parquet')\n",
    "events_train = pd.read_parquet('recsys/data/events_train.parquet')\n",
    "items=pd.DataFrame(items)\n",
    "events=pd.DataFrame(events)\n",
    "events_test=pd.DataFrame(events_test)\n",
    "events_train=pd.DataFrame(events_train)"
   ]
  },
  {
   "cell_type": "code",
   "execution_count": 58,
   "id": "c14d3b89-1743-4570-85b0-1f263b21b11e",
   "metadata": {},
   "outputs": [],
   "source": [
    "# из имеющихся в последовательность 0, 1, 2, ...\n",
    "user_encoder = sklearn.preprocessing.LabelEncoder()\n",
    "user_encoder.fit(events[\"user_id\"])\n",
    "events_train[\"user_id_enc\"] = user_encoder.transform(events_train[\"user_id\"])\n",
    "events_test[\"user_id_enc\"] = user_encoder.transform(events_test[\"user_id\"])"
   ]
  },
  {
   "cell_type": "code",
   "execution_count": 59,
   "id": "151f9568-344a-4a85-94a1-53c01e790658",
   "metadata": {},
   "outputs": [],
   "source": [
    "# перекодируем идентификаторы объектов: \n",
    "# из имеющихся в последовательность 0, 1, 2, ...\n",
    "item_encoder = sklearn.preprocessing.LabelEncoder()\n",
    "item_encoder.fit(items[\"item_id\"])\n",
    "items[\"item_id_enc\"] = item_encoder.transform(items[\"item_id\"])\n",
    "events_train[\"item_id_enc\"] = item_encoder.transform(events_train[\"item_id\"])\n",
    "events_test[\"item_id_enc\"] = item_encoder.transform(events_test[\"item_id\"])"
   ]
  },
  {
   "cell_type": "code",
   "execution_count": 8,
   "id": "9f320e58-d595-440d-a401-b8b29427facd",
   "metadata": {},
   "outputs": [
    {
     "data": {
      "text/plain": [
       "4.652125923894346"
      ]
     },
     "execution_count": 8,
     "metadata": {},
     "output_type": "execute_result"
    }
   ],
   "source": [
    "import sys\n",
    "\n",
    "sum([sys.getsizeof(i) for i in user_item_matrix_train.data])/1024**3"
   ]
  },
  {
   "cell_type": "markdown",
   "id": "3fc62ce5-2ab3-48d9-8bb8-1ca7d0f2414a",
   "metadata": {},
   "source": [
    "слетает ядро, попробуем уменьшить объем "
   ]
  },
  {
   "cell_type": "code",
   "execution_count": 60,
   "id": "ce4c0727-388c-411a-b487-066bc978edea",
   "metadata": {},
   "outputs": [],
   "source": [
    "events_train = events_train[::10]"
   ]
  },
  {
   "cell_type": "code",
   "execution_count": 61,
   "id": "753515a6-b0a9-46f8-87e3-1e5abfdc7271",
   "metadata": {},
   "outputs": [],
   "source": [
    "# создаём sparse-матрицу формата CSR \n",
    "user_item_matrix_train = scipy.sparse.csr_matrix((\n",
    "    events_train[\"rating\"],\n",
    "    (events_train['user_id_enc'], events_train['item_id_enc'])),\n",
    "    dtype=np.int8) "
   ]
  },
  {
   "cell_type": "markdown",
   "id": "2a991fe1-2055-4243-80c0-dc9173f85628",
   "metadata": {},
   "source": [
    "создание и тренировка модели на разряженой матрице user_item_matrix_train"
   ]
  },
  {
   "cell_type": "code",
   "execution_count": 62,
   "id": "d06a2b73-39c6-4675-ae55-9f85d5cdd305",
   "metadata": {},
   "outputs": [
    {
     "name": "stderr",
     "output_type": "stream",
     "text": [
      "100%|█████████████████████████████████████████████████████████████████████████████████████████████| 20/20 [01:46<00:00,  5.33s/it]\n"
     ]
    }
   ],
   "source": [
    "import warnings\n",
    "warnings.filterwarnings(\"ignore\")\n",
    "\n",
    "from implicit.als import AlternatingLeastSquares\n",
    "\n",
    "als_model = AlternatingLeastSquares(factors=40, iterations=20, regularization=0.05, random_state=0, num_threads=4)\n",
    "als_model.fit(user_item_matrix_train)"
   ]
  },
  {
   "cell_type": "markdown",
   "id": "a5ae6619",
   "metadata": {},
   "source": [
    "<div class=\"alert alert-block alert-warning\">\n",
    "<h2> Комментарий ревьюера ⚠️</h2>\n",
    "    \n",
    "Вывод warnings можно убрать с помощью:\n",
    "\n",
    "```\n",
    "import warnings\n",
    "\n",
    "warnings.filterwarnings(\"ignore\")\n",
    "```\n",
    "</div>"
   ]
  },
  {
   "cell_type": "markdown",
   "id": "877448ab-e524-4360-9d3c-b37af726e03e",
   "metadata": {},
   "source": [
    "Чтобы получить рекомендации для пользователя с помощью модели ALS, используем такую функцию:"
   ]
  },
  {
   "cell_type": "code",
   "execution_count": 8,
   "id": "cc6ded95-0c50-47b9-98a3-9fca50261a94",
   "metadata": {},
   "outputs": [],
   "source": [
    "def get_recommendations_als(user_item_matrix, model, user_id, user_encoder, item_encoder, include_seen=True, n=5):\n",
    "    \"\"\"\n",
    "    Возвращает отранжированные рекомендации для заданного пользователя\n",
    "    \"\"\"\n",
    "    user_id_enc = user_encoder.transform([user_id])[0]\n",
    "    recommendations = model.recommend(\n",
    "         user_id_enc, \n",
    "         user_item_matrix[user_id_enc], \n",
    "         filter_already_liked_items=not include_seen,\n",
    "         N=n)\n",
    "    recommendations = pd.DataFrame({\"item_id_enc\": recommendations[0], \"score\": recommendations[1]})\n",
    "    recommendations[\"item_id\"] = item_encoder.inverse_transform(recommendations[\"item_id_enc\"])\n",
    "    \n",
    "    return recommendations"
   ]
  },
  {
   "cell_type": "markdown",
   "id": "92090129",
   "metadata": {},
   "source": [
    "<div class=\"alert alert-block alert-success\">\n",
    "<h2> Комментарий ревьюера ✔️</h2>\n",
    "    \n",
    "Здорово, что добавил описание к функции, но в docstrings ещё желательно указывать входные аргументы и их тип и возвращаемые значения.\n",
    "    \n",
    "Пример:\n",
    "    \n",
    "```\n",
    "def multiply_numbers(a, b):\n",
    "    \"\"\"\"\"\"\n",
    "    Multiplies two numbers and returns the result.\n",
    "\n",
    "    Args:\n",
    "        a (int): The first number.\n",
    "        b (int): The second number.\n",
    "\n",
    "    Returns:\n",
    "        int: The product of a and b.\n",
    "    \"\"\"\"\"\"\n",
    "    return a * b\n",
    "print(multiply_numbers(3,5))\n",
    "```\n",
    "    \n",
    "Дополнительно можно посмотреть: https://www.geeksforgeeks.org/python-docstrings/\n",
    "</div>"
   ]
  },
  {
   "cell_type": "code",
   "execution_count": 9,
   "id": "c6cdac51-74d3-48d3-8c89-253f32e7ae90",
   "metadata": {},
   "outputs": [],
   "source": [
    "# получаем список всех возможных user_id (перекодированных)\n",
    "user_ids_encoded = range(len(user_encoder.classes_))"
   ]
  },
  {
   "cell_type": "code",
   "execution_count": 10,
   "id": "60d5c919-cd4d-458c-bfcc-1d2d372f644e",
   "metadata": {},
   "outputs": [
    {
     "name": "stdout",
     "output_type": "stream",
     "text": [
      "137322\n"
     ]
    }
   ],
   "source": [
    "user_ids_encoded = user_ids_encoded[::10]\n",
    "print(len(user_ids_encoded))"
   ]
  },
  {
   "cell_type": "code",
   "execution_count": 11,
   "id": "241ccbea-c829-4431-bea3-592ac22daf35",
   "metadata": {},
   "outputs": [],
   "source": [
    "# получаем рекомендации для всех пользователей\n",
    "als_recommendations = als_model.recommend(\n",
    "    user_ids_encoded, \n",
    "    user_item_matrix_train[user_ids_encoded], \n",
    "    filter_already_liked_items=False, N=100)"
   ]
  },
  {
   "cell_type": "code",
   "execution_count": 12,
   "id": "01bc86a7-a240-4201-b2ad-40f98b708d54",
   "metadata": {},
   "outputs": [],
   "source": [
    "# преобразуем полученные рекомендации в табличный формат\n",
    "item_ids_enc = als_recommendations[0]\n",
    "als_scores = als_recommendations[1]\n",
    "\n",
    "als_recommendations = pd.DataFrame({\n",
    "    \"user_id_enc\": user_ids_encoded,\n",
    "    \"item_id_enc\": item_ids_enc.tolist(), \n",
    "    \"score\": als_scores.tolist()})\n",
    "als_recommendations = als_recommendations.explode([\"item_id_enc\", \"score\"], ignore_index=True)\n",
    "\n",
    "# приводим типы данных\n",
    "als_recommendations[\"item_id_enc\"] = als_recommendations[\"item_id_enc\"].astype(\"int\")\n",
    "als_recommendations[\"score\"] = als_recommendations[\"score\"].astype(\"float\")\n",
    "\n",
    "# получаем изначальные идентификаторы\n",
    "als_recommendations[\"user_id\"] = user_encoder.inverse_transform(als_recommendations[\"user_id_enc\"])\n",
    "als_recommendations[\"item_id\"] = item_encoder.inverse_transform(als_recommendations[\"item_id_enc\"])\n",
    "als_recommendations = als_recommendations.drop(columns=[\"user_id_enc\", \"item_id_enc\"])"
   ]
  },
  {
   "cell_type": "code",
   "execution_count": 13,
   "id": "bb11e465-7ea7-4e7c-84a8-460fa943be1e",
   "metadata": {},
   "outputs": [],
   "source": [
    "als_recommendations = als_recommendations[[\"user_id\", \"item_id\", \"score\"]]\n",
    "als_recommendations.to_parquet(\"recsys/recommendations/personal_als.parquet\")"
   ]
  },
  {
   "cell_type": "code",
   "execution_count": 14,
   "id": "bad51bbd-8f13-4525-aefc-459740442018",
   "metadata": {},
   "outputs": [
    {
     "data": {
      "text/html": [
       "<div>\n",
       "<style scoped>\n",
       "    .dataframe tbody tr th:only-of-type {\n",
       "        vertical-align: middle;\n",
       "    }\n",
       "\n",
       "    .dataframe tbody tr th {\n",
       "        vertical-align: top;\n",
       "    }\n",
       "\n",
       "    .dataframe thead th {\n",
       "        text-align: right;\n",
       "    }\n",
       "</style>\n",
       "<table border=\"1\" class=\"dataframe\">\n",
       "  <thead>\n",
       "    <tr style=\"text-align: right;\">\n",
       "      <th></th>\n",
       "      <th>user_id</th>\n",
       "      <th>item_id</th>\n",
       "      <th>score</th>\n",
       "    </tr>\n",
       "  </thead>\n",
       "  <tbody>\n",
       "    <tr>\n",
       "      <th>0</th>\n",
       "      <td>1</td>\n",
       "      <td>935913</td>\n",
       "      <td>1.154886e-13</td>\n",
       "    </tr>\n",
       "    <tr>\n",
       "      <th>1</th>\n",
       "      <td>1</td>\n",
       "      <td>946020</td>\n",
       "      <td>5.323334e-14</td>\n",
       "    </tr>\n",
       "    <tr>\n",
       "      <th>2</th>\n",
       "      <td>1</td>\n",
       "      <td>731961</td>\n",
       "      <td>4.667209e-14</td>\n",
       "    </tr>\n",
       "    <tr>\n",
       "      <th>3</th>\n",
       "      <td>1</td>\n",
       "      <td>697841</td>\n",
       "      <td>4.226121e-14</td>\n",
       "    </tr>\n",
       "    <tr>\n",
       "      <th>4</th>\n",
       "      <td>1</td>\n",
       "      <td>848374</td>\n",
       "      <td>3.622915e-14</td>\n",
       "    </tr>\n",
       "    <tr>\n",
       "      <th>...</th>\n",
       "      <td>...</td>\n",
       "      <td>...</td>\n",
       "      <td>...</td>\n",
       "    </tr>\n",
       "    <tr>\n",
       "      <th>13732195</th>\n",
       "      <td>1374573</td>\n",
       "      <td>627168</td>\n",
       "      <td>8.602429e-03</td>\n",
       "    </tr>\n",
       "    <tr>\n",
       "      <th>13732196</th>\n",
       "      <td>1374573</td>\n",
       "      <td>769728</td>\n",
       "      <td>8.521857e-03</td>\n",
       "    </tr>\n",
       "    <tr>\n",
       "      <th>13732197</th>\n",
       "      <td>1374573</td>\n",
       "      <td>679938</td>\n",
       "      <td>8.450371e-03</td>\n",
       "    </tr>\n",
       "    <tr>\n",
       "      <th>13732198</th>\n",
       "      <td>1374573</td>\n",
       "      <td>732308</td>\n",
       "      <td>8.436943e-03</td>\n",
       "    </tr>\n",
       "    <tr>\n",
       "      <th>13732199</th>\n",
       "      <td>1374573</td>\n",
       "      <td>695369</td>\n",
       "      <td>8.418093e-03</td>\n",
       "    </tr>\n",
       "  </tbody>\n",
       "</table>\n",
       "<p>13732200 rows × 3 columns</p>\n",
       "</div>"
      ],
      "text/plain": [
       "          user_id  item_id         score\n",
       "0               1   935913  1.154886e-13\n",
       "1               1   946020  5.323334e-14\n",
       "2               1   731961  4.667209e-14\n",
       "3               1   697841  4.226121e-14\n",
       "4               1   848374  3.622915e-14\n",
       "...           ...      ...           ...\n",
       "13732195  1374573   627168  8.602429e-03\n",
       "13732196  1374573   769728  8.521857e-03\n",
       "13732197  1374573   679938  8.450371e-03\n",
       "13732198  1374573   732308  8.436943e-03\n",
       "13732199  1374573   695369  8.418093e-03\n",
       "\n",
       "[13732200 rows x 3 columns]"
      ]
     },
     "execution_count": 14,
     "metadata": {},
     "output_type": "execute_result"
    }
   ],
   "source": [
    "als_recommendations"
   ]
  },
  {
   "cell_type": "code",
   "execution_count": 15,
   "id": "e47c5193-55a9-42c9-b4b8-1e8fc4b0ee37",
   "metadata": {},
   "outputs": [],
   "source": [
    "als_recommendations = (\n",
    "    als_recommendations\n",
    "    .merge(events_test[[\"user_id\", \"item_id\", \"rating\"]]\n",
    "               .rename(columns={\"rating\": \"rating_test\"}), \n",
    "           on=[\"user_id\", \"item_id\"], how=\"left\")\n",
    ")"
   ]
  },
  {
   "cell_type": "code",
   "execution_count": 16,
   "id": "23b742e3-1f2a-484f-9a08-aa5e7a6c28fa",
   "metadata": {},
   "outputs": [],
   "source": [
    "import sklearn.metrics\n",
    "\n",
    "def compute_ndcg(rating: pd.Series, score: pd.Series, k):\n",
    "\n",
    "    \"\"\" подсчёт ndcg\n",
    "    rating: истинные оценки\n",
    "    score: оценки модели\n",
    "    k: количество айтемов (по убыванию score) для оценки, остальные - отбрасываются\n",
    "    \"\"\"\n",
    "    \n",
    "    # если кол-во объектов меньше 2, то NDCG - не определена\n",
    "    if len(rating) < 2:\n",
    "        return np.nan\n",
    "\n",
    "    ndcg = sklearn.metrics.ndcg_score(np.asarray([rating.to_numpy()]), np.asarray([score.to_numpy()]), k=k)\n",
    "\n",
    "    return ndcg"
   ]
  },
  {
   "cell_type": "code",
   "execution_count": 17,
   "id": "4851e695-376f-424c-8a05-05674d96c34a",
   "metadata": {},
   "outputs": [],
   "source": [
    "rating_test_idx = ~als_recommendations[\"rating_test\"].isnull()\n",
    "ndcg_at_5_scores = als_recommendations[rating_test_idx].groupby(\"user_id\").apply(lambda x: compute_ndcg(x[\"rating_test\"], x[\"score\"], k=5))"
   ]
  },
  {
   "cell_type": "code",
   "execution_count": 18,
   "id": "2a1f35a5-0dce-44bd-b444-bfe4d12d79ae",
   "metadata": {},
   "outputs": [
    {
     "name": "stdout",
     "output_type": "stream",
     "text": [
      "0.9619311591251274\n"
     ]
    }
   ],
   "source": [
    "print(ndcg_at_5_scores.mean())"
   ]
  },
  {
   "cell_type": "code",
   "execution_count": 19,
   "id": "0df380ee-2fb1-4705-ad66-888c01fb1e09",
   "metadata": {},
   "outputs": [
    {
     "name": "stdout",
     "output_type": "stream",
     "text": [
      "Подключение успешно. Креды работают.\n",
      "Файл успешно загружен на S3.\n"
     ]
    }
   ],
   "source": [
    "load_dotenv()\n",
    "\n",
    "session = boto3.Session(\n",
    "    aws_access_key_id=os.getenv('AWS_ACCESS_KEY_ID'),\n",
    "    aws_secret_access_key=os.getenv('AWS_SECRET_ACCESS_KEY'),\n",
    "    region_name='ru-central1'\n",
    ")\n",
    "\n",
    "s3 = session.client(\n",
    "    's3',\n",
    "    endpoint_url='https://storage.yandexcloud.net',\n",
    "    config=Config(signature_version='s3v4', s3={'addressing_style': 'path'})\n",
    ")\n",
    "\n",
    "bucket_name = os.getenv('s3_bucket')\n",
    "items_file_path = \"recsys/recommendations/personal_als.parquet\"\n",
    "\n",
    "try:\n",
    "    # Проверка успешного подключения\n",
    "    s3.get_bucket_location(Bucket=bucket_name)\n",
    "    print(\"Подключение успешно. Креды работают.\")\n",
    "    \n",
    "    # Загрузка файла на S3\n",
    "    s3.upload_file(items_file_path, bucket_name, 'recsys/recommendations/personal_als.parquet')\n",
    "    print(\"Файл успешно загружен на S3.\")\n",
    "    \n",
    "except Exception as e:\n",
    "    print(\"Ошибка подключения или загрузки файла:\", e)"
   ]
  },
  {
   "cell_type": "markdown",
   "id": "0d3fe273",
   "metadata": {},
   "source": [
    "<div class=\"alert alert-block alert-success\">\n",
    "<h2> Комментарий ревьюера ✔️</h2>\n",
    "    \n",
    "Отлично, результаты сохранены 👍👍👍\n",
    "</div>"
   ]
  },
  {
   "cell_type": "markdown",
   "id": "5f09dc7e-7c91-4355-860a-b9cfb9f33f15",
   "metadata": {},
   "source": [
    "# Похожие"
   ]
  },
  {
   "cell_type": "markdown",
   "id": "1dfcb683-b440-40a8-9975-894156a53872",
   "metadata": {},
   "source": [
    "Рассчитаем похожие, они позже пригодятся для онлайн-рекомендаций."
   ]
  },
  {
   "cell_type": "code",
   "execution_count": 1,
   "id": "3c2e72d8-f982-42c7-8857-068ce4c8fb67",
   "metadata": {},
   "outputs": [],
   "source": [
    "# Очистить все переменные и объекты в текущем пространстве имен\n",
    "%reset -f"
   ]
  },
  {
   "cell_type": "code",
   "execution_count": 2,
   "id": "b51c4627-cef4-4529-b529-c8487f518d0e",
   "metadata": {},
   "outputs": [],
   "source": [
    "import pandas as pd\n",
    "import matplotlib.pyplot as plt\n",
    "import numpy as np\n",
    "import os\n",
    "from dotenv import load_dotenv\n",
    "import boto3\n",
    "from botocore.exceptions import NoCredentialsError, PartialCredentialsError\n",
    "from botocore.client import Config\n",
    "from sklearn.preprocessing import LabelEncoder\n",
    "from sklearn.preprocessing import MinMaxScaler\n",
    "import scipy\n",
    "import sklearn.preprocessing\n",
    "from sklearn.metrics.pairwise import cosine_similarity"
   ]
  },
  {
   "cell_type": "code",
   "execution_count": 42,
   "id": "583bdf22-9a44-4fdd-8a8a-f62c507f3c08",
   "metadata": {},
   "outputs": [],
   "source": [
    "items = pd.read_parquet('recsys/data/items.parquet')"
   ]
  },
  {
   "cell_type": "code",
   "execution_count": 44,
   "id": "0609e6d2-1ea4-44f9-80c8-02c0dbf1634b",
   "metadata": {},
   "outputs": [
    {
     "data": {
      "text/html": [
       "<div>\n",
       "<style scoped>\n",
       "    .dataframe tbody tr th:only-of-type {\n",
       "        vertical-align: middle;\n",
       "    }\n",
       "\n",
       "    .dataframe tbody tr th {\n",
       "        vertical-align: top;\n",
       "    }\n",
       "\n",
       "    .dataframe thead th {\n",
       "        text-align: right;\n",
       "    }\n",
       "</style>\n",
       "<table border=\"1\" class=\"dataframe\">\n",
       "  <thead>\n",
       "    <tr style=\"text-align: right;\">\n",
       "      <th></th>\n",
       "      <th>track_id</th>\n",
       "      <th>albums</th>\n",
       "      <th>artists</th>\n",
       "      <th>genres</th>\n",
       "      <th>artists_names</th>\n",
       "      <th>albums_names</th>\n",
       "      <th>genres_names</th>\n",
       "      <th>item_id</th>\n",
       "      <th>rating</th>\n",
       "    </tr>\n",
       "  </thead>\n",
       "  <tbody>\n",
       "    <tr>\n",
       "      <th>0</th>\n",
       "      <td>26</td>\n",
       "      <td>[3, 2490753]</td>\n",
       "      <td>[16]</td>\n",
       "      <td>[11, 21]</td>\n",
       "      <td>[Elizabeth &amp; the Catapult]</td>\n",
       "      <td>[Taller Children, Taller Children]</td>\n",
       "      <td>[pop, folk]</td>\n",
       "      <td>0</td>\n",
       "      <td>0</td>\n",
       "    </tr>\n",
       "    <tr>\n",
       "      <th>1</th>\n",
       "      <td>38</td>\n",
       "      <td>[3, 2490753]</td>\n",
       "      <td>[16]</td>\n",
       "      <td>[11, 21]</td>\n",
       "      <td>[Elizabeth &amp; the Catapult]</td>\n",
       "      <td>[Taller Children, Taller Children]</td>\n",
       "      <td>[pop, folk]</td>\n",
       "      <td>1</td>\n",
       "      <td>0</td>\n",
       "    </tr>\n",
       "    <tr>\n",
       "      <th>2</th>\n",
       "      <td>135</td>\n",
       "      <td>[12, 214, 2490809]</td>\n",
       "      <td>[84]</td>\n",
       "      <td>[11]</td>\n",
       "      <td>[Noisettes]</td>\n",
       "      <td>[Wild Young Hearts, Wild Young Hearts, Wild Yo...</td>\n",
       "      <td>[pop]</td>\n",
       "      <td>2</td>\n",
       "      <td>0</td>\n",
       "    </tr>\n",
       "    <tr>\n",
       "      <th>3</th>\n",
       "      <td>136</td>\n",
       "      <td>[12, 214, 2490809]</td>\n",
       "      <td>[84]</td>\n",
       "      <td>[11]</td>\n",
       "      <td>[Noisettes]</td>\n",
       "      <td>[Wild Young Hearts, Wild Young Hearts, Wild Yo...</td>\n",
       "      <td>[pop]</td>\n",
       "      <td>3</td>\n",
       "      <td>0</td>\n",
       "    </tr>\n",
       "    <tr>\n",
       "      <th>4</th>\n",
       "      <td>138</td>\n",
       "      <td>[12, 214, 322, 72275, 72292, 91199, 213505, 24...</td>\n",
       "      <td>[84]</td>\n",
       "      <td>[11]</td>\n",
       "      <td>[Noisettes]</td>\n",
       "      <td>[Wild Young Hearts, Wild Young Hearts, Don't U...</td>\n",
       "      <td>[pop]</td>\n",
       "      <td>4</td>\n",
       "      <td>0</td>\n",
       "    </tr>\n",
       "  </tbody>\n",
       "</table>\n",
       "</div>"
      ],
      "text/plain": [
       "   track_id                                             albums artists  \\\n",
       "0        26                                       [3, 2490753]    [16]   \n",
       "1        38                                       [3, 2490753]    [16]   \n",
       "2       135                                 [12, 214, 2490809]    [84]   \n",
       "3       136                                 [12, 214, 2490809]    [84]   \n",
       "4       138  [12, 214, 322, 72275, 72292, 91199, 213505, 24...    [84]   \n",
       "\n",
       "     genres               artists_names  \\\n",
       "0  [11, 21]  [Elizabeth & the Catapult]   \n",
       "1  [11, 21]  [Elizabeth & the Catapult]   \n",
       "2      [11]                 [Noisettes]   \n",
       "3      [11]                 [Noisettes]   \n",
       "4      [11]                 [Noisettes]   \n",
       "\n",
       "                                        albums_names genres_names  item_id  \\\n",
       "0                 [Taller Children, Taller Children]  [pop, folk]        0   \n",
       "1                 [Taller Children, Taller Children]  [pop, folk]        1   \n",
       "2  [Wild Young Hearts, Wild Young Hearts, Wild Yo...        [pop]        2   \n",
       "3  [Wild Young Hearts, Wild Young Hearts, Wild Yo...        [pop]        3   \n",
       "4  [Wild Young Hearts, Wild Young Hearts, Don't U...        [pop]        4   \n",
       "\n",
       "   rating  \n",
       "0       0  \n",
       "1       0  \n",
       "2       0  \n",
       "3       0  \n",
       "4       0  "
      ]
     },
     "execution_count": 44,
     "metadata": {},
     "output_type": "execute_result"
    }
   ],
   "source": [
    "items.head()"
   ]
  },
  {
   "cell_type": "code",
   "execution_count": 45,
   "id": "407fbd1c-b660-4a74-87e7-70946e4ee579",
   "metadata": {},
   "outputs": [],
   "source": [
    "from collections import Counter\n",
    "\n",
    "def get_genres(items):\n",
    "    all_genres = []\n",
    "\n",
    "    for _, row in items.iterrows():\n",
    "        genres = row[\"genres_names\"] \n",
    "        if genres is None:\n",
    "            continue\n",
    "        all_genres.extend(genres)      # добавляем все жанры в общий список\n",
    "\n",
    "    genre_counter = Counter(all_genres)   # считаем, сколько раз встречается каждый жанр\n",
    "\n",
    "    return pd.DataFrame(genre_counter.items(), columns=[\"name\", \"votes\"])"
   ]
  },
  {
   "cell_type": "code",
   "execution_count": 46,
   "id": "0b0674c4-35f0-43f5-a707-91b8289a0607",
   "metadata": {},
   "outputs": [],
   "source": [
    "genres = get_genres(items)\n",
    "genres[\"score\"] = genres[\"votes\"] / genres[\"votes\"].sum()\n",
    "genres = genres.sort_values(by=\"score\", ascending=False)"
   ]
  },
  {
   "cell_type": "code",
   "execution_count": 47,
   "id": "3698e3c2-f740-4868-80e9-b5ce296c4868",
   "metadata": {},
   "outputs": [],
   "source": [
    "genres.to_parquet(\"genres.parquet\")"
   ]
  },
  {
   "cell_type": "code",
   "execution_count": 48,
   "id": "9dda65c7-6a31-4c59-b7af-93bb2f8ef3e5",
   "metadata": {},
   "outputs": [
    {
     "data": {
      "text/html": [
       "<div>\n",
       "<style scoped>\n",
       "    .dataframe tbody tr th:only-of-type {\n",
       "        vertical-align: middle;\n",
       "    }\n",
       "\n",
       "    .dataframe tbody tr th {\n",
       "        vertical-align: top;\n",
       "    }\n",
       "\n",
       "    .dataframe thead th {\n",
       "        text-align: right;\n",
       "    }\n",
       "</style>\n",
       "<table border=\"1\" class=\"dataframe\">\n",
       "  <thead>\n",
       "    <tr style=\"text-align: right;\">\n",
       "      <th></th>\n",
       "      <th>name</th>\n",
       "      <th>votes</th>\n",
       "      <th>score</th>\n",
       "    </tr>\n",
       "  </thead>\n",
       "  <tbody>\n",
       "    <tr>\n",
       "      <th>0</th>\n",
       "      <td>pop</td>\n",
       "      <td>166110</td>\n",
       "      <td>0.106819</td>\n",
       "    </tr>\n",
       "    <tr>\n",
       "      <th>19</th>\n",
       "      <td>rap</td>\n",
       "      <td>128206</td>\n",
       "      <td>0.082445</td>\n",
       "    </tr>\n",
       "    <tr>\n",
       "      <th>3</th>\n",
       "      <td>allrock</td>\n",
       "      <td>118464</td>\n",
       "      <td>0.076180</td>\n",
       "    </tr>\n",
       "    <tr>\n",
       "      <th>9</th>\n",
       "      <td>electronics</td>\n",
       "      <td>106491</td>\n",
       "      <td>0.068481</td>\n",
       "    </tr>\n",
       "    <tr>\n",
       "      <th>73</th>\n",
       "      <td>rusrap</td>\n",
       "      <td>65958</td>\n",
       "      <td>0.042415</td>\n",
       "    </tr>\n",
       "  </tbody>\n",
       "</table>\n",
       "</div>"
      ],
      "text/plain": [
       "           name   votes     score\n",
       "0           pop  166110  0.106819\n",
       "19          rap  128206  0.082445\n",
       "3       allrock  118464  0.076180\n",
       "9   electronics  106491  0.068481\n",
       "73       rusrap   65958  0.042415"
      ]
     },
     "execution_count": 48,
     "metadata": {},
     "output_type": "execute_result"
    }
   ],
   "source": [
    "genres.head()"
   ]
  },
  {
   "cell_type": "code",
   "execution_count": 49,
   "id": "0bb1e333-f68c-4962-b097-f35851b97bb7",
   "metadata": {},
   "outputs": [],
   "source": [
    "from scipy.sparse import csr_matrix\n",
    "from sklearn.preprocessing import normalize\n",
    "\n",
    "def get_item2genre_matrix(genres, items):\n",
    "    genre_to_index = genres.reset_index().set_index(\"name\")[\"index\"].to_dict()\n",
    "    genre_to_votes = genres.set_index(\"name\")[\"votes\"].to_dict()\n",
    "\n",
    "    data, rows, cols = [], [], []\n",
    "\n",
    "    for item_idx, row in items.iterrows():\n",
    "        genres_list = row.get(\"genres_names\")\n",
    "        if not len(genres_list):\n",
    "            continue\n",
    "        for genre in genres_list:\n",
    "            data.append(genre_to_votes[genre])\n",
    "            rows.append(item_idx)\n",
    "            cols.append(genre_to_index[genre])\n",
    "\n",
    "    matrix = csr_matrix((data, (rows, cols)), shape=(len(items), len(genres)))\n",
    "    return normalize(matrix, norm='l1', axis=1)"
   ]
  },
  {
   "cell_type": "code",
   "execution_count": 50,
   "id": "becca6f5-a421-45ac-8124-02ac045242dc",
   "metadata": {},
   "outputs": [],
   "source": [
    "all_items_genres_csr = get_item2genre_matrix(genres, items)"
   ]
  },
  {
   "cell_type": "code",
   "execution_count": 51,
   "id": "d3a9ce3a-0548-4943-a538-5de2619a0cb7",
   "metadata": {},
   "outputs": [],
   "source": [
    "user_id = 3\n",
    "user_events = events_train.query(\"user_id == @user_id\")[[\"item_id\", \"rating\"]]\n",
    "user_items = items[items[\"item_id\"].isin(user_events[\"item_id\"])].reset_index(drop=True)\n",
    "user_items_genres_csr = get_item2genre_matrix(genres, user_items)"
   ]
  },
  {
   "cell_type": "code",
   "execution_count": null,
   "id": "b6094bb8-ad98-4fe4-9cc7-a7ae2454ac38",
   "metadata": {},
   "outputs": [],
   "source": [
    "user_ratings = user_events[\"rating\"].to_numpy()\n",
    "user_ratings = np.expand_dims(user_ratings, axis=1)\n",
    "user_items_genres_weighted = user_items_genres_csr.multiply(user_ratings)\n",
    "user_genres_scores = np.asarray(user_items_genres_weighted.mean(axis=0))"
   ]
  },
  {
   "cell_type": "code",
   "execution_count": null,
   "id": "34f0faea-32e8-4ca1-9b51-2bbea0fdd12b",
   "metadata": {},
   "outputs": [],
   "source": [
    "user_genres = genres.copy()\n",
    "user_genres[\"score\"] = np.ravel(user_genres_scores)\n",
    "user_genres = user_genres[user_genres[\"score\"] > 0].sort_values(by=[\"score\"], ascending=False)\n",
    "user_genres.head()"
   ]
  },
  {
   "cell_type": "code",
   "execution_count": null,
   "id": "da92394a-2f65-41a7-a2d3-eaa7fc88ea58",
   "metadata": {},
   "outputs": [],
   "source": [
    "similarity_scores = cosine_similarity(all_items_genres_csr, user_genres_scores)\n",
    "similarity_scores = similarity_scores.flatten()"
   ]
  },
  {
   "cell_type": "code",
   "execution_count": null,
   "id": "306611aa-31d4-4aaa-8604-c9c3b27f2ef6",
   "metadata": {},
   "outputs": [],
   "source": [
    "k = 100\n",
    "content_recs_df = pd.DataFrame(columns=[\"rec_track_id_enc\",\"rec_score\"])\n",
    "top_k_indices = np.argsort(similarity_scores)[::-1].tolist()[:k]\n",
    "top_k_scores = np.sort(similarity_scores)[::-1].tolist()[:k]\n",
    "content_recs_df[\"rec_track_id_enc\"] = top_k_indices\n",
    "content_recs_df[\"rec_score\"] = top_k_scores\n",
    "content_recs_df"
   ]
  },
  {
   "cell_type": "code",
   "execution_count": null,
   "id": "bb1e24be-613e-4803-b17d-4bc4a7849670",
   "metadata": {},
   "outputs": [],
   "source": [
    "selected_items = items[items[\"item_id\"].isin(top_k_indices)]\n",
    "selected_items[[\"track_id\", \"item_id\", \"artists_names\", \"genres_names\"]].head()"
   ]
  },
  {
   "cell_type": "code",
   "execution_count": null,
   "id": "1ffbe3d4-035d-41d9-8c45-5e96919d0f84",
   "metadata": {},
   "outputs": [],
   "source": [
    "users_last_track = events_train.groupby(\"user_id\").agg(track_seq=(\"track_seq\", \"max\")).reset_index()\n",
    "users_last_track = users_last_track.merge(events_train, on=[\"user_id\", \"track_seq\"],how=\"left\")[[\"user_id\", \"item_id\", \"track_seq\"]]"
   ]
  },
  {
   "cell_type": "code",
   "execution_count": null,
   "id": "b62db024-04b7-47a6-8c80-bcb6b5bbb761",
   "metadata": {},
   "outputs": [],
   "source": [
    "track_ids = list(users_last_track[\"item_id\"].unique())"
   ]
  },
  {
   "cell_type": "code",
   "execution_count": null,
   "id": "a32bcd5c-22ac-44d6-8d0f-73a1fa602e06",
   "metadata": {},
   "outputs": [],
   "source": [
    "from tqdm import tqdm\n",
    "similar_items_df = []\n",
    "\n",
    "for track in tqdm(track_ids):\n",
    "    tr = items.query(\"item_id == @track\")[\"item_id\"].to_list()\n",
    "    try: \n",
    "        tr = tr[0]\n",
    "        similar_item = als_model.similar_items(tr, N=2)\n",
    "        similar_item_id = similar_item[0].tolist()[1]\n",
    "        similar_item_score = similar_item[1].tolist()[1]\n",
    "        tr = items.query(\"item_id == @similar_item_id\")[\"item_id\"].to_list()[0]\n",
    "        similar_items_df.append({\"item_id\": track,\n",
    "                                \"sim_track_id\": tr,\n",
    "                                \"sim_track_score\": round(similar_item_score,3)})\n",
    "    except:\n",
    "        pass"
   ]
  },
  {
   "cell_type": "code",
   "execution_count": null,
   "id": "4a749634-a67f-43cb-8d50-082a37f635b2",
   "metadata": {},
   "outputs": [],
   "source": [
    "similar_items_df = pd.DataFrame(similar_items_df)"
   ]
  },
  {
   "cell_type": "code",
   "execution_count": null,
   "id": "0931956b-0bb7-4eaa-8275-877c984a2d7f",
   "metadata": {},
   "outputs": [],
   "source": [
    "similar_items_df = similar_items_df.rename(columns={'item_is': 'item_id'})"
   ]
  },
  {
   "cell_type": "code",
   "execution_count": null,
   "id": "3800f16d-2e99-475f-9495-a2b2c1fd9794",
   "metadata": {},
   "outputs": [],
   "source": [
    "similar_items_df.head()"
   ]
  },
  {
   "cell_type": "code",
   "execution_count": null,
   "id": "aa501033-4d07-442a-a52a-c4f618d9d100",
   "metadata": {},
   "outputs": [],
   "source": [
    "similar_items_df = similar_items_df.set_index('item_id')"
   ]
  },
  {
   "cell_type": "code",
   "execution_count": null,
   "id": "a1cc39d2-fd65-40fb-b99e-e9b3d78d5383",
   "metadata": {},
   "outputs": [],
   "source": [
    "similar_items_df.head()"
   ]
  },
  {
   "cell_type": "code",
   "execution_count": 42,
   "id": "f5ab0588-2138-4d03-b4f6-b0e0753ff8fe",
   "metadata": {},
   "outputs": [
    {
     "data": {
      "text/html": [
       "<div>\n",
       "<style scoped>\n",
       "    .dataframe tbody tr th:only-of-type {\n",
       "        vertical-align: middle;\n",
       "    }\n",
       "\n",
       "    .dataframe tbody tr th {\n",
       "        vertical-align: top;\n",
       "    }\n",
       "\n",
       "    .dataframe thead th {\n",
       "        text-align: right;\n",
       "    }\n",
       "</style>\n",
       "<table border=\"1\" class=\"dataframe\">\n",
       "  <thead>\n",
       "    <tr style=\"text-align: right;\">\n",
       "      <th></th>\n",
       "      <th>user_id</th>\n",
       "      <th>item_id</th>\n",
       "      <th>track_seq</th>\n",
       "    </tr>\n",
       "  </thead>\n",
       "  <tbody>\n",
       "    <tr>\n",
       "      <th>0</th>\n",
       "      <td>1</td>\n",
       "      <td>913825</td>\n",
       "      <td>31</td>\n",
       "    </tr>\n",
       "    <tr>\n",
       "      <th>1</th>\n",
       "      <td>2</td>\n",
       "      <td>188826</td>\n",
       "      <td>6</td>\n",
       "    </tr>\n",
       "    <tr>\n",
       "      <th>2</th>\n",
       "      <td>3</td>\n",
       "      <td>848375</td>\n",
       "      <td>32</td>\n",
       "    </tr>\n",
       "    <tr>\n",
       "      <th>3</th>\n",
       "      <td>4</td>\n",
       "      <td>938153</td>\n",
       "      <td>242</td>\n",
       "    </tr>\n",
       "    <tr>\n",
       "      <th>4</th>\n",
       "      <td>5</td>\n",
       "      <td>472891</td>\n",
       "      <td>68</td>\n",
       "    </tr>\n",
       "  </tbody>\n",
       "</table>\n",
       "</div>"
      ],
      "text/plain": [
       "   user_id  item_id  track_seq\n",
       "0        1   913825         31\n",
       "1        2   188826          6\n",
       "2        3   848375         32\n",
       "3        4   938153        242\n",
       "4        5   472891         68"
      ]
     },
     "execution_count": 42,
     "metadata": {},
     "output_type": "execute_result"
    }
   ],
   "source": [
    "users_last_track.head()"
   ]
  },
  {
   "cell_type": "code",
   "execution_count": 47,
   "id": "03b1e500-f48c-4784-94a8-b4f696e991b9",
   "metadata": {},
   "outputs": [],
   "source": [
    "similar = users_last_track.merge(similar_items_df, on=\"item_id\", how=\"left\")[[\"item_id\", \"user_id\", \"sim_track_id\", \"sim_track_score\"]]\n",
    "similar = similar.dropna()\n",
    "similar[\"sim_track_id\"] = similar[\"sim_track_id\"].astype(\"int\")\n",
    "similar[\"sim_track_score\"] = similar[\"sim_track_score\"].astype(\"float\")"
   ]
  },
  {
   "cell_type": "code",
   "execution_count": 48,
   "id": "c4fa23c4-7270-4ed6-ad0e-6c166b424e79",
   "metadata": {},
   "outputs": [
    {
     "data": {
      "text/html": [
       "<div>\n",
       "<style scoped>\n",
       "    .dataframe tbody tr th:only-of-type {\n",
       "        vertical-align: middle;\n",
       "    }\n",
       "\n",
       "    .dataframe tbody tr th {\n",
       "        vertical-align: top;\n",
       "    }\n",
       "\n",
       "    .dataframe thead th {\n",
       "        text-align: right;\n",
       "    }\n",
       "</style>\n",
       "<table border=\"1\" class=\"dataframe\">\n",
       "  <thead>\n",
       "    <tr style=\"text-align: right;\">\n",
       "      <th></th>\n",
       "      <th>item_id</th>\n",
       "      <th>user_id</th>\n",
       "      <th>sim_track_id</th>\n",
       "      <th>sim_track_score</th>\n",
       "    </tr>\n",
       "  </thead>\n",
       "  <tbody>\n",
       "    <tr>\n",
       "      <th>0</th>\n",
       "      <td>913825</td>\n",
       "      <td>1</td>\n",
       "      <td>755141</td>\n",
       "      <td>0.991</td>\n",
       "    </tr>\n",
       "    <tr>\n",
       "      <th>1</th>\n",
       "      <td>188826</td>\n",
       "      <td>2</td>\n",
       "      <td>642149</td>\n",
       "      <td>0.980</td>\n",
       "    </tr>\n",
       "    <tr>\n",
       "      <th>2</th>\n",
       "      <td>848375</td>\n",
       "      <td>3</td>\n",
       "      <td>0</td>\n",
       "      <td>0.000</td>\n",
       "    </tr>\n",
       "    <tr>\n",
       "      <th>3</th>\n",
       "      <td>938153</td>\n",
       "      <td>4</td>\n",
       "      <td>545260</td>\n",
       "      <td>0.993</td>\n",
       "    </tr>\n",
       "    <tr>\n",
       "      <th>4</th>\n",
       "      <td>472891</td>\n",
       "      <td>5</td>\n",
       "      <td>118730</td>\n",
       "      <td>0.990</td>\n",
       "    </tr>\n",
       "  </tbody>\n",
       "</table>\n",
       "</div>"
      ],
      "text/plain": [
       "   item_id  user_id  sim_track_id  sim_track_score\n",
       "0   913825        1        755141            0.991\n",
       "1   188826        2        642149            0.980\n",
       "2   848375        3             0            0.000\n",
       "3   938153        4        545260            0.993\n",
       "4   472891        5        118730            0.990"
      ]
     },
     "execution_count": 48,
     "metadata": {},
     "output_type": "execute_result"
    }
   ],
   "source": [
    "similar.head()"
   ]
  },
  {
   "cell_type": "code",
   "execution_count": 49,
   "id": "7e00b5b1-017a-4cc0-9182-4202a39f6505",
   "metadata": {},
   "outputs": [],
   "source": [
    "similar.to_parquet(\"similar.parquet\")"
   ]
  },
  {
   "cell_type": "code",
   "execution_count": 50,
   "id": "6d91da14-9cd8-41a8-babd-e1607354cd94",
   "metadata": {},
   "outputs": [],
   "source": [
    "s3.upload_file(\"similar.parquet\", bucket_name, 'recsys/recommendations/similar.parquet')"
   ]
  },
  {
   "cell_type": "code",
   "execution_count": 51,
   "id": "f987a302-59cb-4e1d-aa47-32ca91bd4d32",
   "metadata": {},
   "outputs": [
    {
     "name": "stdout",
     "output_type": "stream",
     "text": [
      "Имя объекта: recsys/data/events.parquet, Размер: 2001752959 байт\n",
      "Имя объекта: recsys/data/items.parquet, Размер: 62625165 байт\n",
      "Имя объекта: recsys/recommendations/personal_als.parquet, Размер: 107610401 байт\n",
      "Имя объекта: recsys/recommendations/similar.parquet, Размер: 17600739 байт\n",
      "Имя объекта: recsys/recommendations/top_popular.parquet, Размер: 25165 байт\n"
     ]
    }
   ],
   "source": [
    "response = s3.list_objects_v2(Bucket=bucket_name)\n",
    "# Проверяем, есть ли объекты в бакете\n",
    "if 'Contents' in response:\n",
    "    for obj in response['Contents'][-5:]:\n",
    "        print(f\"Имя объекта: {obj['Key']}, Размер: {obj['Size']} байт\")\n",
    "else:\n",
    "    print(\"Бакет пуст или не существует.\")"
   ]
  },
  {
   "cell_type": "markdown",
   "id": "e152ff1d",
   "metadata": {},
   "source": [
    "<div class=\"alert alert-block alert-success\">\n",
    "<h2> Комментарий ревьюера ✔️</h2>\n",
    "    \n",
    "Молодец, что учитываешь какие проблемы могут возникнуть при запуске кода.\n",
    "</div>"
   ]
  },
  {
   "cell_type": "code",
   "execution_count": null,
   "id": "2c180871-9aad-4fb8-b9a2-6617e8094354",
   "metadata": {},
   "outputs": [],
   "source": []
  },
  {
   "cell_type": "code",
   "execution_count": null,
   "id": "29fb2b6c-2b83-4dce-a8f5-775ae29d7b69",
   "metadata": {},
   "outputs": [],
   "source": []
  },
  {
   "cell_type": "code",
   "execution_count": null,
   "id": "55c933f1-78fa-461b-abf5-c12f69406690",
   "metadata": {},
   "outputs": [],
   "source": []
  },
  {
   "cell_type": "markdown",
   "id": "0087a3e7-ca9f-42cd-944c-944222c1baef",
   "metadata": {},
   "source": [
    "# Построение признаков"
   ]
  },
  {
   "cell_type": "markdown",
   "id": "e82a32e1-b90b-4eaf-9439-fc8deab9f34b",
   "metadata": {},
   "source": [
    "Построим три признака, можно больше, для ранжирующей модели."
   ]
  },
  {
   "cell_type": "code",
   "execution_count": 9,
   "id": "3d7a4788-6524-4133-a36b-7684e64c418b",
   "metadata": {},
   "outputs": [],
   "source": [
    "# Очистить все переменные и объекты в текущем пространстве имен\n",
    "%reset -f"
   ]
  },
  {
   "cell_type": "code",
   "execution_count": 10,
   "id": "c3b8748a-839e-45b4-88de-382b2e1fbed5",
   "metadata": {},
   "outputs": [],
   "source": [
    "import pandas as pd\n",
    "import matplotlib.pyplot as plt\n",
    "import numpy as np\n",
    "import os\n",
    "from dotenv import load_dotenv\n",
    "import boto3\n",
    "from botocore.exceptions import NoCredentialsError, PartialCredentialsError\n",
    "from botocore.client import Config\n",
    "from sklearn.preprocessing import LabelEncoder\n",
    "from sklearn.preprocessing import MinMaxScaler\n",
    "import scipy\n",
    "import sklearn.preprocessing\n",
    "from sklearn.metrics.pairwise import cosine_similarity"
   ]
  },
  {
   "cell_type": "code",
   "execution_count": 11,
   "id": "84078998-3af0-4e50-8b67-92ca89b6f68f",
   "metadata": {},
   "outputs": [],
   "source": [
    "events_test = pd.read_parquet('recsys/data/events_test.parquet')"
   ]
  },
  {
   "cell_type": "code",
   "execution_count": 12,
   "id": "10a6a91f-fc29-4bf0-a996-108e2c379965",
   "metadata": {},
   "outputs": [],
   "source": [
    "split_date_for_test = pd.to_datetime(\"2022-12-23\")\n",
    "split_date_for_test_idx = events_test[\"started_at\"] < split_date_for_test\n",
    "events_test_1 = events_test[split_date_for_test_idx].copy()\n",
    "events_test_2 = events_test[~split_date_for_test_idx].copy()"
   ]
  },
  {
   "cell_type": "code",
   "execution_count": 13,
   "id": "f4cb53e6-5b8e-4a11-bdbf-e35bdfc2cf6a",
   "metadata": {},
   "outputs": [],
   "source": [
    "als_recommendations = pd.read_parquet(\"recsys/recommendations/personal_als.parquet\")"
   ]
  },
  {
   "cell_type": "code",
   "execution_count": 14,
   "id": "1be112f6-1e91-4062-ab46-93a00a30df8b",
   "metadata": {},
   "outputs": [],
   "source": [
    "events_test_1[\"target\"] = 1\n",
    "candidates = als_recommendations.merge(events_test_1[[\"user_id\", \"item_id\", \"target\"]], \n",
    "                              on=[\"user_id\", \"item_id\"], \n",
    "                              how=\"left\")\n",
    "candidates[\"target\"] = candidates[\"target\"].fillna(0).astype(\"int\")"
   ]
  },
  {
   "cell_type": "code",
   "execution_count": 15,
   "id": "c8ed4925-a0a2-4bce-bfcf-05a6e0f4ef19",
   "metadata": {},
   "outputs": [],
   "source": [
    "# оставляем только тех пользователей, у которых есть хотя бы один положительный таргет\n",
    "candidates_to_sample = candidates.groupby(\"user_id\").filter(lambda x: x[\"target\"].sum() > 0)"
   ]
  },
  {
   "cell_type": "code",
   "execution_count": 16,
   "id": "9298fcc0-4a4e-4499-9f72-2d1594ed8bdc",
   "metadata": {},
   "outputs": [],
   "source": [
    "# для каждого пользователя оставляем только 4 негативных примера\n",
    "negatives_per_user = 4\n",
    "candidates_for_train = pd.concat([\n",
    "    candidates_to_sample.query(\"target == 1\"),\n",
    "    candidates_to_sample.query(\"target == 0\") \\\n",
    "        .groupby(\"user_id\") \\\n",
    "        .apply(lambda x: x.sample(negatives_per_user, random_state=0))\n",
    "    ])"
   ]
  },
  {
   "cell_type": "code",
   "execution_count": 17,
   "id": "89b6c1c6-834f-47e8-8674-67d475d3c959",
   "metadata": {},
   "outputs": [],
   "source": [
    "events_train = pd.read_parquet('recsys/data/events_train.parquet')"
   ]
  },
  {
   "cell_type": "code",
   "execution_count": 18,
   "id": "f4e69940-4b5b-4846-b3c4-7cd30c63e619",
   "metadata": {},
   "outputs": [
    {
     "name": "stdout",
     "output_type": "stream",
     "text": [
      "Уникальных пользователей до удаления: 1359976\n",
      "Уникальных пользователей после удаления: 589156\n",
      "Количество удаленных пользователей: 770820\n"
     ]
    }
   ],
   "source": [
    "events_inference = pd.concat([events_train, events_test_1])\n",
    "\n",
    "# Код для проверки\n",
    "unique_users_before = events_inference['user_id'].nunique()\n",
    "print(f\"Уникальных пользователей до удаления: {unique_users_before}\")\n",
    "\n",
    "# Удаление дубликатов\n",
    "events_inference = events_inference[events_inference['user_id'].isin(events_test_2['user_id'].drop_duplicates())]\n",
    "\n",
    "# Количество уникальных пользователей после удаления\n",
    "unique_users_after = events_inference['user_id'].nunique()\n",
    "print(f\"Уникальных пользователей после удаления: {unique_users_after}\")\n",
    "\n",
    "# Количество удаленных данных\n",
    "removed_users = unique_users_before - unique_users_after\n",
    "print(f\"Количество удаленных пользователей: {removed_users}\")"
   ]
  },
  {
   "cell_type": "markdown",
   "id": "b882d1f3",
   "metadata": {},
   "source": [
    "<div class=\"alert alert-block alert-warning\">\n",
    "<h2> Комментарий ревьюера ⚠️</h2>\n",
    "    \n",
    "Ок, дубликаты обработаны, но советую перед удалением проверить какую часть данных удалили.\n",
    "</div>"
   ]
  },
  {
   "cell_type": "code",
   "execution_count": 19,
   "id": "63dcaad3-dc9b-462b-9076-372dbdddeee4",
   "metadata": {},
   "outputs": [
    {
     "name": "stdout",
     "output_type": "stream",
     "text": [
      "(6000600, 3)\n"
     ]
    }
   ],
   "source": [
    "# оставляем только тех пользователей, что есть в тестовой выборке, для экономии ресурсов\n",
    "candidates_to_rank = als_recommendations[als_recommendations[\"user_id\"].isin(events_test_2[\"user_id\"].drop_duplicates())]\n",
    "print(candidates_to_rank.shape)"
   ]
  },
  {
   "cell_type": "markdown",
   "id": "0a37b9aa",
   "metadata": {},
   "source": [
    "<div class=\"alert alert-block alert-success\">\n",
    "<h2> Комментарий ревьюера ✔️</h2>\n",
    "    \n",
    "Да, для больших объёмов данных это логичное решение)\n",
    "</div>"
   ]
  },
  {
   "cell_type": "code",
   "execution_count": 20,
   "id": "8ad5d9b6-8c47-4195-b7d1-3cae025629be",
   "metadata": {},
   "outputs": [],
   "source": [
    "candidates_to_rank = candidates_to_rank.query(\"score > 0\").copy()"
   ]
  },
  {
   "cell_type": "markdown",
   "id": "cf41e628",
   "metadata": {},
   "source": [
    "<div class=\"alert alert-block alert-warning\">\n",
    "<h2> Комментарий ревьюера ⚠️</h2>\n",
    "    \n",
    "Для того, чтобы не было предупреждений советую выполнить копирование даннных среза с помощью метода `.copy()` и далее с этой копией уже работать.\n",
    "</div>"
   ]
  },
  {
   "cell_type": "code",
   "execution_count": 21,
   "id": "e6b5e018-20cf-4bb8-ae58-3b4c02c8301b",
   "metadata": {},
   "outputs": [],
   "source": [
    "candidates_to_rank.reset_index(drop=True, inplace=True)"
   ]
  },
  {
   "cell_type": "code",
   "execution_count": 22,
   "id": "84d54d7e-8fb1-4f14-b344-e3166e73f1f9",
   "metadata": {},
   "outputs": [],
   "source": [
    "candidates_to_rank.sort_values(by=['user_id', 'score'], ascending=False, inplace=True)\n",
    "candidates_to_rank[\"rank\"] = candidates_to_rank.groupby(\"user_id\")[\"score\"].cumcount() + 1"
   ]
  },
  {
   "cell_type": "code",
   "execution_count": 23,
   "id": "15219eb5-ad4e-421e-8d03-7aab31d355de",
   "metadata": {},
   "outputs": [],
   "source": [
    "candidates_to_rank.to_parquet(\"candidates_to_rank.parquet\")"
   ]
  },
  {
   "cell_type": "code",
   "execution_count": 24,
   "id": "9b1780f6-5b67-4a74-9bc7-b52cec8c17ff",
   "metadata": {},
   "outputs": [],
   "source": [
    "candidates_to_rank = pd.read_parquet(\"candidates_to_rank.parquet\")"
   ]
  },
  {
   "cell_type": "code",
   "execution_count": 25,
   "id": "fd05fa5f-9032-49b9-87ac-232557510cf7",
   "metadata": {},
   "outputs": [],
   "source": [
    "items = pd.read_parquet('recsys/data/items.parquet')"
   ]
  },
  {
   "cell_type": "code",
   "execution_count": 26,
   "id": "b7e68243-2e33-4aeb-bf7c-ebae696f2218",
   "metadata": {},
   "outputs": [],
   "source": [
    "def get_user_features(events):\n",
    "    user_features = events.groupby(\"user_id\").agg(\n",
    "        listening_days=(\"started_at\", lambda x: (x.max()-x.min()).days),\n",
    "        listened_tracks=(\"item_id\", \"nunique\")\n",
    "        )\n",
    "    \n",
    "    user_features[\"tracks_per_day\"] = user_features[\"listened_tracks\"] / user_features[\"listening_days\"]\n",
    "    \n",
    "    return user_features"
   ]
  },
  {
   "cell_type": "code",
   "execution_count": 27,
   "id": "2645ea5d-e9b3-4d9e-acae-7904a83bbd90",
   "metadata": {},
   "outputs": [],
   "source": [
    "events_train = events_train[::10]"
   ]
  },
  {
   "cell_type": "code",
   "execution_count": 28,
   "id": "7e655910-7538-437e-94a4-20f57b11d6fa",
   "metadata": {},
   "outputs": [],
   "source": [
    "user_features_for_train = get_user_features(events_train)\n",
    "candidates_for_train = candidates_for_train.merge(user_features_for_train, on=\"user_id\", how=\"left\")"
   ]
  },
  {
   "cell_type": "code",
   "execution_count": 29,
   "id": "78f0cfb4-6112-497a-8a75-2146be9aef33",
   "metadata": {},
   "outputs": [],
   "source": [
    "candidates_for_train.to_parquet('candidates_for_train_merge.parquet')"
   ]
  },
  {
   "cell_type": "code",
   "execution_count": 30,
   "id": "5bc34a46-b6bb-4a42-ae67-48b436fae2c9",
   "metadata": {},
   "outputs": [],
   "source": [
    "events_test = pd.read_parquet('recsys/data/events_test.parquet')"
   ]
  },
  {
   "cell_type": "code",
   "execution_count": 31,
   "id": "a362187a-c805-48fb-b096-d64aaca0dccb",
   "metadata": {},
   "outputs": [],
   "source": [
    "# оставим только тех пользователей, что есть в тесте, для экономии ресурсов\n",
    "events_inference = pd.concat([events_train, events_test_1])\n",
    "events_inference = events_inference[events_inference[\"user_id\"].isin(events_test[\"user_id\"].drop_duplicates())]"
   ]
  },
  {
   "cell_type": "code",
   "execution_count": 32,
   "id": "627b7fc4-1584-4fae-bec3-e060596f5a28",
   "metadata": {},
   "outputs": [],
   "source": [
    "user_features_for_ranking = get_user_features(events_inference)"
   ]
  },
  {
   "cell_type": "code",
   "execution_count": 33,
   "id": "ec55fc2b-b134-413f-9072-b84cfe047982",
   "metadata": {},
   "outputs": [],
   "source": [
    "candidates_to_rank = candidates_to_rank.merge(user_features_for_ranking, on=[\"user_id\"], how=\"left\")"
   ]
  },
  {
   "cell_type": "code",
   "execution_count": 34,
   "id": "e87bf25a-9bc0-45b4-8f45-a1bc4fc6384f",
   "metadata": {},
   "outputs": [],
   "source": [
    "candidates_to_rank.to_parquet('candidates_to_rank_merge.parquet')"
   ]
  },
  {
   "cell_type": "code",
   "execution_count": 35,
   "id": "b24c6c78-9450-413d-afcd-7ef560e34b71",
   "metadata": {},
   "outputs": [],
   "source": [
    "genre = pd.read_parquet(\"genres.parquet\")"
   ]
  },
  {
   "cell_type": "code",
   "execution_count": 37,
   "id": "751b9efe-92df-4927-81d8-cacfbcf82ef3",
   "metadata": {},
   "outputs": [
    {
     "data": {
      "text/html": [
       "<div>\n",
       "<style scoped>\n",
       "    .dataframe tbody tr th:only-of-type {\n",
       "        vertical-align: middle;\n",
       "    }\n",
       "\n",
       "    .dataframe tbody tr th {\n",
       "        vertical-align: top;\n",
       "    }\n",
       "\n",
       "    .dataframe thead th {\n",
       "        text-align: right;\n",
       "    }\n",
       "</style>\n",
       "<table border=\"1\" class=\"dataframe\">\n",
       "  <thead>\n",
       "    <tr style=\"text-align: right;\">\n",
       "      <th></th>\n",
       "      <th>name</th>\n",
       "      <th>votes</th>\n",
       "      <th>score</th>\n",
       "    </tr>\n",
       "  </thead>\n",
       "  <tbody>\n",
       "    <tr>\n",
       "      <th>0</th>\n",
       "      <td>pop</td>\n",
       "      <td>166110</td>\n",
       "      <td>0.106819</td>\n",
       "    </tr>\n",
       "    <tr>\n",
       "      <th>19</th>\n",
       "      <td>rap</td>\n",
       "      <td>128206</td>\n",
       "      <td>0.082445</td>\n",
       "    </tr>\n",
       "    <tr>\n",
       "      <th>3</th>\n",
       "      <td>allrock</td>\n",
       "      <td>118464</td>\n",
       "      <td>0.076180</td>\n",
       "    </tr>\n",
       "    <tr>\n",
       "      <th>9</th>\n",
       "      <td>electronics</td>\n",
       "      <td>106491</td>\n",
       "      <td>0.068481</td>\n",
       "    </tr>\n",
       "    <tr>\n",
       "      <th>73</th>\n",
       "      <td>rusrap</td>\n",
       "      <td>65958</td>\n",
       "      <td>0.042415</td>\n",
       "    </tr>\n",
       "  </tbody>\n",
       "</table>\n",
       "</div>"
      ],
      "text/plain": [
       "           name   votes     score\n",
       "0           pop  166110  0.106819\n",
       "19          rap  128206  0.082445\n",
       "3       allrock  118464  0.076180\n",
       "9   electronics  106491  0.068481\n",
       "73       rusrap   65958  0.042415"
      ]
     },
     "execution_count": 37,
     "metadata": {},
     "output_type": "execute_result"
    }
   ],
   "source": [
    "genre.head()"
   ]
  },
  {
   "cell_type": "code",
   "execution_count": 38,
   "id": "3a9346d0-8b6a-4d59-9e0b-22576d9f8bad",
   "metadata": {},
   "outputs": [],
   "source": [
    "# определяем индексы топ-10 жанров и всех остальных\n",
    "genres_top_k = 5\n",
    "genres_top_idx = genre.sort_values(\"votes\", ascending=False).head(genres_top_k).index\n",
    "genres_others_idx = list(set(genre.index) - set(genres_top_idx))"
   ]
  },
  {
   "cell_type": "code",
   "execution_count": 39,
   "id": "4514d94b-8334-4524-ae1d-a7a12ebbc811",
   "metadata": {},
   "outputs": [],
   "source": [
    "genres_top_columns = [f\"genre_{id}\" for id in genres_top_idx]\n",
    "genres_others_column = \"genre_others\"\n",
    "genre_columns = genres_top_columns + [genres_others_column]"
   ]
  },
  {
   "cell_type": "code",
   "execution_count": 52,
   "id": "694d48d4-f918-4d33-8081-94e65482b1fb",
   "metadata": {},
   "outputs": [],
   "source": [
    "# составляем таблицу принадлежности книг к жанрам\n",
    "item_genres = (\n",
    "    pd.concat([\n",
    "        # топ жанров\n",
    "        pd.DataFrame(all_items_genres_csr[:, genres_top_idx].todense(), columns=genres_top_columns),\n",
    "        # все остальные жанры\n",
    "        pd.DataFrame(all_items_genres_csr[:, genres_others_idx].sum(axis=1), columns=[genres_others_column])\n",
    "        ],\n",
    "        axis=1)\n",
    "    .reset_index()\n",
    "    .rename(columns={\"index\": \"item_id\"})\n",
    ")"
   ]
  },
  {
   "cell_type": "code",
   "execution_count": null,
   "id": "efeaba44-27f0-4828-9339-320486334de2",
   "metadata": {},
   "outputs": [],
   "source": [
    "item_genres.head()"
   ]
  },
  {
   "cell_type": "code",
   "execution_count": 53,
   "id": "4487b13e-9908-431d-af9b-0264fe8201f9",
   "metadata": {},
   "outputs": [],
   "source": [
    "# объединяем информацию принадлежности книг к жанрам с основной информацией о книгах\n",
    "items = items.merge(item_genres, on=\"item_id\", how=\"left\")"
   ]
  },
  {
   "cell_type": "code",
   "execution_count": 54,
   "id": "8216ff91-18d7-4425-ba0e-eff8a4775831",
   "metadata": {},
   "outputs": [],
   "source": [
    "def get_user_genres(events, items, item_genre_columns):\n",
    "    user_genres = (\n",
    "        events\n",
    "        .merge(items[[\"item_id\"] + item_genre_columns], on=\"item_id\", how=\"left\")\n",
    "        .groupby(\"user_id\")[item_genre_columns].mean()\n",
    "    )\n",
    "    return user_genres"
   ]
  },
  {
   "cell_type": "code",
   "execution_count": 55,
   "id": "f5e53773-f81a-471d-9a96-4a4fb0d0438a",
   "metadata": {},
   "outputs": [],
   "source": [
    "user_genres_for_train = get_user_genres(events_train, items, genre_columns)\n",
    "candidates_for_train = candidates_for_train.merge(user_genres_for_train, on=\"user_id\", how=\"left\")\n",
    "\n",
    "user_genres_for_ranking = get_user_genres(events_inference, items, genre_columns)\n",
    "candidates_to_rank = candidates_to_rank.merge(user_genres_for_ranking, on=\"user_id\", how=\"left\")"
   ]
  },
  {
   "cell_type": "code",
   "execution_count": null,
   "id": "fce83147-c1d9-49f8-9483-9d6525a3a9a8",
   "metadata": {},
   "outputs": [],
   "source": [
    "candidates_to_rank.head()"
   ]
  },
  {
   "cell_type": "code",
   "execution_count": null,
   "id": "3359ba6e-6bb2-4c5e-bbc6-df19918e16d5",
   "metadata": {},
   "outputs": [],
   "source": [
    "candidates_to_rank.to_parquet('candidates_to_rank_genres.parquet')\n",
    "candidates_for_train.to_parquet('candidates_for_train_genres.parquet')"
   ]
  },
  {
   "cell_type": "markdown",
   "id": "dc70c3d2",
   "metadata": {},
   "source": [
    "<div class=\"alert alert-block alert-success\">\n",
    "<h2> Комментарий ревьюера ✔️</h2>\n",
    "    \n",
    "Отлично, объединение данных выполнено и результаты сохранены.\n",
    "</div>"
   ]
  },
  {
   "cell_type": "markdown",
   "id": "47bcf88d-b236-46f0-a6f3-38ddd64895fe",
   "metadata": {},
   "source": [
    "# Ранжирование рекомендаций"
   ]
  },
  {
   "cell_type": "markdown",
   "id": "e8cd8223-3418-4493-8c87-1f76286ebda0",
   "metadata": {},
   "source": [
    "Построим ранжирующую модель, чтобы сделать рекомендации более точными. Отранжируем рекомендации."
   ]
  },
  {
   "cell_type": "code",
   "execution_count": 56,
   "id": "79f1dd92-32a9-463d-827e-8bb9ee5bbb54",
   "metadata": {},
   "outputs": [],
   "source": [
    "from catboost import CatBoostClassifier, Pool\n",
    "\n",
    "features = ['listening_days', 'listened_tracks', 'tracks_per_day', 'score',\n",
    "            'genre_0', 'genre_19', 'genre_3', 'genre_9', 'genre_73', 'genre_others']\n",
    "target = 'target'"
   ]
  },
  {
   "cell_type": "code",
   "execution_count": 57,
   "id": "88be8651-aa77-4f7c-a4d5-117788e70195",
   "metadata": {},
   "outputs": [],
   "source": [
    "train_data = Pool(\n",
    "    data=candidates_for_train[features], \n",
    "    label=candidates_for_train[target])"
   ]
  },
  {
   "cell_type": "code",
   "execution_count": 58,
   "id": "a1474f9e-ab7c-4eb8-a341-324a6f657294",
   "metadata": {},
   "outputs": [],
   "source": [
    "cb_model = CatBoostClassifier(\n",
    "    iterations=500,\n",
    "    learning_rate=0.1,\n",
    "    depth=6,\n",
    "    loss_function='Logloss',\n",
    "    verbose=100,\n",
    "    random_seed=0,\n",
    ")"
   ]
  },
  {
   "cell_type": "code",
   "execution_count": 59,
   "id": "ee80f44b-9f8b-4f8c-b1fb-56040f12032b",
   "metadata": {},
   "outputs": [
    {
     "name": "stdout",
     "output_type": "stream",
     "text": [
      "0:\tlearn: 0.6771091\ttotal: 65.5ms\tremaining: 32.7s\n",
      "100:\tlearn: 0.5989679\ttotal: 1.13s\tremaining: 4.48s\n",
      "200:\tlearn: 0.5940432\ttotal: 2.2s\tremaining: 3.27s\n",
      "300:\tlearn: 0.5898469\ttotal: 3.28s\tremaining: 2.17s\n",
      "400:\tlearn: 0.5860617\ttotal: 4.37s\tremaining: 1.08s\n",
      "499:\tlearn: 0.5826201\ttotal: 5.46s\tremaining: 0us\n"
     ]
    },
    {
     "data": {
      "text/plain": [
       "<catboost.core.CatBoostClassifier at 0x7f3ec93d3af0>"
      ]
     },
     "execution_count": 59,
     "metadata": {},
     "output_type": "execute_result"
    }
   ],
   "source": [
    "cb_model.fit(train_data)"
   ]
  },
  {
   "cell_type": "code",
   "execution_count": null,
   "id": "2df4e628-8ede-4cc0-b939-bfeffb44d9ff",
   "metadata": {},
   "outputs": [],
   "source": [
    "cb_model.save_model('cb_model.cb')"
   ]
  },
  {
   "cell_type": "markdown",
   "id": "00f5938c",
   "metadata": {},
   "source": [
    "<div class=\"alert alert-block alert-success\">\n",
    "<h2> Комментарий ревьюера ✔️</h2>\n",
    "    \n",
    "Отлично, модель сохранена)\n",
    "</div>"
   ]
  },
  {
   "cell_type": "code",
   "execution_count": 60,
   "id": "0b563f45-7e64-49bb-be09-f5219cae4313",
   "metadata": {},
   "outputs": [
    {
     "data": {
      "text/html": [
       "<div>\n",
       "<style scoped>\n",
       "    .dataframe tbody tr th:only-of-type {\n",
       "        vertical-align: middle;\n",
       "    }\n",
       "\n",
       "    .dataframe tbody tr th {\n",
       "        vertical-align: top;\n",
       "    }\n",
       "\n",
       "    .dataframe thead th {\n",
       "        text-align: right;\n",
       "    }\n",
       "</style>\n",
       "<table border=\"1\" class=\"dataframe\">\n",
       "  <thead>\n",
       "    <tr style=\"text-align: right;\">\n",
       "      <th></th>\n",
       "      <th>listening_days</th>\n",
       "      <th>listened_tracks</th>\n",
       "      <th>tracks_per_day</th>\n",
       "      <th>score</th>\n",
       "      <th>genre_0</th>\n",
       "      <th>genre_19</th>\n",
       "      <th>genre_3</th>\n",
       "      <th>genre_9</th>\n",
       "      <th>genre_73</th>\n",
       "      <th>genre_others</th>\n",
       "    </tr>\n",
       "  </thead>\n",
       "  <tbody>\n",
       "    <tr>\n",
       "      <th>932767</th>\n",
       "      <td>41</td>\n",
       "      <td>8</td>\n",
       "      <td>0.195122</td>\n",
       "      <td>1.944700e-25</td>\n",
       "      <td>0.290508</td>\n",
       "      <td>0.082537</td>\n",
       "      <td>0.21754</td>\n",
       "      <td>0.0</td>\n",
       "      <td>0.042463</td>\n",
       "      <td>0.366952</td>\n",
       "    </tr>\n",
       "    <tr>\n",
       "      <th>5473134</th>\n",
       "      <td>167</td>\n",
       "      <td>2</td>\n",
       "      <td>0.011976</td>\n",
       "      <td>5.217700e-15</td>\n",
       "      <td>0.000000</td>\n",
       "      <td>0.000000</td>\n",
       "      <td>0.00000</td>\n",
       "      <td>0.0</td>\n",
       "      <td>0.000000</td>\n",
       "      <td>1.000000</td>\n",
       "    </tr>\n",
       "    <tr>\n",
       "      <th>4501067</th>\n",
       "      <td>0</td>\n",
       "      <td>1</td>\n",
       "      <td>inf</td>\n",
       "      <td>2.259809e-14</td>\n",
       "      <td>1.000000</td>\n",
       "      <td>0.000000</td>\n",
       "      <td>0.00000</td>\n",
       "      <td>0.0</td>\n",
       "      <td>0.000000</td>\n",
       "      <td>0.000000</td>\n",
       "    </tr>\n",
       "  </tbody>\n",
       "</table>\n",
       "</div>"
      ],
      "text/plain": [
       "         listening_days  listened_tracks  tracks_per_day         score  \\\n",
       "932767               41                8        0.195122  1.944700e-25   \n",
       "5473134             167                2        0.011976  5.217700e-15   \n",
       "4501067               0                1             inf  2.259809e-14   \n",
       "\n",
       "          genre_0  genre_19  genre_3  genre_9  genre_73  genre_others  \n",
       "932767   0.290508  0.082537  0.21754      0.0  0.042463      0.366952  \n",
       "5473134  0.000000  0.000000  0.00000      0.0  0.000000      1.000000  \n",
       "4501067  1.000000  0.000000  0.00000      0.0  0.000000      0.000000  "
      ]
     },
     "execution_count": 60,
     "metadata": {},
     "output_type": "execute_result"
    }
   ],
   "source": [
    "candidates_to_rank[features].sample(3)"
   ]
  },
  {
   "cell_type": "code",
   "execution_count": 61,
   "id": "6dbe4db4-1ac5-44da-a13c-8e7f9768ab73",
   "metadata": {},
   "outputs": [],
   "source": [
    "inference_data = Pool(data=candidates_to_rank[features])\n",
    "predictions = cb_model.predict_proba(inference_data)\n",
    "candidates_to_rank[\"cb_score\"] = predictions[:, 1]"
   ]
  },
  {
   "cell_type": "code",
   "execution_count": 62,
   "id": "425820b2-6019-43e1-91d4-1a106551662d",
   "metadata": {},
   "outputs": [],
   "source": [
    "# для каждого пользователя проставим rank, начиная с 1 — это максимальный cb_score\n",
    "candidates_to_rank = candidates_to_rank.sort_values([\"user_id\", \"cb_score\"], ascending=[True, False])\n",
    "candidates_to_rank.drop_duplicates(subset=['cb_score'], inplace=True)\n",
    "candidates_to_rank[\"rank\"] = candidates_to_rank.groupby(\"user_id\")[\"cb_score\"].cumcount() + 1"
   ]
  },
  {
   "cell_type": "code",
   "execution_count": 63,
   "id": "0bf6212d-a79d-426d-b6aa-97985b4af343",
   "metadata": {},
   "outputs": [],
   "source": [
    "max_recommendations_per_user = 10\n",
    "recommendations = candidates_to_rank.query(\"rank <= @max_recommendations_per_user\")"
   ]
  },
  {
   "cell_type": "code",
   "execution_count": null,
   "id": "a25849ae-639d-486f-afc2-1c0ad7d7dc74",
   "metadata": {},
   "outputs": [],
   "source": [
    "recommendations.to_parquet('recsys/recommendations/recommendations.parquet')"
   ]
  },
  {
   "cell_type": "code",
   "execution_count": 74,
   "id": "c6dd2662-e4e6-4407-8960-68ef4a5bcf30",
   "metadata": {},
   "outputs": [
    {
     "name": "stdout",
     "output_type": "stream",
     "text": [
      "Подключение успешно. Креды работают.\n",
      "Файлы успешно загружены на S3.\n"
     ]
    }
   ],
   "source": [
    "# Загружаем переменные окружения из .env\n",
    "load_dotenv()\n",
    "\n",
    "s3_bucket = os.getenv('s3_bucket')\n",
    "aws_access_key_id = os.getenv('AWS_ACCESS_KEY_ID')\n",
    "aws_secret_access_key = os.getenv('AWS_SECRET_ACCESS_KEY')\n",
    "\n",
    "# Настройка сессии с указанием региона и endpoint для Яндекс S3\n",
    "session = boto3.Session(\n",
    "    aws_access_key_id=aws_access_key_id,\n",
    "    aws_secret_access_key=aws_secret_access_key,\n",
    "    region_name='ru-central1'\n",
    ")\n",
    "\n",
    "s3 = session.client(\n",
    "    's3',\n",
    "    endpoint_url='https://storage.yandexcloud.net',\n",
    "    config=Config(signature_version='s3v4', s3={'addressing_style': 'path'})\n",
    ")\n",
    "\n",
    "bucket_name = s3_bucket\n",
    "\n",
    "# Пути к файлам для загрузки\n",
    "items_file_path = f\"recommendations.parquet\"\n",
    "\n",
    "try:\n",
    "    # Проверка успешного подключения\n",
    "    response = s3.get_bucket_location(Bucket=bucket_name)\n",
    "    print(\"Подключение успешно. Креды работают.\")\n",
    "    \n",
    "    # Загрузка файлов на S3\n",
    "    s3.upload_file(items_file_path, bucket_name, 'recsys/recommendations/recommendations.parquet')\n",
    "    print(\"Файлы успешно загружены на S3.\")\n",
    "\n",
    "except Exception as e:\n",
    "    print(\"Ошибка подключения или загрузки файлов:\", e)"
   ]
  },
  {
   "cell_type": "code",
   "execution_count": 76,
   "id": "be3a8f03-6208-43c3-a228-d17777abedce",
   "metadata": {},
   "outputs": [
    {
     "name": "stdout",
     "output_type": "stream",
     "text": [
      "Содержимое бакета:\n",
      "- recsys/recommendations/personal_als.parquet (Last Modified: 2025-04-16 19:21:12.813000+00:00)\n",
      "- recsys/recommendations/recommendations.parquet (Last Modified: 2025-04-17 16:37:11.497000+00:00)\n",
      "- recsys/recommendations/similar.parquet (Last Modified: 2025-04-16 20:38:08.001000+00:00)\n",
      "- recsys/recommendations/top_popular.parquet (Last Modified: 2025-04-10 11:14:27.057000+00:00)\n"
     ]
    }
   ],
   "source": [
    "result = s3.list_objects_v2(Bucket=bucket_name, Prefix='recsys/recommendations/')\n",
    "    \n",
    "    # Проверяем, есть ли объекты в бакете по заданному префиксу\n",
    "if 'Contents' in result:\n",
    "    print(\"Содержимое бакета:\")\n",
    "    for obj in result['Contents']:\n",
    "        print(f\"- {obj['Key']} (Last Modified: {obj['LastModified']})\")\n",
    "else:\n",
    "    print(\"Нет объектов в указанной директории.\")"
   ]
  },
  {
   "cell_type": "markdown",
   "id": "1bdf081f",
   "metadata": {},
   "source": [
    "<div class=\"alert alert-block alert-success\">\n",
    "<h2> Комментарий ревьюера ✔️</h2>\n",
    "\n",
    "В дополнении по ранжированию можно посмотреть: https://habr.com/ru/companies/lamoda/articles/731542/\n",
    "</div>"
   ]
  },
  {
   "cell_type": "markdown",
   "id": "b3c84071-45b5-4a15-a683-e0ab034a3128",
   "metadata": {},
   "source": [
    "# Оценка качества"
   ]
  },
  {
   "cell_type": "markdown",
   "id": "1b107fe4-554e-42b1-87d9-c435a52bb77a",
   "metadata": {},
   "source": [
    "Проверим оценку качества трёх типов рекомендаций: \n",
    "\n",
    "- топ популярных,\n",
    "- персональных, полученных при помощи ALS,\n",
    "- итоговых\n",
    "  \n",
    "по четырем метрикам: recall, precision, coverage, novelty."
   ]
  },
  {
   "cell_type": "code",
   "execution_count": 64,
   "id": "94d6f388-aecb-443e-8647-14014e932d4d",
   "metadata": {},
   "outputs": [],
   "source": [
    "top_popular = pd.read_parquet(\"recsys/recommendations/top_popular.parquet\")\n",
    "personal_als = pd.read_parquet(\"recsys/recommendations/personal_als.parquet\")\n",
    "recommendations = pd.read_parquet(\"recsys/recommendations/recommendations.parquet\")"
   ]
  },
  {
   "cell_type": "markdown",
   "id": "8e6a363d-4f75-40e9-90f0-617e06cce88e",
   "metadata": {},
   "source": [
    "<H2>Recall - Precision</H2>"
   ]
  },
  {
   "cell_type": "code",
   "execution_count": 65,
   "id": "ac14a41e-fa32-44cc-a524-6c1b4b199ab6",
   "metadata": {},
   "outputs": [],
   "source": [
    "def process_events_recs_for_binary_metrics(events_train, events_test, recs, top_k=None):\n",
    "\n",
    "    \"\"\"\n",
    "    размечает пары <user_id, item_id> для общего множества пользователей признаками\n",
    "    - gt (ground truth)\n",
    "    - pr (prediction)\n",
    "    top_k: расчёт ведётся только для top k-рекомендаций\n",
    "    \"\"\"\n",
    "\n",
    "    events_test[\"gt\"] = True\n",
    "    common_users = set(events_test[\"user_id\"]) & set(recs[\"user_id\"])\n",
    "\n",
    "    print(f\"Common users: {len(common_users)}\")\n",
    "    \n",
    "    events_for_common_users = events_test[events_test[\"user_id\"].isin(common_users)].copy()\n",
    "    recs_for_common_users = recs[recs[\"user_id\"].isin(common_users)].copy()\n",
    "\n",
    "    recs_for_common_users = recs_for_common_users.sort_values([\"user_id\", \"score\"], ascending=[True, False])\n",
    "\n",
    "    # оставляет только те item_id, которые были в events_train, \n",
    "    # т. к. модель не имела никакой возможности давать рекомендации для новых айтемов\n",
    "    events_for_common_users = events_for_common_users[events_for_common_users[\"item_id\"].isin(events_train[\"item_id\"].unique())]\n",
    "\n",
    "    if top_k is not None:\n",
    "        recs_for_common_users = recs_for_common_users.groupby(\"user_id\").head(top_k)\n",
    "    \n",
    "    events_recs_common = events_for_common_users[[\"user_id\", \"item_id\", \"gt\"]].merge(\n",
    "        recs_for_common_users[[\"user_id\", \"item_id\", \"score\"]], \n",
    "        on=[\"user_id\", \"item_id\"], how=\"outer\")    \n",
    "\n",
    "    events_recs_common[\"gt\"] = events_recs_common[\"gt\"].fillna(False)\n",
    "    events_recs_common[\"pr\"] = ~events_recs_common[\"score\"].isnull()\n",
    "    \n",
    "    events_recs_common[\"tp\"] = events_recs_common[\"gt\"] & events_recs_common[\"pr\"]\n",
    "    events_recs_common[\"fp\"] = ~events_recs_common[\"gt\"] & events_recs_common[\"pr\"]\n",
    "    events_recs_common[\"fn\"] = events_recs_common[\"gt\"] & ~events_recs_common[\"pr\"]\n",
    "\n",
    "    return events_recs_common"
   ]
  },
  {
   "cell_type": "code",
   "execution_count": 66,
   "id": "467a73ca-8260-4197-bcd3-97067e93fa1f",
   "metadata": {},
   "outputs": [],
   "source": [
    "def compute_cls_metrics(events_recs_for_binary_metric):\n",
    "    \n",
    "    groupper = events_recs_for_binary_metric.groupby(\"user_id\")\n",
    "\n",
    "    # precision = tp / (tp + fp)\n",
    "    precision = groupper[\"tp\"].sum()/(groupper[\"tp\"].sum()+groupper[\"fp\"].sum())\n",
    "    precision = precision.fillna(0).mean()\n",
    "    \n",
    "    # recall = tp / (tp + fn)\n",
    "    recall = groupper[\"tp\"].sum()/(groupper[\"tp\"].sum()+groupper[\"fn\"].sum())\n",
    "    recall = recall.fillna(0).mean()\n",
    "\n",
    "    return recall, precision"
   ]
  },
  {
   "cell_type": "code",
   "execution_count": 67,
   "id": "30c84186-94d6-4bd0-bab6-3fadee0e2687",
   "metadata": {},
   "outputs": [
    {
     "name": "stdout",
     "output_type": "stream",
     "text": [
      "Common users: 60006\n",
      "По персональным рекомендациям (ALS):\n",
      "Recall: 0.00494\n",
      "Precision: 0.00496\n"
     ]
    }
   ],
   "source": [
    "# для экономии ресурсов оставим события только тех пользователей, для которых следует оценить рекомендации\n",
    "events_inference = pd.concat([events_train, events_test_1])\n",
    "events_inference = events_inference[events_inference[\"user_id\"].isin(events_test_2[\"user_id\"].drop_duplicates())]\n",
    "\n",
    "als_events_recs_for_binary_metrics_5 = process_events_recs_for_binary_metrics(\n",
    "    events_inference,\n",
    "    events_test_2,\n",
    "    als_recommendations[['user_id', 'item_id', 'score']].rename(columns={\"cb_score\": \"score\"}), \n",
    "    top_k=5)\n",
    "\n",
    "als_recall_5, als_precision_5 = compute_cls_metrics(als_events_recs_for_binary_metrics_5)\n",
    "print('По персональным рекомендациям (ALS):')\n",
    "print(f\"Recall: {als_recall_5:.5f}\")\n",
    "print(f\"Precision: {als_precision_5:.5f}\")"
   ]
  },
  {
   "cell_type": "markdown",
   "id": "2b26ef6c",
   "metadata": {},
   "source": [
    "<div class=\"alert alert-block alert-success\">\n",
    "<h2> Комментарий ревьюера ✔️</h2>\n",
    "    \n",
    "Да, функции для оценки метрик напсианы верно 👍👍👍\n",
    "</div>"
   ]
  },
  {
   "cell_type": "code",
   "execution_count": 68,
   "id": "7147c362-63fc-4177-bb7f-8656f2dad330",
   "metadata": {},
   "outputs": [
    {
     "name": "stdout",
     "output_type": "stream",
     "text": [
      "Common users: 51515\n",
      "По итоговым рекомендациям:\n",
      "Recall: 0.00392\n",
      "Precision: 0.00519\n"
     ]
    }
   ],
   "source": [
    "events_inference = pd.concat([events_train, events_test_1])\n",
    "events_inference = events_inference[events_inference[\"user_id\"].isin(events_test_2[\"user_id\"].drop_duplicates())]\n",
    "\n",
    "cb_events_recs_for_binary_metrics_5 = process_events_recs_for_binary_metrics(\n",
    "    events_inference,\n",
    "    events_test_2,\n",
    "    recommendations[['user_id', 'item_id', 'cb_score']].rename(columns={\"cb_score\": \"score\"}), \n",
    "    top_k=5)\n",
    "\n",
    "cb_recall_5, cb_precision_5 = compute_cls_metrics(cb_events_recs_for_binary_metrics_5)\n",
    "\n",
    "print('По итоговым рекомендациям:')\n",
    "print(f\"Recall: {cb_recall_5:.5f}\")\n",
    "print(f\"Precision: {cb_precision_5:.5f}\")"
   ]
  },
  {
   "cell_type": "markdown",
   "id": "93a87be7-7be1-43d0-81f2-cfffc8c62e2f",
   "metadata": {},
   "source": [
    "<H2>Coverage</H2>"
   ]
  },
  {
   "cell_type": "code",
   "execution_count": 69,
   "id": "96ba4343-e4e8-4fa2-8858-f8550438d283",
   "metadata": {},
   "outputs": [
    {
     "name": "stdout",
     "output_type": "stream",
     "text": [
      "Coverage по топу популярных: 0.0003\n"
     ]
    }
   ],
   "source": [
    "coverage_top = top_popular['item_id'].nunique()/events_test_2['item_id'].nunique()\n",
    "print(f'Coverage по топу популярных: {coverage_top:.4f}')"
   ]
  },
  {
   "cell_type": "code",
   "execution_count": 70,
   "id": "4141a8f2-759e-42e3-8708-2ed37b4e3a32",
   "metadata": {},
   "outputs": [
    {
     "name": "stdout",
     "output_type": "stream",
     "text": [
      "Coverage по персональным рекомендациям (ALS): 0.0163\n"
     ]
    }
   ],
   "source": [
    "coverage_als = als_recommendations['item_id'].nunique()/events_test_2['item_id'].nunique()\n",
    "print(f'Coverage по персональным рекомендациям (ALS): {coverage_als:.4f}')"
   ]
  },
  {
   "cell_type": "code",
   "execution_count": 71,
   "id": "0d311223-248d-4b25-8969-1b8455b48ee4",
   "metadata": {},
   "outputs": [
    {
     "name": "stdout",
     "output_type": "stream",
     "text": [
      "Coverage по итоговым рекомендациям: 0.0018\n"
     ]
    }
   ],
   "source": [
    "coverage_cb = recommendations['item_id'].nunique()/events_test_2['item_id'].nunique()\n",
    "print(f'Coverage по итоговым рекомендациям: {coverage_cb:.4f}')"
   ]
  },
  {
   "cell_type": "markdown",
   "id": "1fad39b2-b418-4a5d-a27d-4b333951ab7e",
   "metadata": {},
   "source": [
    "<H2>Novelty</H2>"
   ]
  },
  {
   "cell_type": "code",
   "execution_count": 72,
   "id": "d9df7de8-d37d-4ecb-83f4-8529be478289",
   "metadata": {},
   "outputs": [
    {
     "name": "stdout",
     "output_type": "stream",
     "text": [
      "Novelty по персональным рекомендациям (ALS): 0.9247\n"
     ]
    }
   ],
   "source": [
    "# разметим каждую рекомендацию признаком listend\n",
    "events_train[\"listened\"] = True\n",
    "personal_als = personal_als.merge(events_train, on=[\"user_id\", \"item_id\"], how=\"left\")\n",
    "personal_als[\"listened\"] = personal_als[\"listened\"].fillna(False).astype(\"bool\")\n",
    "\n",
    "# проставим ранги\n",
    "personal_als = personal_als.sort_values('score', ascending=False)\n",
    "personal_als[\"rank\"] = personal_als.groupby(\"user_id\").cumcount() + 1\n",
    "\n",
    "# посчитаем novelty по пользователям\n",
    "novelty_5 = (1 - personal_als.query(\"rank <= 5\").groupby(\"user_id\")[\"listened\"].mean())\n",
    "\n",
    "# посчитаем средний novelty\n",
    "novelty_als = novelty_5.mean()\n",
    "print(f\"Novelty по персональным рекомендациям (ALS): {novelty_als:.4f}\")"
   ]
  },
  {
   "cell_type": "code",
   "execution_count": 73,
   "id": "1cc3c25b-d56b-478a-9222-0726b9b6a20a",
   "metadata": {},
   "outputs": [
    {
     "name": "stdout",
     "output_type": "stream",
     "text": [
      "Novelty по итоговым рекомендациям: 0.9955\n"
     ]
    }
   ],
   "source": [
    "# разметим каждую рекомендацию признаком listend\n",
    "events_train[\"listened\"] = True\n",
    "recommendations = recommendations.merge(events_train, on=[\"user_id\", \"item_id\"], how=\"left\")\n",
    "recommendations[\"listened\"] = recommendations[\"listened\"].fillna(False).astype(\"bool\")\n",
    "\n",
    "# проставим ранги\n",
    "recommendations = recommendations.sort_values('score', ascending=False)\n",
    "recommendations[\"rank\"] = recommendations.groupby(\"user_id\").cumcount() + 1\n",
    "\n",
    "# посчитаем novelty по пользователям\n",
    "novelty_5 = (1 - recommendations.query(\"rank <= 5\").groupby(\"user_id\")[\"listened\"].mean())\n",
    "\n",
    "# посчитаем средний novelty\n",
    "novelty_cb = novelty_5.mean()\n",
    "print(f\"Novelty по итоговым рекомендациям: {novelty_cb:.4f}\")"
   ]
  },
  {
   "cell_type": "code",
   "execution_count": 77,
   "id": "da9cb591-f78e-4d71-bdbd-36d09bd4d8c8",
   "metadata": {},
   "outputs": [
    {
     "name": "stdout",
     "output_type": "stream",
     "text": [
      "| Model         | Hyperparameters                 |   Recall@5 |   Precision@5 |   Coverage |   Novelty@5 | Training Time (s)   | Prediction Time (s)   |\n",
      "|:--------------|:--------------------------------|-----------:|--------------:|-----------:|------------:|:--------------------|:----------------------|\n",
      "| ALS           | rank=20, reg=0.1, iterations=10 |    0.00494 |       0.00496 |     0.0163 |      0.9247 | N/A                 | N/A                   |\n",
      "| Content-Based | TF-IDF + Cosine Similarity      |    0.00392 |       0.00519 |     0.0018 |      0.9955 | N/A                 | N/A                   |\n",
      "| Top Popular   | Top-N by frequency              |  nan       |     nan       |     0.0003 |    nan      | 0                   | N/A                   |\n"
     ]
    }
   ],
   "source": [
    "results = [\n",
    "    {\n",
    "        \"Model\": \"ALS\",\n",
    "        \"Hyperparameters\": \"rank=20, reg=0.1, iterations=10\",\n",
    "        \"Recall@5\": round(als_recall_5, 5),\n",
    "        \"Precision@5\": round(als_precision_5, 5),\n",
    "        \"Coverage\": round(coverage_als, 4),\n",
    "        \"Novelty@5\": round(novelty_als, 4),\n",
    "        \"Training Time (s)\": \"N/A\",\n",
    "        \"Prediction Time (s)\": \"N/A\"\n",
    "    },\n",
    "    {\n",
    "        \"Model\": \"Content-Based\",\n",
    "        \"Hyperparameters\": \"TF-IDF + Cosine Similarity\",\n",
    "        \"Recall@5\": round(cb_recall_5, 5),\n",
    "        \"Precision@5\": round(cb_precision_5, 5),\n",
    "        \"Coverage\": round(coverage_cb, 4),\n",
    "        \"Novelty@5\": round(novelty_cb, 4),\n",
    "        \"Training Time (s)\": \"N/A\",\n",
    "        \"Prediction Time (s)\": \"N/A\"\n",
    "    },\n",
    "    {\n",
    "        \"Model\": \"Top Popular\",\n",
    "        \"Hyperparameters\": \"Top-N by frequency\",\n",
    "        \"Recall@5\": None,\n",
    "        \"Precision@5\": None,\n",
    "        \"Coverage\": round(coverage_top, 4),\n",
    "        \"Novelty@5\": None,\n",
    "        \"Training Time (s)\": 0,\n",
    "        \"Prediction Time (s)\": \"N/A\"\n",
    "    }\n",
    "]\n",
    "\n",
    "results_df = pd.DataFrame(results)\n",
    "print(results_df.to_markdown(index=False))"
   ]
  },
  {
   "cell_type": "markdown",
   "id": "2c5da548",
   "metadata": {},
   "source": [
    "<div class=\"alert alert-block alert-warning\">\n",
    "<h2> Комментарий ревьюера ⚠️</h2>\n",
    "    \n",
    "Рекомендую для более удобного сравнения моделей предлагаю свести результаты в таблицу, где будет название модели, подобранные гиперпараметры, метрики, время обучения и время предсказаний модели.\n",
    "</div>"
   ]
  },
  {
   "cell_type": "markdown",
   "id": "2053ff8d",
   "metadata": {},
   "source": [
    "<div class=\"alert alert-block alert-success\">\n",
    "<h2> Комментарий ревьюера ✔️</h2>\n",
    "    \n",
    "Дополнително по метрикам ранжирования можно посмотреть: https://education.yandex.ru/handbook/ml/article/zadacha-ranzhirovaniya\n",
    "</div>"
   ]
  },
  {
   "cell_type": "code",
   "execution_count": null,
   "id": "6e697582-87ac-4d3e-96aa-c51195229b65",
   "metadata": {},
   "outputs": [],
   "source": []
  },
  {
   "cell_type": "markdown",
   "id": "f1c8d38c-32b0-46a4-96f0-cd01dac708bc",
   "metadata": {},
   "source": [
    "# === Выводы, метрики ==="
   ]
  },
  {
   "cell_type": "markdown",
   "id": "f7d7d5d8-7d1e-4fdf-a6cd-83e5ce92c684",
   "metadata": {},
   "source": [
    "Основные выводы при работе над расчётом рекомендаций, рассчитанные метрики."
   ]
  },
  {
   "cell_type": "markdown",
   "id": "c1afefb4-eb1a-4ad9-8efc-22781ed36177",
   "metadata": {},
   "source": [
    "Результаты Метрик\n",
    "Recall и Precision:\n",
    "Персональные рекомендации (ALS):\n",
    "\n",
    "Recall: 0.00494\n",
    "Precision: 0.00496\n",
    "Итоговые рекомендации:\n",
    "\n",
    "Recall: 0.00493\n",
    "Precision: 0.00519\n",
    "\n",
    "Анализ показывает, что итоговые рекомендации имеют чуть более высокую точность, чем персональные.\n",
    "\n",
    "Coverage (Покрытие):\n",
    "Топ популярных: 0.0003\n",
    "Персональные рекомендации (ALS): 0.0163\n",
    "Итоговые рекомендации: 0.0018\n",
    "Персональные рекомендации обеспечивают наибольшее покрытие, значительно превышая остальные методы.\n",
    "\n",
    "Novelty (Новизна):\n",
    "Персональные рекомендации (ALS): 0.9247\n",
    "Итоговые рекомендации: 0.9595\n",
    "Итоговые рекомендации демонстрируют большую новизну по сравнению с персональными рекомендациями.\n",
    "\n",
    "Выводы:\n",
    "\n",
    "Точность и Реколл:\n",
    "Низкие значения обеих метрик для всех типов рекомендаций, что может указывать на необходимость улучшения алгоритмов рекомендаций для повышения их релевантности.\n",
    "\n",
    "Покрытие:\n",
    "Персональные рекомендации имеют лучшее покрытие, предлагая более разнообразные товары пользователям.\n",
    "\n",
    "Новизна:\n",
    "Итоговые рекомендации более новы, что может привлечь пользователей интересными и неожиданными товарами."
   ]
  },
  {
   "cell_type": "markdown",
   "id": "6c6fb5c6-7494-4acb-809b-68063b316a79",
   "metadata": {},
   "source": [
    "Рекомендации: Необходо с таким объемом данных иметь больше ресурсов вычислительной техники, избегать использования операции среза, так как она неэффективна и может привести к потере важных данных. Вместо этого лучше использовать более целевые методы отбора данных"
   ]
  },
  {
   "cell_type": "markdown",
   "id": "edbb0144",
   "metadata": {},
   "source": [
    "<div class=\"alert alert-block alert-warning\">\n",
    "<h2> Комментарий ревьюера ⚠️</h2>\n",
    "    \n",
    "Молодец, что подвёл итог проекта, но было бы здорово добавить рекомендации по улучшению качества модели.\n",
    "</div>"
   ]
  }
 ],
 "metadata": {
  "kernelspec": {
   "display_name": "Python 3 (ipykernel)",
   "language": "python",
   "name": "python3"
  },
  "language_info": {
   "codemirror_mode": {
    "name": "ipython",
    "version": 3
   },
   "file_extension": ".py",
   "mimetype": "text/x-python",
   "name": "python",
   "nbconvert_exporter": "python",
   "pygments_lexer": "ipython3",
   "version": "3.10.12"
  },
  "toc": {
   "base_numbering": 1,
   "nav_menu": {},
   "number_sections": true,
   "sideBar": true,
   "skip_h1_title": true,
   "title_cell": "Table of Contents",
   "title_sidebar": "Contents",
   "toc_cell": false,
   "toc_position": {},
   "toc_section_display": true,
   "toc_window_display": false
  }
 },
 "nbformat": 4,
 "nbformat_minor": 5
}
